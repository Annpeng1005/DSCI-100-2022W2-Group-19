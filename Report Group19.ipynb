{
 "cells": [
  {
   "cell_type": "markdown",
   "id": "9201a95f-2427-41fa-8386-4809b2818392",
   "metadata": {},
   "source": [
    "### DSCI 100 Final Report \n",
    "#### Group 19\n",
    "- Ann Peng\n",
    "- Aretas Katabaro\n",
    "- Edrick Philbertio\n",
    "- Jessie Zhao"
   ]
  },
  {
   "cell_type": "markdown",
   "id": "72c36fee-bfb9-4b8e-af20-da3e4ecbdb61",
   "metadata": {
    "tags": []
   },
   "source": [
    "# Predicting STEM Company Based On Worker's Expectation\n",
    "\n",
    "## Introduction\n",
    "\n",
    "Data science and STEM careers are growing in popularity as more businesses leverage technological advances to solve challenges and streamline operations. Among them, students who are waiting for employment or employees who want to change careers are very curious about what can be the mean factors that impact the trajectory of salaries and bonuses among the top 5 companies counts from our data. The purpose of the experiment was to determine which combination of predictors out of seven predictors \"years at work,\" \"gender,\" \"total yearly compensation,\" \"race,\" \"education,\", and \"year\" most accurately predicted a person's career in STEM and data science in order to provide application suggestions for job seekers with different work experience and salary expectations. This is to suggest that the job seekers can be more insightful and intentional with their development and career path. The dataset we will be working with is the \"Data Science and STEM Salary\" dataset from Kaggle, which contains information on numerous job titles and other criteria, and has 62,000 salary records from the leading organizations for this project. "
   ]
  },
  {
   "cell_type": "markdown",
   "id": "702a4eba-cad2-450d-bac1-42fe357308ad",
   "metadata": {},
   "source": [
    "### Method & Result\n",
    "\n",
    "Year, work experience, gender, total yearly compensation, race, and education are the quantitative variables that we have used to predict the categorical variable company. Firstly we have split the tidy data into training and testing sets. The training set is used to create recipes and fit models, while the test set is used to predict outcomes and determine the accuracy and workflow analysis. Then we made a forward selection to decide which combinations of the seven predictors yield the highest accuracy to predict the company recommendation to work on. Lastly, we visualized the prediction results and accuracy vs k for each predictor combination to compare prediction performance and accuracy better."
   ]
  },
  {
   "cell_type": "code",
   "execution_count": 1,
   "id": "9cc72d89-c1eb-4894-81db-646005f05edd",
   "metadata": {},
   "outputs": [
    {
     "name": "stderr",
     "output_type": "stream",
     "text": [
      "── \u001b[1mAttaching packages\u001b[22m ─────────────────────────────────────── tidyverse 1.3.1 ──\n",
      "\n",
      "\u001b[32m✔\u001b[39m \u001b[34mggplot2\u001b[39m 3.3.6     \u001b[32m✔\u001b[39m \u001b[34mpurrr  \u001b[39m 0.3.4\n",
      "\u001b[32m✔\u001b[39m \u001b[34mtibble \u001b[39m 3.1.7     \u001b[32m✔\u001b[39m \u001b[34mdplyr  \u001b[39m 1.0.9\n",
      "\u001b[32m✔\u001b[39m \u001b[34mtidyr  \u001b[39m 1.2.0     \u001b[32m✔\u001b[39m \u001b[34mstringr\u001b[39m 1.4.0\n",
      "\u001b[32m✔\u001b[39m \u001b[34mreadr  \u001b[39m 2.1.2     \u001b[32m✔\u001b[39m \u001b[34mforcats\u001b[39m 0.5.1\n",
      "\n",
      "── \u001b[1mConflicts\u001b[22m ────────────────────────────────────────── tidyverse_conflicts() ──\n",
      "\u001b[31m✖\u001b[39m \u001b[34mdplyr\u001b[39m::\u001b[32mfilter()\u001b[39m masks \u001b[34mstats\u001b[39m::filter()\n",
      "\u001b[31m✖\u001b[39m \u001b[34mdplyr\u001b[39m::\u001b[32mlag()\u001b[39m    masks \u001b[34mstats\u001b[39m::lag()\n",
      "\n",
      "── \u001b[1mAttaching packages\u001b[22m ────────────────────────────────────── tidymodels 1.0.0 ──\n",
      "\n",
      "\u001b[32m✔\u001b[39m \u001b[34mbroom       \u001b[39m 1.0.0     \u001b[32m✔\u001b[39m \u001b[34mrsample     \u001b[39m 1.0.0\n",
      "\u001b[32m✔\u001b[39m \u001b[34mdials       \u001b[39m 1.0.0     \u001b[32m✔\u001b[39m \u001b[34mtune        \u001b[39m 1.0.0\n",
      "\u001b[32m✔\u001b[39m \u001b[34minfer       \u001b[39m 1.0.2     \u001b[32m✔\u001b[39m \u001b[34mworkflows   \u001b[39m 1.0.0\n",
      "\u001b[32m✔\u001b[39m \u001b[34mmodeldata   \u001b[39m 1.0.0     \u001b[32m✔\u001b[39m \u001b[34mworkflowsets\u001b[39m 1.0.0\n",
      "\u001b[32m✔\u001b[39m \u001b[34mparsnip     \u001b[39m 1.0.0     \u001b[32m✔\u001b[39m \u001b[34myardstick   \u001b[39m 1.0.0\n",
      "\u001b[32m✔\u001b[39m \u001b[34mrecipes     \u001b[39m 1.0.1     \n",
      "\n",
      "── \u001b[1mConflicts\u001b[22m ───────────────────────────────────────── tidymodels_conflicts() ──\n",
      "\u001b[31m✖\u001b[39m \u001b[34mscales\u001b[39m::\u001b[32mdiscard()\u001b[39m masks \u001b[34mpurrr\u001b[39m::discard()\n",
      "\u001b[31m✖\u001b[39m \u001b[34mdplyr\u001b[39m::\u001b[32mfilter()\u001b[39m   masks \u001b[34mstats\u001b[39m::filter()\n",
      "\u001b[31m✖\u001b[39m \u001b[34mrecipes\u001b[39m::\u001b[32mfixed()\u001b[39m  masks \u001b[34mstringr\u001b[39m::fixed()\n",
      "\u001b[31m✖\u001b[39m \u001b[34mdplyr\u001b[39m::\u001b[32mlag()\u001b[39m      masks \u001b[34mstats\u001b[39m::lag()\n",
      "\u001b[31m✖\u001b[39m \u001b[34myardstick\u001b[39m::\u001b[32mspec()\u001b[39m masks \u001b[34mreadr\u001b[39m::spec()\n",
      "\u001b[31m✖\u001b[39m \u001b[34mrecipes\u001b[39m::\u001b[32mstep()\u001b[39m   masks \u001b[34mstats\u001b[39m::step()\n",
      "\u001b[34m•\u001b[39m Dig deeper into tidy modeling with R at \u001b[32mhttps://www.tmwr.org\u001b[39m\n",
      "\n",
      "Updating HTML index of packages in '.Library'\n",
      "\n",
      "Making 'packages.html' ...\n",
      " done\n",
      "\n"
     ]
    }
   ],
   "source": [
    "library(repr)\n",
    "library(tidyverse)\n",
    "library(tidymodels)\n",
    "install.packages(\"themis\")\n",
    "library(\"themis\")\n",
    "options(repr.matrix.max.rows = 6)"
   ]
  },
  {
   "cell_type": "markdown",
   "id": "3b2b9674-8e16-4a24-9490-82aedeb28a9c",
   "metadata": {},
   "source": [
    "The data we used for this project is about **Data Science and STEM Salaries**[1] taken from **Kaggle**, with the link https://www.kaggle.com/datasets/jackogozaly/data-science-and-stem-salaries\n",
    "- First, we download the data `Levels_Fyi_Salary_Data.csv` from the link above. We can see the columns available for wrangling, the detail, and a brief explanation for each column. These explanations are necessary for dropping trivial columns for our analysis.\n",
    "- Next, we upload our data to the Jupyter Notebook in the 'data' folder.\n",
    "- After that, we opened the `Levels_Fyi_Salary_Data.csv` to check that the data inside is in a comma-separated file format, with no header or additional information that might hinder the reading process.\n",
    "- Finally, we read the data using `read_csv` and assign it to a variable named `salary_data` as follows."
   ]
  },
  {
   "cell_type": "code",
   "execution_count": 2,
   "id": "164ca27f-1153-4d61-8d1c-a4bf7cc0bce4",
   "metadata": {},
   "outputs": [
    {
     "name": "stderr",
     "output_type": "stream",
     "text": [
      "\u001b[1mRows: \u001b[22m\u001b[34m62642\u001b[39m \u001b[1mColumns: \u001b[22m\u001b[34m29\u001b[39m\n",
      "\u001b[36m──\u001b[39m \u001b[1mColumn specification\u001b[22m \u001b[36m────────────────────────────────────────────────────────\u001b[39m\n",
      "\u001b[1mDelimiter:\u001b[22m \",\"\n",
      "\u001b[31mchr\u001b[39m (10): timestamp, company, level, title, location, tag, gender, otherdeta...\n",
      "\u001b[32mdbl\u001b[39m (19): totalyearlycompensation, yearsofexperience, yearsatcompany, basesa...\n",
      "\n",
      "\u001b[36mℹ\u001b[39m Use `spec()` to retrieve the full column specification for this data.\n",
      "\u001b[36mℹ\u001b[39m Specify the column types or set `show_col_types = FALSE` to quiet this message.\n"
     ]
    },
    {
     "data": {
      "text/html": [
       "<table class=\"dataframe\">\n",
       "<caption>A spec_tbl_df: 62642 × 29</caption>\n",
       "<thead>\n",
       "\t<tr><th scope=col>timestamp</th><th scope=col>company</th><th scope=col>level</th><th scope=col>title</th><th scope=col>totalyearlycompensation</th><th scope=col>location</th><th scope=col>yearsofexperience</th><th scope=col>yearsatcompany</th><th scope=col>tag</th><th scope=col>basesalary</th><th scope=col>⋯</th><th scope=col>Doctorate_Degree</th><th scope=col>Highschool</th><th scope=col>Some_College</th><th scope=col>Race_Asian</th><th scope=col>Race_White</th><th scope=col>Race_Two_Or_More</th><th scope=col>Race_Black</th><th scope=col>Race_Hispanic</th><th scope=col>Race</th><th scope=col>Education</th></tr>\n",
       "\t<tr><th scope=col>&lt;chr&gt;</th><th scope=col>&lt;chr&gt;</th><th scope=col>&lt;chr&gt;</th><th scope=col>&lt;chr&gt;</th><th scope=col>&lt;dbl&gt;</th><th scope=col>&lt;chr&gt;</th><th scope=col>&lt;dbl&gt;</th><th scope=col>&lt;dbl&gt;</th><th scope=col>&lt;chr&gt;</th><th scope=col>&lt;dbl&gt;</th><th scope=col>⋯</th><th scope=col>&lt;dbl&gt;</th><th scope=col>&lt;dbl&gt;</th><th scope=col>&lt;dbl&gt;</th><th scope=col>&lt;dbl&gt;</th><th scope=col>&lt;dbl&gt;</th><th scope=col>&lt;dbl&gt;</th><th scope=col>&lt;dbl&gt;</th><th scope=col>&lt;dbl&gt;</th><th scope=col>&lt;chr&gt;</th><th scope=col>&lt;chr&gt;</th></tr>\n",
       "</thead>\n",
       "<tbody>\n",
       "\t<tr><td>6/7/2017 11:33:27 </td><td>Oracle</td><td>L3  </td><td>Product Manager  </td><td>127000</td><td>Redwood City, CA </td><td>1.5</td><td>1.5</td><td>NA</td><td>107000</td><td>⋯</td><td>0</td><td>0</td><td>0</td><td>0</td><td>0</td><td>0</td><td>0</td><td>0</td><td>NA</td><td>NA</td></tr>\n",
       "\t<tr><td>6/10/2017 17:11:29</td><td>eBay  </td><td>SE 2</td><td>Software Engineer</td><td>100000</td><td>San Francisco, CA</td><td>5.0</td><td>3.0</td><td>NA</td><td>     0</td><td>⋯</td><td>0</td><td>0</td><td>0</td><td>0</td><td>0</td><td>0</td><td>0</td><td>0</td><td>NA</td><td>NA</td></tr>\n",
       "\t<tr><td>6/11/2017 14:53:57</td><td>Amazon</td><td>L7  </td><td>Product Manager  </td><td>310000</td><td>Seattle, WA      </td><td>8.0</td><td>0.0</td><td>NA</td><td>155000</td><td>⋯</td><td>0</td><td>0</td><td>0</td><td>0</td><td>0</td><td>0</td><td>0</td><td>0</td><td>NA</td><td>NA</td></tr>\n",
       "\t<tr><td>⋮</td><td>⋮</td><td>⋮</td><td>⋮</td><td>⋮</td><td>⋮</td><td>⋮</td><td>⋮</td><td>⋮</td><td>⋮</td><td>⋱</td><td>⋮</td><td>⋮</td><td>⋮</td><td>⋮</td><td>⋮</td><td>⋮</td><td>⋮</td><td>⋮</td><td>⋮</td><td>⋮</td></tr>\n",
       "\t<tr><td>9/13/2018 14:35:59</td><td>MSFT      </td><td>63      </td><td>Software Engineer</td><td>220000</td><td>Seattle, WA      </td><td>14</td><td>12</td><td>Full Stack</td><td>157000</td><td>⋯</td><td>0</td><td>0</td><td>0</td><td>0</td><td>0</td><td>0</td><td>0</td><td>0</td><td>NA</td><td>NA</td></tr>\n",
       "\t<tr><td>9/16/2018 16:10:35</td><td>Salesforce</td><td>Lead MTS</td><td>Software Engineer</td><td>280000</td><td>San Francisco, CA</td><td> 8</td><td> 4</td><td>iOS       </td><td>194688</td><td>⋯</td><td>0</td><td>0</td><td>0</td><td>0</td><td>0</td><td>0</td><td>0</td><td>0</td><td>NA</td><td>NA</td></tr>\n",
       "\t<tr><td>1/29/2019 5:12:59 </td><td>apple     </td><td>ict3    </td><td>Software Engineer</td><td>200000</td><td>Sunnyvale, CA    </td><td> 0</td><td> 0</td><td>ML / AI   </td><td>155000</td><td>⋯</td><td>0</td><td>0</td><td>0</td><td>0</td><td>0</td><td>0</td><td>0</td><td>0</td><td>NA</td><td>NA</td></tr>\n",
       "</tbody>\n",
       "</table>\n"
      ],
      "text/latex": [
       "A spec\\_tbl\\_df: 62642 × 29\n",
       "\\begin{tabular}{lllllllllllllllllllll}\n",
       " timestamp & company & level & title & totalyearlycompensation & location & yearsofexperience & yearsatcompany & tag & basesalary & ⋯ & Doctorate\\_Degree & Highschool & Some\\_College & Race\\_Asian & Race\\_White & Race\\_Two\\_Or\\_More & Race\\_Black & Race\\_Hispanic & Race & Education\\\\\n",
       " <chr> & <chr> & <chr> & <chr> & <dbl> & <chr> & <dbl> & <dbl> & <chr> & <dbl> & ⋯ & <dbl> & <dbl> & <dbl> & <dbl> & <dbl> & <dbl> & <dbl> & <dbl> & <chr> & <chr>\\\\\n",
       "\\hline\n",
       "\t 6/7/2017 11:33:27  & Oracle & L3   & Product Manager   & 127000 & Redwood City, CA  & 1.5 & 1.5 & NA & 107000 & ⋯ & 0 & 0 & 0 & 0 & 0 & 0 & 0 & 0 & NA & NA\\\\\n",
       "\t 6/10/2017 17:11:29 & eBay   & SE 2 & Software Engineer & 100000 & San Francisco, CA & 5.0 & 3.0 & NA &      0 & ⋯ & 0 & 0 & 0 & 0 & 0 & 0 & 0 & 0 & NA & NA\\\\\n",
       "\t 6/11/2017 14:53:57 & Amazon & L7   & Product Manager   & 310000 & Seattle, WA       & 8.0 & 0.0 & NA & 155000 & ⋯ & 0 & 0 & 0 & 0 & 0 & 0 & 0 & 0 & NA & NA\\\\\n",
       "\t ⋮ & ⋮ & ⋮ & ⋮ & ⋮ & ⋮ & ⋮ & ⋮ & ⋮ & ⋮ & ⋱ & ⋮ & ⋮ & ⋮ & ⋮ & ⋮ & ⋮ & ⋮ & ⋮ & ⋮ & ⋮\\\\\n",
       "\t 9/13/2018 14:35:59 & MSFT       & 63       & Software Engineer & 220000 & Seattle, WA       & 14 & 12 & Full Stack & 157000 & ⋯ & 0 & 0 & 0 & 0 & 0 & 0 & 0 & 0 & NA & NA\\\\\n",
       "\t 9/16/2018 16:10:35 & Salesforce & Lead MTS & Software Engineer & 280000 & San Francisco, CA &  8 &  4 & iOS        & 194688 & ⋯ & 0 & 0 & 0 & 0 & 0 & 0 & 0 & 0 & NA & NA\\\\\n",
       "\t 1/29/2019 5:12:59  & apple      & ict3     & Software Engineer & 200000 & Sunnyvale, CA     &  0 &  0 & ML / AI    & 155000 & ⋯ & 0 & 0 & 0 & 0 & 0 & 0 & 0 & 0 & NA & NA\\\\\n",
       "\\end{tabular}\n"
      ],
      "text/markdown": [
       "\n",
       "A spec_tbl_df: 62642 × 29\n",
       "\n",
       "| timestamp &lt;chr&gt; | company &lt;chr&gt; | level &lt;chr&gt; | title &lt;chr&gt; | totalyearlycompensation &lt;dbl&gt; | location &lt;chr&gt; | yearsofexperience &lt;dbl&gt; | yearsatcompany &lt;dbl&gt; | tag &lt;chr&gt; | basesalary &lt;dbl&gt; | ⋯ ⋯ | Doctorate_Degree &lt;dbl&gt; | Highschool &lt;dbl&gt; | Some_College &lt;dbl&gt; | Race_Asian &lt;dbl&gt; | Race_White &lt;dbl&gt; | Race_Two_Or_More &lt;dbl&gt; | Race_Black &lt;dbl&gt; | Race_Hispanic &lt;dbl&gt; | Race &lt;chr&gt; | Education &lt;chr&gt; |\n",
       "|---|---|---|---|---|---|---|---|---|---|---|---|---|---|---|---|---|---|---|---|---|\n",
       "| 6/7/2017 11:33:27  | Oracle | L3   | Product Manager   | 127000 | Redwood City, CA  | 1.5 | 1.5 | NA | 107000 | ⋯ | 0 | 0 | 0 | 0 | 0 | 0 | 0 | 0 | NA | NA |\n",
       "| 6/10/2017 17:11:29 | eBay   | SE 2 | Software Engineer | 100000 | San Francisco, CA | 5.0 | 3.0 | NA |      0 | ⋯ | 0 | 0 | 0 | 0 | 0 | 0 | 0 | 0 | NA | NA |\n",
       "| 6/11/2017 14:53:57 | Amazon | L7   | Product Manager   | 310000 | Seattle, WA       | 8.0 | 0.0 | NA | 155000 | ⋯ | 0 | 0 | 0 | 0 | 0 | 0 | 0 | 0 | NA | NA |\n",
       "| ⋮ | ⋮ | ⋮ | ⋮ | ⋮ | ⋮ | ⋮ | ⋮ | ⋮ | ⋮ | ⋱ | ⋮ | ⋮ | ⋮ | ⋮ | ⋮ | ⋮ | ⋮ | ⋮ | ⋮ | ⋮ |\n",
       "| 9/13/2018 14:35:59 | MSFT       | 63       | Software Engineer | 220000 | Seattle, WA       | 14 | 12 | Full Stack | 157000 | ⋯ | 0 | 0 | 0 | 0 | 0 | 0 | 0 | 0 | NA | NA |\n",
       "| 9/16/2018 16:10:35 | Salesforce | Lead MTS | Software Engineer | 280000 | San Francisco, CA |  8 |  4 | iOS        | 194688 | ⋯ | 0 | 0 | 0 | 0 | 0 | 0 | 0 | 0 | NA | NA |\n",
       "| 1/29/2019 5:12:59  | apple      | ict3     | Software Engineer | 200000 | Sunnyvale, CA     |  0 |  0 | ML / AI    | 155000 | ⋯ | 0 | 0 | 0 | 0 | 0 | 0 | 0 | 0 | NA | NA |\n",
       "\n"
      ],
      "text/plain": [
       "      timestamp          company    level    title            \n",
       "1     6/7/2017 11:33:27  Oracle     L3       Product Manager  \n",
       "2     6/10/2017 17:11:29 eBay       SE 2     Software Engineer\n",
       "3     6/11/2017 14:53:57 Amazon     L7       Product Manager  \n",
       "⋮     ⋮                  ⋮          ⋮        ⋮                \n",
       "62640 9/13/2018 14:35:59 MSFT       63       Software Engineer\n",
       "62641 9/16/2018 16:10:35 Salesforce Lead MTS Software Engineer\n",
       "62642 1/29/2019 5:12:59  apple      ict3     Software Engineer\n",
       "      totalyearlycompensation location          yearsofexperience\n",
       "1     127000                  Redwood City, CA  1.5              \n",
       "2     100000                  San Francisco, CA 5.0              \n",
       "3     310000                  Seattle, WA       8.0              \n",
       "⋮     ⋮                       ⋮                 ⋮                \n",
       "62640 220000                  Seattle, WA       14               \n",
       "62641 280000                  San Francisco, CA  8               \n",
       "62642 200000                  Sunnyvale, CA      0               \n",
       "      yearsatcompany tag        basesalary ⋯ Doctorate_Degree Highschool\n",
       "1     1.5            NA         107000     ⋯ 0                0         \n",
       "2     3.0            NA              0     ⋯ 0                0         \n",
       "3     0.0            NA         155000     ⋯ 0                0         \n",
       "⋮     ⋮              ⋮          ⋮          ⋱ ⋮                ⋮         \n",
       "62640 12             Full Stack 157000     ⋯ 0                0         \n",
       "62641  4             iOS        194688     ⋯ 0                0         \n",
       "62642  0             ML / AI    155000     ⋯ 0                0         \n",
       "      Some_College Race_Asian Race_White Race_Two_Or_More Race_Black\n",
       "1     0            0          0          0                0         \n",
       "2     0            0          0          0                0         \n",
       "3     0            0          0          0                0         \n",
       "⋮     ⋮            ⋮          ⋮          ⋮                ⋮         \n",
       "62640 0            0          0          0                0         \n",
       "62641 0            0          0          0                0         \n",
       "62642 0            0          0          0                0         \n",
       "      Race_Hispanic Race Education\n",
       "1     0             NA   NA       \n",
       "2     0             NA   NA       \n",
       "3     0             NA   NA       \n",
       "⋮     ⋮             ⋮    ⋮        \n",
       "62640 0             NA   NA       \n",
       "62641 0             NA   NA       \n",
       "62642 0             NA   NA       "
      ]
     },
     "metadata": {},
     "output_type": "display_data"
    }
   ],
   "source": [
    "salary_data <- read_csv(\"data/Levels_Fyi_Salary_Data.csv\")\n",
    "salary_data"
   ]
  },
  {
   "cell_type": "markdown",
   "id": "eae1baa5-4a63-4f53-8bf5-2bf7ef915f09",
   "metadata": {},
   "source": [
    "The dataset above contains columns as follows:\n",
    "- `timestamp`, the time when the data is recorded\n",
    "- `company`, the company where each worker is at\n",
    "- `level`, the level the obsevation is at\n",
    "- `title`, the role title of the worker\n",
    "- `totalyearlycompensation`, the total paycheck the worker receive for a year\n",
    "- `location`, the location of the company\n",
    "- `yearsofexperience`, the total working years experience a worker have\n",
    "- `yearsatcompany`, the total years a worker have been working in said company\n",
    "- `tag`, the job tag (subtitle) of the worker\n",
    "- `basesalary`, the base salary of the worker\n",
    "- `stockgrantvalue`, the stock a worker receive as compensation\n",
    "- `bonus`, the bonus a worker receive\n",
    "- `gender`, the gender of the worker\n",
    "- `otherdetails`, other details of the worker\n",
    "- `dmaid`, identification number of designated market area of the worker\n",
    "- `rowNumber`, row number of the data\n",
    "- `Masters_Degree`, `Bachelors_Degree`, `Doctorate_Degree`, `Highschool`, `Some_College`, and `Education` is the last education of the worker\n",
    "- `Race_Asian`, `Race_White`, `Race_Hispanic`, `Race_Black`, `Race_Two_Or_More`, and `Race` is the race of the worker"
   ]
  },
  {
   "cell_type": "markdown",
   "id": "5251cebe-29a8-47b7-92f0-6311ef28eeb9",
   "metadata": {},
   "source": [
    "Now, we will peek each unique values of each column, one by one"
   ]
  },
  {
   "cell_type": "code",
   "execution_count": 3,
   "id": "f356e49e-08e2-4c44-9591-d26dffe903f3",
   "metadata": {},
   "outputs": [],
   "source": [
    "peek_tag <- unique(salary_data$tag)\n",
    "#peek_tag\n",
    "peek_title <- unique(salary_data$title)\n",
    "#peek_title\n",
    "peek_education <- unique(salary_data$Education)\n",
    "#peek_education\n",
    "peek_gender <- unique(salary_data$gender)\n",
    "#peek_gender\n",
    "peek_dmaid <- unique(salary_data$dmaid)\n",
    "#peek_dmaid\n",
    "peek_otherdetails <- unique(salary_data$otherdetails)\n",
    "#peek_otherdetails\n",
    "peek_rowNumber <- unique(salary_data$rowNumber)\n",
    "#peek_rowNumber"
   ]
  },
  {
   "cell_type": "markdown",
   "id": "8930f285-2ba9-4010-98f8-0e4f1d3e8e48",
   "metadata": {},
   "source": [
    "Here, we see that the data is not yet in a tidy format:\n",
    "- There are useless columns, such as `dmaid` and `rowNumber` which are hard to be interpreted\n",
    "- There are hard-to-use columns, such as `location`, `level`, and `otherdetails` which are full of syntax problems, even though might be important in answering our predictive question\n",
    "- There are a lot of duplicated details in each observation. For example, `Education` and `Race` alone are sufficient in telling the information of race and education of the workers\n",
    "- There are a lot of missing values which can affect our classification process in the next stage"
   ]
  },
  {
   "cell_type": "markdown",
   "id": "61af359a-da52-434f-9739-7e3661659d14",
   "metadata": {},
   "source": [
    "Hence, here are several things we do to tidy the data:\n",
    "- First, we select useful columns that we want to use: `company` for what we want to predict, and the predictors: `yearsofexperience`, `totalyearlycompensation`, `gender`, `roletitle`, `year`, `Race`, and `Education`. These predictors are chosen because they are important for determining the company based on the preference of someone, e.g. some company might be more accepting towards workers having certain years of experience in some role title, some company might prefer workers having high education, and so on, which is crucial on answering our research question of which company might be more suitable for a new workers with certain predictors.\n",
    "- `year` is extracted and wrangled from the timestamp column with the function below.\n",
    "- Then, we give filter missing values `NA` of each predictor"
   ]
  },
  {
   "cell_type": "code",
   "execution_count": 4,
   "id": "2c41726f-4e6e-409b-8e54-636b3773a0e4",
   "metadata": {},
   "outputs": [
    {
     "data": {
      "text/html": [
       "<table class=\"dataframe\">\n",
       "<caption>A tibble: 21485 × 8</caption>\n",
       "<thead>\n",
       "\t<tr><th scope=col>company</th><th scope=col>yearsofexperience</th><th scope=col>totalyearlycompensation</th><th scope=col>gender</th><th scope=col>title</th><th scope=col>year</th><th scope=col>Race</th><th scope=col>Education</th></tr>\n",
       "\t<tr><th scope=col>&lt;chr&gt;</th><th scope=col>&lt;dbl&gt;</th><th scope=col>&lt;dbl&gt;</th><th scope=col>&lt;chr&gt;</th><th scope=col>&lt;chr&gt;</th><th scope=col>&lt;dbl&gt;</th><th scope=col>&lt;chr&gt;</th><th scope=col>&lt;chr&gt;</th></tr>\n",
       "</thead>\n",
       "<tbody>\n",
       "\t<tr><td>Google   </td><td>5</td><td>400000</td><td>Male</td><td>Software Engineer</td><td>2020</td><td>Asian      </td><td>PhD              </td></tr>\n",
       "\t<tr><td>Microsoft</td><td>3</td><td>136000</td><td>Male</td><td>Software Engineer</td><td>2020</td><td>Two Or More</td><td>Bachelor's Degree</td></tr>\n",
       "\t<tr><td>Google   </td><td>6</td><td>337000</td><td>Male</td><td>Software Engineer</td><td>2020</td><td>Asian      </td><td>Bachelor's Degree</td></tr>\n",
       "\t<tr><td>⋮</td><td>⋮</td><td>⋮</td><td>⋮</td><td>⋮</td><td>⋮</td><td>⋮</td><td>⋮</td></tr>\n",
       "\t<tr><td>Zapier  </td><td>16</td><td>1605000</td><td>Female</td><td>Software Engineering Manager</td><td>2021</td><td>White</td><td>Master's Degree</td></tr>\n",
       "\t<tr><td>Facebook</td><td>22</td><td>2372000</td><td>Male  </td><td>Software Engineering Manager</td><td>2021</td><td>Black</td><td>Master's Degree</td></tr>\n",
       "\t<tr><td>Facebook</td><td>17</td><td>4980000</td><td>Male  </td><td>Product Manager             </td><td>2021</td><td>Asian</td><td>Master's Degree</td></tr>\n",
       "</tbody>\n",
       "</table>\n"
      ],
      "text/latex": [
       "A tibble: 21485 × 8\n",
       "\\begin{tabular}{llllllll}\n",
       " company & yearsofexperience & totalyearlycompensation & gender & title & year & Race & Education\\\\\n",
       " <chr> & <dbl> & <dbl> & <chr> & <chr> & <dbl> & <chr> & <chr>\\\\\n",
       "\\hline\n",
       "\t Google    & 5 & 400000 & Male & Software Engineer & 2020 & Asian       & PhD              \\\\\n",
       "\t Microsoft & 3 & 136000 & Male & Software Engineer & 2020 & Two Or More & Bachelor's Degree\\\\\n",
       "\t Google    & 6 & 337000 & Male & Software Engineer & 2020 & Asian       & Bachelor's Degree\\\\\n",
       "\t ⋮ & ⋮ & ⋮ & ⋮ & ⋮ & ⋮ & ⋮ & ⋮\\\\\n",
       "\t Zapier   & 16 & 1605000 & Female & Software Engineering Manager & 2021 & White & Master's Degree\\\\\n",
       "\t Facebook & 22 & 2372000 & Male   & Software Engineering Manager & 2021 & Black & Master's Degree\\\\\n",
       "\t Facebook & 17 & 4980000 & Male   & Product Manager              & 2021 & Asian & Master's Degree\\\\\n",
       "\\end{tabular}\n"
      ],
      "text/markdown": [
       "\n",
       "A tibble: 21485 × 8\n",
       "\n",
       "| company &lt;chr&gt; | yearsofexperience &lt;dbl&gt; | totalyearlycompensation &lt;dbl&gt; | gender &lt;chr&gt; | title &lt;chr&gt; | year &lt;dbl&gt; | Race &lt;chr&gt; | Education &lt;chr&gt; |\n",
       "|---|---|---|---|---|---|---|---|\n",
       "| Google    | 5 | 400000 | Male | Software Engineer | 2020 | Asian       | PhD               |\n",
       "| Microsoft | 3 | 136000 | Male | Software Engineer | 2020 | Two Or More | Bachelor's Degree |\n",
       "| Google    | 6 | 337000 | Male | Software Engineer | 2020 | Asian       | Bachelor's Degree |\n",
       "| ⋮ | ⋮ | ⋮ | ⋮ | ⋮ | ⋮ | ⋮ | ⋮ |\n",
       "| Zapier   | 16 | 1605000 | Female | Software Engineering Manager | 2021 | White | Master's Degree |\n",
       "| Facebook | 22 | 2372000 | Male   | Software Engineering Manager | 2021 | Black | Master's Degree |\n",
       "| Facebook | 17 | 4980000 | Male   | Product Manager              | 2021 | Asian | Master's Degree |\n",
       "\n"
      ],
      "text/plain": [
       "      company   yearsofexperience totalyearlycompensation gender\n",
       "1     Google    5                 400000                  Male  \n",
       "2     Microsoft 3                 136000                  Male  \n",
       "3     Google    6                 337000                  Male  \n",
       "⋮     ⋮         ⋮                 ⋮                       ⋮     \n",
       "21483 Zapier    16                1605000                 Female\n",
       "21484 Facebook  22                2372000                 Male  \n",
       "21485 Facebook  17                4980000                 Male  \n",
       "      title                        year Race        Education        \n",
       "1     Software Engineer            2020 Asian       PhD              \n",
       "2     Software Engineer            2020 Two Or More Bachelor's Degree\n",
       "3     Software Engineer            2020 Asian       Bachelor's Degree\n",
       "⋮     ⋮                            ⋮    ⋮           ⋮                \n",
       "21483 Software Engineering Manager 2021 White       Master's Degree  \n",
       "21484 Software Engineering Manager 2021 Black       Master's Degree  \n",
       "21485 Product Manager              2021 Asian       Master's Degree  "
      ]
     },
     "metadata": {},
     "output_type": "display_data"
    }
   ],
   "source": [
    "# function for extracting year from timestamp\n",
    "timestamp_year_extractor <- function(timeString) {\n",
    "  date <- as.Date(timeString, format = \"%m/%d/%Y\")\n",
    "  year <- format(date, \"%Y\")\n",
    "  return(as.numeric(year))\n",
    "}\n",
    "\n",
    "tidy_salary_data <- salary_data |> \n",
    "mutate(year = timestamp_year_extractor(timestamp)) |> # making a new column\n",
    "select(company, yearsofexperience, totalyearlycompensation, gender, title, year, Race, Education) |> # selecting useful columns\n",
    "filter(!is.na(yearsofexperience), !is.na(gender) & !is.na(Race) & !is.na(Education)) |> # filtering the missing data\n",
    "filter(gender == \"Male\" | gender == \"Female\") # binarification of gender\n",
    "\n",
    "# tidy_salary_data$gender[tidy_salary_data$gender == \"Male\"] <- \"1\"\n",
    "# tidy_salary_data$gender[tidy_salary_data$gender == \"Female\"] <- \"0\"\n",
    "# tidy_salary_data$gender <- as.numeric(tidy_salary_data$gender) \n",
    "tidy_salary_data"
   ]
  },
  {
   "cell_type": "markdown",
   "id": "e6be88b0-a3b7-4796-8cb6-c7e6de85ed7c",
   "metadata": {},
   "source": [
    "Unfortunately, the `year` column here is no longer relevant since there are only 2 years of sample, 2020 and 2021. We are going to filter it out."
   ]
  },
  {
   "cell_type": "code",
   "execution_count": 5,
   "id": "44b32800-6dc2-47f4-9420-4c7de6a2c36e",
   "metadata": {},
   "outputs": [],
   "source": [
    "tidy_salary_data <- tidy_salary_data |> select(-year)"
   ]
  },
  {
   "cell_type": "markdown",
   "id": "98e4db87-4482-4a07-9f24-732830f180ce",
   "metadata": {},
   "source": [
    "Now, as we can see, some company we want to do classification on might not be available or unheard of. Moreover, classification of various company might lead to overfitting of the plot. Hence, we are going to filter out the 5 most popular company to simplify our classification."
   ]
  },
  {
   "cell_type": "code",
   "execution_count": 6,
   "id": "f56410d5-2d56-40d5-ad04-00b52a9c2cd8",
   "metadata": {},
   "outputs": [
    {
     "data": {
      "text/html": [
       "<table class=\"dataframe\">\n",
       "<caption>A tibble: 5 × 2</caption>\n",
       "<thead>\n",
       "\t<tr><th scope=col>company</th><th scope=col>count</th></tr>\n",
       "\t<tr><th scope=col>&lt;chr&gt;</th><th scope=col>&lt;int&gt;</th></tr>\n",
       "</thead>\n",
       "<tbody>\n",
       "\t<tr><td>Amazon   </td><td>2576</td></tr>\n",
       "\t<tr><td>Microsoft</td><td>1612</td></tr>\n",
       "\t<tr><td>Google   </td><td>1306</td></tr>\n",
       "\t<tr><td>Facebook </td><td> 999</td></tr>\n",
       "\t<tr><td>Apple    </td><td> 599</td></tr>\n",
       "</tbody>\n",
       "</table>\n"
      ],
      "text/latex": [
       "A tibble: 5 × 2\n",
       "\\begin{tabular}{ll}\n",
       " company & count\\\\\n",
       " <chr> & <int>\\\\\n",
       "\\hline\n",
       "\t Amazon    & 2576\\\\\n",
       "\t Microsoft & 1612\\\\\n",
       "\t Google    & 1306\\\\\n",
       "\t Facebook  &  999\\\\\n",
       "\t Apple     &  599\\\\\n",
       "\\end{tabular}\n"
      ],
      "text/markdown": [
       "\n",
       "A tibble: 5 × 2\n",
       "\n",
       "| company &lt;chr&gt; | count &lt;int&gt; |\n",
       "|---|---|\n",
       "| Amazon    | 2576 |\n",
       "| Microsoft | 1612 |\n",
       "| Google    | 1306 |\n",
       "| Facebook  |  999 |\n",
       "| Apple     |  599 |\n",
       "\n"
      ],
      "text/plain": [
       "  company   count\n",
       "1 Amazon    2576 \n",
       "2 Microsoft 1612 \n",
       "3 Google    1306 \n",
       "4 Facebook   999 \n",
       "5 Apple      599 "
      ]
     },
     "metadata": {},
     "output_type": "display_data"
    }
   ],
   "source": [
    "# collecting the top 5 companies\n",
    "top_5_company_count <- tidy_salary_data |> \n",
    "group_by(company) |> \n",
    "summarize(count=n()) |> \n",
    "arrange(desc(count)) |> \n",
    "head(5)\n",
    "top_5_company_count"
   ]
  },
  {
   "cell_type": "markdown",
   "id": "891d236d-c6b4-47c3-ba0d-e80cc416cf7f",
   "metadata": {},
   "source": [
    "Note that here we can see that the classes itself is quite imbalanced, with the majority being Amazon. We will keep this in mind for the k-nn classification later on. For now, we are going to filter."
   ]
  },
  {
   "cell_type": "code",
   "execution_count": 7,
   "id": "1e50d335-9045-432f-b0f7-4c99e25b9859",
   "metadata": {},
   "outputs": [
    {
     "data": {
      "text/html": [
       "<table class=\"dataframe\">\n",
       "<caption>A tibble: 7092 × 7</caption>\n",
       "<thead>\n",
       "\t<tr><th scope=col>company</th><th scope=col>yearsofexperience</th><th scope=col>totalyearlycompensation</th><th scope=col>gender</th><th scope=col>title</th><th scope=col>Race</th><th scope=col>Education</th></tr>\n",
       "\t<tr><th scope=col>&lt;chr&gt;</th><th scope=col>&lt;dbl&gt;</th><th scope=col>&lt;dbl&gt;</th><th scope=col>&lt;chr&gt;</th><th scope=col>&lt;chr&gt;</th><th scope=col>&lt;chr&gt;</th><th scope=col>&lt;chr&gt;</th></tr>\n",
       "</thead>\n",
       "<tbody>\n",
       "\t<tr><td>Google   </td><td>5</td><td>400000</td><td>Male</td><td>Software Engineer</td><td>Asian      </td><td>PhD              </td></tr>\n",
       "\t<tr><td>Microsoft</td><td>3</td><td>136000</td><td>Male</td><td>Software Engineer</td><td>Two Or More</td><td>Bachelor's Degree</td></tr>\n",
       "\t<tr><td>Google   </td><td>6</td><td>337000</td><td>Male</td><td>Software Engineer</td><td>Asian      </td><td>Bachelor's Degree</td></tr>\n",
       "\t<tr><td>⋮</td><td>⋮</td><td>⋮</td><td>⋮</td><td>⋮</td><td>⋮</td><td>⋮</td></tr>\n",
       "\t<tr><td>Google  </td><td>20</td><td>4500000</td><td>Male</td><td>Product Manager             </td><td>Asian</td><td>Master's Degree</td></tr>\n",
       "\t<tr><td>Facebook</td><td>22</td><td>2372000</td><td>Male</td><td>Software Engineering Manager</td><td>Black</td><td>Master's Degree</td></tr>\n",
       "\t<tr><td>Facebook</td><td>17</td><td>4980000</td><td>Male</td><td>Product Manager             </td><td>Asian</td><td>Master's Degree</td></tr>\n",
       "</tbody>\n",
       "</table>\n"
      ],
      "text/latex": [
       "A tibble: 7092 × 7\n",
       "\\begin{tabular}{lllllll}\n",
       " company & yearsofexperience & totalyearlycompensation & gender & title & Race & Education\\\\\n",
       " <chr> & <dbl> & <dbl> & <chr> & <chr> & <chr> & <chr>\\\\\n",
       "\\hline\n",
       "\t Google    & 5 & 400000 & Male & Software Engineer & Asian       & PhD              \\\\\n",
       "\t Microsoft & 3 & 136000 & Male & Software Engineer & Two Or More & Bachelor's Degree\\\\\n",
       "\t Google    & 6 & 337000 & Male & Software Engineer & Asian       & Bachelor's Degree\\\\\n",
       "\t ⋮ & ⋮ & ⋮ & ⋮ & ⋮ & ⋮ & ⋮\\\\\n",
       "\t Google   & 20 & 4500000 & Male & Product Manager              & Asian & Master's Degree\\\\\n",
       "\t Facebook & 22 & 2372000 & Male & Software Engineering Manager & Black & Master's Degree\\\\\n",
       "\t Facebook & 17 & 4980000 & Male & Product Manager              & Asian & Master's Degree\\\\\n",
       "\\end{tabular}\n"
      ],
      "text/markdown": [
       "\n",
       "A tibble: 7092 × 7\n",
       "\n",
       "| company &lt;chr&gt; | yearsofexperience &lt;dbl&gt; | totalyearlycompensation &lt;dbl&gt; | gender &lt;chr&gt; | title &lt;chr&gt; | Race &lt;chr&gt; | Education &lt;chr&gt; |\n",
       "|---|---|---|---|---|---|---|\n",
       "| Google    | 5 | 400000 | Male | Software Engineer | Asian       | PhD               |\n",
       "| Microsoft | 3 | 136000 | Male | Software Engineer | Two Or More | Bachelor's Degree |\n",
       "| Google    | 6 | 337000 | Male | Software Engineer | Asian       | Bachelor's Degree |\n",
       "| ⋮ | ⋮ | ⋮ | ⋮ | ⋮ | ⋮ | ⋮ |\n",
       "| Google   | 20 | 4500000 | Male | Product Manager              | Asian | Master's Degree |\n",
       "| Facebook | 22 | 2372000 | Male | Software Engineering Manager | Black | Master's Degree |\n",
       "| Facebook | 17 | 4980000 | Male | Product Manager              | Asian | Master's Degree |\n",
       "\n"
      ],
      "text/plain": [
       "     company   yearsofexperience totalyearlycompensation gender\n",
       "1    Google    5                 400000                  Male  \n",
       "2    Microsoft 3                 136000                  Male  \n",
       "3    Google    6                 337000                  Male  \n",
       "⋮    ⋮         ⋮                 ⋮                       ⋮     \n",
       "7090 Google    20                4500000                 Male  \n",
       "7091 Facebook  22                2372000                 Male  \n",
       "7092 Facebook  17                4980000                 Male  \n",
       "     title                        Race        Education        \n",
       "1    Software Engineer            Asian       PhD              \n",
       "2    Software Engineer            Two Or More Bachelor's Degree\n",
       "3    Software Engineer            Asian       Bachelor's Degree\n",
       "⋮    ⋮                            ⋮           ⋮                \n",
       "7090 Product Manager              Asian       Master's Degree  \n",
       "7091 Software Engineering Manager Black       Master's Degree  \n",
       "7092 Product Manager              Asian       Master's Degree  "
      ]
     },
     "metadata": {},
     "output_type": "display_data"
    }
   ],
   "source": [
    "# filtering the data into the 5 big company class\n",
    "tidy_salary_data <- tidy_salary_data |> \n",
    "filter(company == \"Amazon\" |company == \"Microsoft\"|company == \"Google\"|company == \"Facebook\"|company == \"Apple\")\n",
    "tidy_salary_data"
   ]
  },
  {
   "cell_type": "markdown",
   "id": "7ac86e5f-aa6f-46f8-b120-e44ab01d92ea",
   "metadata": {},
   "source": [
    "Now, the obtained tidy_salary_data is divided into training data and testing data with ratio 75% to 25%, respectively for training and testing the class we will predict: company.  "
   ]
  },
  {
   "cell_type": "code",
   "execution_count": 8,
   "id": "45814b17-fe75-4f51-b692-18c4ce8febea",
   "metadata": {},
   "outputs": [
    {
     "data": {
      "text/html": [
       "<table class=\"dataframe\">\n",
       "<caption>A tibble: 5317 × 7</caption>\n",
       "<thead>\n",
       "\t<tr><th scope=col>company</th><th scope=col>yearsofexperience</th><th scope=col>totalyearlycompensation</th><th scope=col>gender</th><th scope=col>title</th><th scope=col>Race</th><th scope=col>Education</th></tr>\n",
       "\t<tr><th scope=col>&lt;chr&gt;</th><th scope=col>&lt;dbl&gt;</th><th scope=col>&lt;dbl&gt;</th><th scope=col>&lt;chr&gt;</th><th scope=col>&lt;chr&gt;</th><th scope=col>&lt;chr&gt;</th><th scope=col>&lt;chr&gt;</th></tr>\n",
       "</thead>\n",
       "<tbody>\n",
       "\t<tr><td>Amazon</td><td>15</td><td>310000</td><td>Male</td><td>Software Engineer           </td><td>Asian   </td><td>Bachelor's Degree</td></tr>\n",
       "\t<tr><td>Amazon</td><td>19</td><td>620000</td><td>Male</td><td>Software Engineering Manager</td><td>Asian   </td><td>Bachelor's Degree</td></tr>\n",
       "\t<tr><td>Amazon</td><td> 4</td><td>210000</td><td>Male</td><td>Software Engineer           </td><td>Hispanic</td><td>Highschool       </td></tr>\n",
       "\t<tr><td>⋮</td><td>⋮</td><td>⋮</td><td>⋮</td><td>⋮</td><td>⋮</td><td>⋮</td></tr>\n",
       "\t<tr><td>Microsoft</td><td>17</td><td>337000</td><td>Male</td><td>Software Engineer</td><td>Asian</td><td>Master's Degree  </td></tr>\n",
       "\t<tr><td>Microsoft</td><td> 1</td><td>177000</td><td>Male</td><td>Software Engineer</td><td>White</td><td>Bachelor's Degree</td></tr>\n",
       "\t<tr><td>Microsoft</td><td>10</td><td> 87000</td><td>Male</td><td>Software Engineer</td><td>White</td><td>Master's Degree  </td></tr>\n",
       "</tbody>\n",
       "</table>\n"
      ],
      "text/latex": [
       "A tibble: 5317 × 7\n",
       "\\begin{tabular}{lllllll}\n",
       " company & yearsofexperience & totalyearlycompensation & gender & title & Race & Education\\\\\n",
       " <chr> & <dbl> & <dbl> & <chr> & <chr> & <chr> & <chr>\\\\\n",
       "\\hline\n",
       "\t Amazon & 15 & 310000 & Male & Software Engineer            & Asian    & Bachelor's Degree\\\\\n",
       "\t Amazon & 19 & 620000 & Male & Software Engineering Manager & Asian    & Bachelor's Degree\\\\\n",
       "\t Amazon &  4 & 210000 & Male & Software Engineer            & Hispanic & Highschool       \\\\\n",
       "\t ⋮ & ⋮ & ⋮ & ⋮ & ⋮ & ⋮ & ⋮\\\\\n",
       "\t Microsoft & 17 & 337000 & Male & Software Engineer & Asian & Master's Degree  \\\\\n",
       "\t Microsoft &  1 & 177000 & Male & Software Engineer & White & Bachelor's Degree\\\\\n",
       "\t Microsoft & 10 &  87000 & Male & Software Engineer & White & Master's Degree  \\\\\n",
       "\\end{tabular}\n"
      ],
      "text/markdown": [
       "\n",
       "A tibble: 5317 × 7\n",
       "\n",
       "| company &lt;chr&gt; | yearsofexperience &lt;dbl&gt; | totalyearlycompensation &lt;dbl&gt; | gender &lt;chr&gt; | title &lt;chr&gt; | Race &lt;chr&gt; | Education &lt;chr&gt; |\n",
       "|---|---|---|---|---|---|---|\n",
       "| Amazon | 15 | 310000 | Male | Software Engineer            | Asian    | Bachelor's Degree |\n",
       "| Amazon | 19 | 620000 | Male | Software Engineering Manager | Asian    | Bachelor's Degree |\n",
       "| Amazon |  4 | 210000 | Male | Software Engineer            | Hispanic | Highschool        |\n",
       "| ⋮ | ⋮ | ⋮ | ⋮ | ⋮ | ⋮ | ⋮ |\n",
       "| Microsoft | 17 | 337000 | Male | Software Engineer | Asian | Master's Degree   |\n",
       "| Microsoft |  1 | 177000 | Male | Software Engineer | White | Bachelor's Degree |\n",
       "| Microsoft | 10 |  87000 | Male | Software Engineer | White | Master's Degree   |\n",
       "\n"
      ],
      "text/plain": [
       "     company   yearsofexperience totalyearlycompensation gender\n",
       "1    Amazon    15                310000                  Male  \n",
       "2    Amazon    19                620000                  Male  \n",
       "3    Amazon     4                210000                  Male  \n",
       "⋮    ⋮         ⋮                 ⋮                       ⋮     \n",
       "5315 Microsoft 17                337000                  Male  \n",
       "5316 Microsoft  1                177000                  Male  \n",
       "5317 Microsoft 10                 87000                  Male  \n",
       "     title                        Race     Education        \n",
       "1    Software Engineer            Asian    Bachelor's Degree\n",
       "2    Software Engineering Manager Asian    Bachelor's Degree\n",
       "3    Software Engineer            Hispanic Highschool       \n",
       "⋮    ⋮                            ⋮        ⋮                \n",
       "5315 Software Engineer            Asian    Master's Degree  \n",
       "5316 Software Engineer            White    Bachelor's Degree\n",
       "5317 Software Engineer            White    Master's Degree  "
      ]
     },
     "metadata": {},
     "output_type": "display_data"
    },
    {
     "data": {
      "text/html": [
       "<table class=\"dataframe\">\n",
       "<caption>A tibble: 1775 × 7</caption>\n",
       "<thead>\n",
       "\t<tr><th scope=col>company</th><th scope=col>yearsofexperience</th><th scope=col>totalyearlycompensation</th><th scope=col>gender</th><th scope=col>title</th><th scope=col>Race</th><th scope=col>Education</th></tr>\n",
       "\t<tr><th scope=col>&lt;chr&gt;</th><th scope=col>&lt;dbl&gt;</th><th scope=col>&lt;dbl&gt;</th><th scope=col>&lt;chr&gt;</th><th scope=col>&lt;chr&gt;</th><th scope=col>&lt;chr&gt;</th><th scope=col>&lt;chr&gt;</th></tr>\n",
       "</thead>\n",
       "<tbody>\n",
       "\t<tr><td>Google   </td><td>6</td><td>337000</td><td>Male</td><td>Software Engineer</td><td>Asian</td><td>Bachelor's Degree</td></tr>\n",
       "\t<tr><td>Microsoft</td><td>4</td><td>222000</td><td>Male</td><td>Software Engineer</td><td>Asian</td><td>Master's Degree  </td></tr>\n",
       "\t<tr><td>Apple    </td><td>1</td><td>180000</td><td>Male</td><td>Software Engineer</td><td>Asian</td><td>Bachelor's Degree</td></tr>\n",
       "\t<tr><td>⋮</td><td>⋮</td><td>⋮</td><td>⋮</td><td>⋮</td><td>⋮</td><td>⋮</td></tr>\n",
       "\t<tr><td>Microsoft</td><td>13</td><td>187000</td><td>Female</td><td>Technical Program Manager</td><td>Asian</td><td>Bachelor's Degree</td></tr>\n",
       "\t<tr><td>Microsoft</td><td>15</td><td>192000</td><td>Male  </td><td>Software Engineer        </td><td>White</td><td>Bachelor's Degree</td></tr>\n",
       "\t<tr><td>Facebook </td><td> 2</td><td>233000</td><td>Male  </td><td>Data Scientist           </td><td>Asian</td><td>Bachelor's Degree</td></tr>\n",
       "</tbody>\n",
       "</table>\n"
      ],
      "text/latex": [
       "A tibble: 1775 × 7\n",
       "\\begin{tabular}{lllllll}\n",
       " company & yearsofexperience & totalyearlycompensation & gender & title & Race & Education\\\\\n",
       " <chr> & <dbl> & <dbl> & <chr> & <chr> & <chr> & <chr>\\\\\n",
       "\\hline\n",
       "\t Google    & 6 & 337000 & Male & Software Engineer & Asian & Bachelor's Degree\\\\\n",
       "\t Microsoft & 4 & 222000 & Male & Software Engineer & Asian & Master's Degree  \\\\\n",
       "\t Apple     & 1 & 180000 & Male & Software Engineer & Asian & Bachelor's Degree\\\\\n",
       "\t ⋮ & ⋮ & ⋮ & ⋮ & ⋮ & ⋮ & ⋮\\\\\n",
       "\t Microsoft & 13 & 187000 & Female & Technical Program Manager & Asian & Bachelor's Degree\\\\\n",
       "\t Microsoft & 15 & 192000 & Male   & Software Engineer         & White & Bachelor's Degree\\\\\n",
       "\t Facebook  &  2 & 233000 & Male   & Data Scientist            & Asian & Bachelor's Degree\\\\\n",
       "\\end{tabular}\n"
      ],
      "text/markdown": [
       "\n",
       "A tibble: 1775 × 7\n",
       "\n",
       "| company &lt;chr&gt; | yearsofexperience &lt;dbl&gt; | totalyearlycompensation &lt;dbl&gt; | gender &lt;chr&gt; | title &lt;chr&gt; | Race &lt;chr&gt; | Education &lt;chr&gt; |\n",
       "|---|---|---|---|---|---|---|\n",
       "| Google    | 6 | 337000 | Male | Software Engineer | Asian | Bachelor's Degree |\n",
       "| Microsoft | 4 | 222000 | Male | Software Engineer | Asian | Master's Degree   |\n",
       "| Apple     | 1 | 180000 | Male | Software Engineer | Asian | Bachelor's Degree |\n",
       "| ⋮ | ⋮ | ⋮ | ⋮ | ⋮ | ⋮ | ⋮ |\n",
       "| Microsoft | 13 | 187000 | Female | Technical Program Manager | Asian | Bachelor's Degree |\n",
       "| Microsoft | 15 | 192000 | Male   | Software Engineer         | White | Bachelor's Degree |\n",
       "| Facebook  |  2 | 233000 | Male   | Data Scientist            | Asian | Bachelor's Degree |\n",
       "\n"
      ],
      "text/plain": [
       "     company   yearsofexperience totalyearlycompensation gender\n",
       "1    Google    6                 337000                  Male  \n",
       "2    Microsoft 4                 222000                  Male  \n",
       "3    Apple     1                 180000                  Male  \n",
       "⋮    ⋮         ⋮                 ⋮                       ⋮     \n",
       "1773 Microsoft 13                187000                  Female\n",
       "1774 Microsoft 15                192000                  Male  \n",
       "1775 Facebook   2                233000                  Male  \n",
       "     title                     Race  Education        \n",
       "1    Software Engineer         Asian Bachelor's Degree\n",
       "2    Software Engineer         Asian Master's Degree  \n",
       "3    Software Engineer         Asian Bachelor's Degree\n",
       "⋮    ⋮                         ⋮     ⋮                \n",
       "1773 Technical Program Manager Asian Bachelor's Degree\n",
       "1774 Software Engineer         White Bachelor's Degree\n",
       "1775 Data Scientist            Asian Bachelor's Degree"
      ]
     },
     "metadata": {},
     "output_type": "display_data"
    }
   ],
   "source": [
    "set.seed(2023)\n",
    "data_split <- initial_split(tidy_salary_data, prop = 0.75, strata = company)  \n",
    "data_train <- training(data_split)   \n",
    "data_test <- testing(data_split)\n",
    "data_train\n",
    "data_test"
   ]
  },
  {
   "cell_type": "markdown",
   "id": "3a345221-80e1-4dba-87d5-8efa6f99809d",
   "metadata": {},
   "source": [
    "After getting the training data, we counted the average total yearly compensation of each company, and sorted it in descending order.  \n",
    "As for gender, we analyzed the changing trend of total yearly compensation of employees of different genders when their work experience changes.  \n",
    "And the distribution of education is represented by a bar graph."
   ]
  },
  {
   "cell_type": "code",
   "execution_count": 9,
   "id": "c032a5f1-686e-4b58-bd4a-6091cd41a93f",
   "metadata": {},
   "outputs": [
    {
     "data": {
      "text/html": [
       "<table class=\"dataframe\">\n",
       "<caption>A data.frame: 5 × 2</caption>\n",
       "<thead>\n",
       "\t<tr><th scope=col>company</th><th scope=col>mean_totalyearlycompensation</th></tr>\n",
       "\t<tr><th scope=col>&lt;chr&gt;</th><th scope=col>&lt;dbl&gt;</th></tr>\n",
       "</thead>\n",
       "<tbody>\n",
       "\t<tr><td>Facebook </td><td>340220.6</td></tr>\n",
       "\t<tr><td>Google   </td><td>276268.2</td></tr>\n",
       "\t<tr><td>Apple    </td><td>271771.6</td></tr>\n",
       "\t<tr><td>Amazon   </td><td>217642.2</td></tr>\n",
       "\t<tr><td>Microsoft</td><td>195288.5</td></tr>\n",
       "</tbody>\n",
       "</table>\n"
      ],
      "text/latex": [
       "A data.frame: 5 × 2\n",
       "\\begin{tabular}{ll}\n",
       " company & mean\\_totalyearlycompensation\\\\\n",
       " <chr> & <dbl>\\\\\n",
       "\\hline\n",
       "\t Facebook  & 340220.6\\\\\n",
       "\t Google    & 276268.2\\\\\n",
       "\t Apple     & 271771.6\\\\\n",
       "\t Amazon    & 217642.2\\\\\n",
       "\t Microsoft & 195288.5\\\\\n",
       "\\end{tabular}\n"
      ],
      "text/markdown": [
       "\n",
       "A data.frame: 5 × 2\n",
       "\n",
       "| company &lt;chr&gt; | mean_totalyearlycompensation &lt;dbl&gt; |\n",
       "|---|---|\n",
       "| Facebook  | 340220.6 |\n",
       "| Google    | 276268.2 |\n",
       "| Apple     | 271771.6 |\n",
       "| Amazon    | 217642.2 |\n",
       "| Microsoft | 195288.5 |\n",
       "\n"
      ],
      "text/plain": [
       "  company   mean_totalyearlycompensation\n",
       "1 Facebook  340220.6                    \n",
       "2 Google    276268.2                    \n",
       "3 Apple     271771.6                    \n",
       "4 Amazon    217642.2                    \n",
       "5 Microsoft 195288.5                    "
      ]
     },
     "metadata": {},
     "output_type": "display_data"
    }
   ],
   "source": [
    "mean_table <- aggregate(data_train$totalyearlycompensation, by = list(type = data_train$company),mean)\n",
    "names(mean_table) <- c(\"company\",\"mean_totalyearlycompensation\")\n",
    "arrange(mean_table,desc(mean_totalyearlycompensation))"
   ]
  },
  {
   "cell_type": "markdown",
   "id": "be3433a9-1cef-47d5-998a-741895bb5386",
   "metadata": {},
   "source": [
    "Here is the visualization of each of the predictors."
   ]
  },
  {
   "cell_type": "code",
   "execution_count": 10,
   "id": "c65a92cb-7775-4dc4-a356-79535d3ec53c",
   "metadata": {},
   "outputs": [
    {
     "data": {
      "image/png": "[encoded data removed]",
      "text/plain": [
       "plot without title"
      ]
     },
     "metadata": {
      "image/png": {
       "height": 360,
       "width": 480
      }
     },
     "output_type": "display_data"
    }
   ],
   "source": [
    "options(repr.plot.width = 8, repr.plot.height = 6)\n",
    "data_for_vis_bar <- data_train |> group_by(company) |>\n",
    "                summarize(mean_yoe=mean(yearsofexperience), sd_yoe=sd(yearsofexperience))\n",
    "#data_for_vis_bar\n",
    "yoe_vis_bar <-  data_for_vis_bar |>\n",
    "                ggplot(aes(x=company, y=mean_yoe)) +\n",
    "                geom_bar(stat=\"identity\") +\n",
    "                geom_errorbar(aes(x=company, ymin=mean_yoe-sd_yoe,ymax=mean_yoe+sd_yoe, width=.2)) +\n",
    "                labs(title=\"Graph1: Worker's Years of Experience at Different Companies\", x=\"Company\", y=\"Years of Experience\") +\n",
    "                theme(text = element_text(size=15)) \n",
    "yoe_vis_bar"
   ]
  },
  {
   "cell_type": "markdown",
   "id": "60f832f8-3dda-47fe-acf9-e3e3dff777c5",
   "metadata": {},
   "source": [
    "The graph titled \"Graph1: Worker's Years of Experience at Different Companies\" visualizes the mean years of experience of workers at different companies. Each bar in the graph corresponds to a specific company and the height of the bar indicates the mean years of experience of workers at that company. Additionally, error bars are plotted for each bar to show the range of variability in the data. We can see that the average working experience (years) of employees in different companies is not much different, and the maximum value is almost the same, Only Microsoft has higher average and maximum values than other companies, while the rest are nothing special, so we speculate that work experience may not be a good predictor of companies."
   ]
  },
  {
   "cell_type": "code",
   "execution_count": 11,
   "id": "4e25a736-9315-4036-84b6-6d31b4f3e0a8",
   "metadata": {},
   "outputs": [
    {
     "data": {
      "image/png": "[encoded data removed]",
      "text/plain": [
       "plot without title"
      ]
     },
     "metadata": {
      "image/png": {
       "height": 360,
       "width": 480
      }
     },
     "output_type": "display_data"
    }
   ],
   "source": [
    "options(repr.plot.width = 8, repr.plot.height = 6)\n",
    "data_for_vis_tyc <- data_train |> group_by(company) |>\n",
    "                summarize(mean_tyc=mean(totalyearlycompensation), sd_tyc=sd(totalyearlycompensation))\n",
    "#data_for_vis_tyc\n",
    "tyc_vis_bar <-  data_for_vis_tyc |>\n",
    "                ggplot(aes(x=company, y=mean_tyc)) +\n",
    "                geom_bar(stat=\"identity\") +\n",
    "                geom_errorbar(aes(x=company, ymin=mean_tyc-sd_tyc,ymax=mean_tyc+sd_tyc, width=.2)) +\n",
    "                labs(title=\"Graph2: Worker's Total Yearly Compensation at Different Companies\", x=\"Company\", y=\"Total Yearly Compensation\") +\n",
    "                theme(text = element_text(size=15)) \n",
    "tyc_vis_bar"
   ]
  },
  {
   "cell_type": "markdown",
   "id": "375b492e-15b7-4ef8-a272-2e6ed96ee978",
   "metadata": {},
   "source": [
    "The graph titled \"Graph2: Total Annual Compensation of Workers in Different Companies\" visualizes the Total Yearly Compensation (TYC) of employees in different companies. Each bar in the graph corresponds to a specific company, and the height of the bar represents the average TYC of that company's employees. Additionally, error bars are plotted for each bar to show the variable range of the data. We can see that the salary gap of the five companies is relatively large, which is reflected not only in the average value but also in the range. Among them, Facebook has the highest average and upper limit, which is almost double that of Microsoft, which has the lowest value. There are also visible gaps among the rest of the companies. Therefore, we speculate that TYC may be the factor that leads to a higher accuracy rate."
   ]
  },
  {
   "cell_type": "code",
   "execution_count": 12,
   "id": "fff8a350-a826-4d10-9be7-79d7383eeb68",
   "metadata": {},
   "outputs": [
    {
     "name": "stderr",
     "output_type": "stream",
     "text": [
      "\u001b[1m\u001b[22m`summarise()` has grouped output by 'company'. You can override using the\n",
      "`.groups` argument.\n"
     ]
    },
    {
     "data": {
      "text/html": [
       "<table class=\"dataframe\">\n",
       "<caption>A grouped_df: 5 × 3</caption>\n",
       "<thead>\n",
       "\t<tr><th scope=col>company</th><th scope=col>Female</th><th scope=col>Male</th></tr>\n",
       "\t<tr><th scope=col>&lt;chr&gt;</th><th scope=col>&lt;int&gt;</th><th scope=col>&lt;int&gt;</th></tr>\n",
       "</thead>\n",
       "<tbody>\n",
       "\t<tr><td>Amazon   </td><td>318</td><td>1605</td></tr>\n",
       "\t<tr><td>Apple    </td><td> 87</td><td> 364</td></tr>\n",
       "\t<tr><td>Facebook </td><td>154</td><td> 603</td></tr>\n",
       "\t<tr><td>Google   </td><td>179</td><td> 794</td></tr>\n",
       "\t<tr><td>Microsoft</td><td>235</td><td> 978</td></tr>\n",
       "</tbody>\n",
       "</table>\n"
      ],
      "text/latex": [
       "A grouped\\_df: 5 × 3\n",
       "\\begin{tabular}{lll}\n",
       " company & Female & Male\\\\\n",
       " <chr> & <int> & <int>\\\\\n",
       "\\hline\n",
       "\t Amazon    & 318 & 1605\\\\\n",
       "\t Apple     &  87 &  364\\\\\n",
       "\t Facebook  & 154 &  603\\\\\n",
       "\t Google    & 179 &  794\\\\\n",
       "\t Microsoft & 235 &  978\\\\\n",
       "\\end{tabular}\n"
      ],
      "text/markdown": [
       "\n",
       "A grouped_df: 5 × 3\n",
       "\n",
       "| company &lt;chr&gt; | Female &lt;int&gt; | Male &lt;int&gt; |\n",
       "|---|---|---|\n",
       "| Amazon    | 318 | 1605 |\n",
       "| Apple     |  87 |  364 |\n",
       "| Facebook  | 154 |  603 |\n",
       "| Google    | 179 |  794 |\n",
       "| Microsoft | 235 |  978 |\n",
       "\n"
      ],
      "text/plain": [
       "  company   Female Male\n",
       "1 Amazon    318    1605\n",
       "2 Apple      87     364\n",
       "3 Facebook  154     603\n",
       "4 Google    179     794\n",
       "5 Microsoft 235     978"
      ]
     },
     "metadata": {},
     "output_type": "display_data"
    },
    {
     "data": {
      "image/png": "[encoded data removed]",
      "text/plain": [
       "plot without title"
      ]
     },
     "metadata": {
      "image/png": {
       "height": 360,
       "width": 480
      }
     },
     "output_type": "display_data"
    }
   ],
   "source": [
    "options(repr.plot.width = 8, repr.plot.height = 6)\n",
    "data_for_vis_gen <- data_train |> group_by(company,gender) |>\n",
    "                summarize(count=n())\n",
    "#data_for_vis_gen\n",
    "gen_vis_table <- data_for_vis_gen |> pivot_wider(names_from=gender,values_from=count)\n",
    "gen_vis_table\n",
    "gen_vis_bar <- ggplot(data_for_vis_gen, aes(x = company, y = count, fill = gender)) + \n",
    "                geom_bar(stat = \"identity\", position = \"fill\") + \n",
    "                labs(title=\"Graph3: Distribution of Worker's Gender at Different Company\",x=\"Company\", y=\"Count\", fill = \"Gender\")\n",
    "gen_vis_bar"
   ]
  },
  {
   "cell_type": "markdown",
   "id": "5888a206-6975-4b00-aad8-4b8526da5b98",
   "metadata": {},
   "source": [
    "The graph titled \"Graph3: Distribution of Workers' Gender at Different Companies\" visualizes the gender distribution of employees at different companies. Each bar in the chart corresponds to a specific company and is divided into two sections representing the proportion of male and female employees. The height of each section indicates the proportion of employees of that gender in the corresponding company. It can be seen from the figure that the ratio of male to female in the five companies is not much different, all around 80%, so we speculate that the accuracy of gender prediction will not be very high."
   ]
  },
  {
   "cell_type": "code",
   "execution_count": 13,
   "id": "4b122753-38a2-436e-b2c0-5a7c54df8dd6",
   "metadata": {},
   "outputs": [
    {
     "name": "stderr",
     "output_type": "stream",
     "text": [
      "\u001b[1m\u001b[22m`summarise()` has grouped output by 'company'. You can override using the\n",
      "`.groups` argument.\n"
     ]
    },
    {
     "data": {
      "image/png": "[encoded data removed]",
      "text/plain": [
       "plot without title"
      ]
     },
     "metadata": {
      "image/png": {
       "height": 480,
       "width": 900
      }
     },
     "output_type": "display_data"
    }
   ],
   "source": [
    "options(repr.plot.width = 15, repr.plot.height = 8)\n",
    "data_for_vis_title <- data_train |> group_by(company, title) |> summarize(count=n())\n",
    "title_vis_bar <- data_for_vis_title |>\n",
    "    ggplot(aes(x = count, y = title)) + \n",
    "        geom_bar(stat=\"identity\") +\n",
    "        labs(x = \"Count\", y = \"Role Title\", title = \"Graph4: Distribution of Worker's Role Title at Different Companies\") + \n",
    "        facet_grid(cols = vars(company)) +\n",
    "        theme(axis.text.x = element_text(angle = 90, hjust = 1)) +\n",
    "        theme(text = element_text(size=14))\n",
    "title_vis_bar"
   ]
  },
  {
   "cell_type": "markdown",
   "id": "34bc87f1-2efa-4b2c-97c7-443fc445822c",
   "metadata": {},
   "source": [
    "The graph titled \"Graph4: Distribution of Workers' Role Title at Different Companies\" visualizes the distribution of workers' roles across different companies. Each panel in the graph corresponds to a specific company, and the bars in each panel show the number of employees with different job titles. The length of each bar represents the number of workers with the corresponding job in the corresponding company. We can see that the largest number of employees in each company are software engineers, but there is a big gap in the number. And because the scale of the coordinate axis is large (300 per unit), it is difficult to say whether the position has a high prediction accuracy."
   ]
  },
  {
   "cell_type": "code",
   "execution_count": 14,
   "id": "e60b9299-af91-4b0f-a4f3-a99b255033bc",
   "metadata": {},
   "outputs": [
    {
     "name": "stderr",
     "output_type": "stream",
     "text": [
      "\u001b[1m\u001b[22m`summarise()` has grouped output by 'company'. You can override using the\n",
      "`.groups` argument.\n"
     ]
    },
    {
     "data": {
      "image/png": "[encoded data removed]",
      "text/plain": [
       "plot without title"
      ]
     },
     "metadata": {
      "image/png": {
       "height": 480,
       "width": 900
      }
     },
     "output_type": "display_data"
    }
   ],
   "source": [
    "options(repr.plot.width = 15, repr.plot.height = 8)\n",
    "data_for_vis_race <- data_train |> group_by(company, Race) |> summarize(count=n())\n",
    "race_vis_bar <- data_for_vis_race |>\n",
    "    ggplot(aes(x = count, y = Race)) + \n",
    "        geom_bar(stat=\"identity\") +\n",
    "        labs(x = \"Count\", y = \"Race\", title = \"Graph5: Distribution of Worker's Race at Different Companies\") + \n",
    "        facet_grid(cols = vars(company)) +\n",
    "        theme(axis.text.x = element_text(angle = 90, hjust = 1)) +\n",
    "        theme(text = element_text(size=14))\n",
    "race_vis_bar"
   ]
  },
  {
   "cell_type": "markdown",
   "id": "ef98f96d-ed66-4588-ab4c-5bb5c080bd6b",
   "metadata": {},
   "source": [
    "The graph titled \"Graph5: Distribution of Workers' Race at Different Companies\" visualizes the distribution of workers' race at different companies. Each panel in the graph corresponds to a particular company, and the bars in each panel show the number of workers by race. The length of each bar represents the number of workers in the corresponding company with the corresponding race. It can be seen that Caucasians and Asians are the most in all five companies. But the proportions are also different. And because the scale of the coordinate axis is large (300 per unit), it is difficult to say whether the position has a high prediction accuracy."
   ]
  },
  {
   "cell_type": "code",
   "execution_count": 15,
   "id": "3dbf0a2c-2e45-42aa-885d-883259230c05",
   "metadata": {},
   "outputs": [
    {
     "name": "stderr",
     "output_type": "stream",
     "text": [
      "\u001b[1m\u001b[22m`summarise()` has grouped output by 'company'. You can override using the\n",
      "`.groups` argument.\n"
     ]
    },
    {
     "data": {
      "image/png": "[encoded data removed]",
      "text/plain": [
       "plot without title"
      ]
     },
     "metadata": {
      "image/png": {
       "height": 480,
       "width": 900
      }
     },
     "output_type": "display_data"
    }
   ],
   "source": [
    "options(repr.plot.width = 15, repr.plot.height = 8)\n",
    "data_for_vis_edu <- data_train |> group_by(company, Education) |> summarize(count=n())\n",
    "edu_vis_bar <- data_for_vis_edu |>\n",
    "    ggplot(aes(x = count, y = Education)) + \n",
    "        geom_bar(stat=\"identity\") +\n",
    "        labs(x = \"Count\", y = \"Race\", title = \"Graph6: Distribution of Worker's Education Level at Different Companies\") + \n",
    "        facet_grid(cols = vars(company)) +\n",
    "        theme(axis.text.x = element_text(angle = 90, hjust = 1)) +\n",
    "        theme(text = element_text(size=14))\n",
    "edu_vis_bar"
   ]
  },
  {
   "cell_type": "markdown",
   "id": "dccc063f-c1ed-4229-be0a-0b7f82030e52",
   "metadata": {},
   "source": [
    "The graph titled \"Graph6: Distribution of Workers' Educational Levels by Firms\" visualizes the distribution of workers' educational levels by firms. Each panel in the graph corresponds to a specific company, and the bars in each panel show the number of workers with different levels of education. The length of each bar represents the number of workers in the corresponding company with the corresponding education level. It can be seen that Bachelor's Degree and Master's Degree are the most in all five companies. But the proportions are also different. And because the scale of the coordinate axis is large (250 per unit), it is difficult to say whether the position has a high prediction accuracy."
   ]
  },
  {
   "cell_type": "markdown",
   "id": "b2fc2e60-195e-429a-ad21-843d52d66a9f",
   "metadata": {},
   "source": [
    "### Data Analysis\n",
    "Before we start working on the classification process, we have to prepare our total dataset, `tidy_salary_data`. This is because both mof the training and testing dataset have to be readable by our classification model later on, hence we will adjust our dataset so it is ready to be used as the classification model.\n",
    "\n",
    "Since we are going to use `company` as the class and the other columns as the predictors, there are a few things we need to do. \n",
    "- Since we are going to use `gender`, `title`, `Race`, and `Education` as predictors, and since they are in characters, we cannot use them in the classification model, therefore we have to change them to numerical characters. One way to change them is into binary columns consisted of 0 and 1. We can do this by mutating each of the values manually as follows. Keep in mind that we acknowledge different genders, and the binarification of gender in this project is for the purpose of simplification. \n",
    "- Then, we remove the original columns of `title`, `Race`, and `Education` since we do not need them anymore for the classification, all the information is already mutated to the additional columns.\n",
    "- Finally, we mutate the class we are going to predict, `company` as a factor."
   ]
  },
  {
   "cell_type": "code",
   "execution_count": 16,
   "id": "a764f396-2964-4b1b-a0ab-16966948a175",
   "metadata": {},
   "outputs": [
    {
     "data": {
      "text/html": [
       "<table class=\"dataframe\">\n",
       "<caption>A tibble: 7092 × 29</caption>\n",
       "<thead>\n",
       "\t<tr><th scope=col>company</th><th scope=col>yearsofexperience</th><th scope=col>totalyearlycompensation</th><th scope=col>gender</th><th scope=col>SE</th><th scope=col>SA</th><th scope=col>SEM</th><th scope=col>TPM</th><th scope=col>S</th><th scope=col>R</th><th scope=col>⋯</th><th scope=col>asian</th><th scope=col>twoormore</th><th scope=col>hispanic</th><th scope=col>white</th><th scope=col>black</th><th scope=col>PhD</th><th scope=col>master</th><th scope=col>bachelor</th><th scope=col>highschool</th><th scope=col>somecollege</th></tr>\n",
       "\t<tr><th scope=col>&lt;fct&gt;</th><th scope=col>&lt;dbl&gt;</th><th scope=col>&lt;dbl&gt;</th><th scope=col>&lt;dbl&gt;</th><th scope=col>&lt;dbl&gt;</th><th scope=col>&lt;dbl&gt;</th><th scope=col>&lt;dbl&gt;</th><th scope=col>&lt;dbl&gt;</th><th scope=col>&lt;dbl&gt;</th><th scope=col>&lt;dbl&gt;</th><th scope=col>⋯</th><th scope=col>&lt;dbl&gt;</th><th scope=col>&lt;dbl&gt;</th><th scope=col>&lt;dbl&gt;</th><th scope=col>&lt;dbl&gt;</th><th scope=col>&lt;dbl&gt;</th><th scope=col>&lt;dbl&gt;</th><th scope=col>&lt;dbl&gt;</th><th scope=col>&lt;dbl&gt;</th><th scope=col>&lt;dbl&gt;</th><th scope=col>&lt;dbl&gt;</th></tr>\n",
       "</thead>\n",
       "<tbody>\n",
       "\t<tr><td>Google   </td><td>5</td><td>400000</td><td>1</td><td>1</td><td>0</td><td>0</td><td>0</td><td>0</td><td>0</td><td>⋯</td><td>1</td><td>0</td><td>0</td><td>0</td><td>0</td><td>1</td><td>0</td><td>0</td><td>0</td><td>0</td></tr>\n",
       "\t<tr><td>Microsoft</td><td>3</td><td>136000</td><td>1</td><td>1</td><td>0</td><td>0</td><td>0</td><td>0</td><td>0</td><td>⋯</td><td>0</td><td>1</td><td>0</td><td>0</td><td>0</td><td>0</td><td>0</td><td>1</td><td>0</td><td>0</td></tr>\n",
       "\t<tr><td>Google   </td><td>6</td><td>337000</td><td>1</td><td>1</td><td>0</td><td>0</td><td>0</td><td>0</td><td>0</td><td>⋯</td><td>1</td><td>0</td><td>0</td><td>0</td><td>0</td><td>0</td><td>0</td><td>1</td><td>0</td><td>0</td></tr>\n",
       "\t<tr><td>⋮</td><td>⋮</td><td>⋮</td><td>⋮</td><td>⋮</td><td>⋮</td><td>⋮</td><td>⋮</td><td>⋮</td><td>⋮</td><td>⋱</td><td>⋮</td><td>⋮</td><td>⋮</td><td>⋮</td><td>⋮</td><td>⋮</td><td>⋮</td><td>⋮</td><td>⋮</td><td>⋮</td></tr>\n",
       "\t<tr><td>Google  </td><td>20</td><td>4500000</td><td>1</td><td>0</td><td>0</td><td>0</td><td>0</td><td>0</td><td>0</td><td>⋯</td><td>1</td><td>0</td><td>0</td><td>0</td><td>0</td><td>0</td><td>1</td><td>0</td><td>0</td><td>0</td></tr>\n",
       "\t<tr><td>Facebook</td><td>22</td><td>2372000</td><td>1</td><td>0</td><td>0</td><td>1</td><td>0</td><td>0</td><td>0</td><td>⋯</td><td>0</td><td>0</td><td>0</td><td>0</td><td>1</td><td>0</td><td>1</td><td>0</td><td>0</td><td>0</td></tr>\n",
       "\t<tr><td>Facebook</td><td>17</td><td>4980000</td><td>1</td><td>0</td><td>0</td><td>0</td><td>0</td><td>0</td><td>0</td><td>⋯</td><td>1</td><td>0</td><td>0</td><td>0</td><td>0</td><td>0</td><td>1</td><td>0</td><td>0</td><td>0</td></tr>\n",
       "</tbody>\n",
       "</table>\n"
      ],
      "text/latex": [
       "A tibble: 7092 × 29\n",
       "\\begin{tabular}{lllllllllllllllllllll}\n",
       " company & yearsofexperience & totalyearlycompensation & gender & SE & SA & SEM & TPM & S & R & ⋯ & asian & twoormore & hispanic & white & black & PhD & master & bachelor & highschool & somecollege\\\\\n",
       " <fct> & <dbl> & <dbl> & <dbl> & <dbl> & <dbl> & <dbl> & <dbl> & <dbl> & <dbl> & ⋯ & <dbl> & <dbl> & <dbl> & <dbl> & <dbl> & <dbl> & <dbl> & <dbl> & <dbl> & <dbl>\\\\\n",
       "\\hline\n",
       "\t Google    & 5 & 400000 & 1 & 1 & 0 & 0 & 0 & 0 & 0 & ⋯ & 1 & 0 & 0 & 0 & 0 & 1 & 0 & 0 & 0 & 0\\\\\n",
       "\t Microsoft & 3 & 136000 & 1 & 1 & 0 & 0 & 0 & 0 & 0 & ⋯ & 0 & 1 & 0 & 0 & 0 & 0 & 0 & 1 & 0 & 0\\\\\n",
       "\t Google    & 6 & 337000 & 1 & 1 & 0 & 0 & 0 & 0 & 0 & ⋯ & 1 & 0 & 0 & 0 & 0 & 0 & 0 & 1 & 0 & 0\\\\\n",
       "\t ⋮ & ⋮ & ⋮ & ⋮ & ⋮ & ⋮ & ⋮ & ⋮ & ⋮ & ⋮ & ⋱ & ⋮ & ⋮ & ⋮ & ⋮ & ⋮ & ⋮ & ⋮ & ⋮ & ⋮ & ⋮\\\\\n",
       "\t Google   & 20 & 4500000 & 1 & 0 & 0 & 0 & 0 & 0 & 0 & ⋯ & 1 & 0 & 0 & 0 & 0 & 0 & 1 & 0 & 0 & 0\\\\\n",
       "\t Facebook & 22 & 2372000 & 1 & 0 & 0 & 1 & 0 & 0 & 0 & ⋯ & 0 & 0 & 0 & 0 & 1 & 0 & 1 & 0 & 0 & 0\\\\\n",
       "\t Facebook & 17 & 4980000 & 1 & 0 & 0 & 0 & 0 & 0 & 0 & ⋯ & 1 & 0 & 0 & 0 & 0 & 0 & 1 & 0 & 0 & 0\\\\\n",
       "\\end{tabular}\n"
      ],
      "text/markdown": [
       "\n",
       "A tibble: 7092 × 29\n",
       "\n",
       "| company &lt;fct&gt; | yearsofexperience &lt;dbl&gt; | totalyearlycompensation &lt;dbl&gt; | gender &lt;dbl&gt; | SE &lt;dbl&gt; | SA &lt;dbl&gt; | SEM &lt;dbl&gt; | TPM &lt;dbl&gt; | S &lt;dbl&gt; | R &lt;dbl&gt; | ⋯ ⋯ | asian &lt;dbl&gt; | twoormore &lt;dbl&gt; | hispanic &lt;dbl&gt; | white &lt;dbl&gt; | black &lt;dbl&gt; | PhD &lt;dbl&gt; | master &lt;dbl&gt; | bachelor &lt;dbl&gt; | highschool &lt;dbl&gt; | somecollege &lt;dbl&gt; |\n",
       "|---|---|---|---|---|---|---|---|---|---|---|---|---|---|---|---|---|---|---|---|---|\n",
       "| Google    | 5 | 400000 | 1 | 1 | 0 | 0 | 0 | 0 | 0 | ⋯ | 1 | 0 | 0 | 0 | 0 | 1 | 0 | 0 | 0 | 0 |\n",
       "| Microsoft | 3 | 136000 | 1 | 1 | 0 | 0 | 0 | 0 | 0 | ⋯ | 0 | 1 | 0 | 0 | 0 | 0 | 0 | 1 | 0 | 0 |\n",
       "| Google    | 6 | 337000 | 1 | 1 | 0 | 0 | 0 | 0 | 0 | ⋯ | 1 | 0 | 0 | 0 | 0 | 0 | 0 | 1 | 0 | 0 |\n",
       "| ⋮ | ⋮ | ⋮ | ⋮ | ⋮ | ⋮ | ⋮ | ⋮ | ⋮ | ⋮ | ⋱ | ⋮ | ⋮ | ⋮ | ⋮ | ⋮ | ⋮ | ⋮ | ⋮ | ⋮ | ⋮ |\n",
       "| Google   | 20 | 4500000 | 1 | 0 | 0 | 0 | 0 | 0 | 0 | ⋯ | 1 | 0 | 0 | 0 | 0 | 0 | 1 | 0 | 0 | 0 |\n",
       "| Facebook | 22 | 2372000 | 1 | 0 | 0 | 1 | 0 | 0 | 0 | ⋯ | 0 | 0 | 0 | 0 | 1 | 0 | 1 | 0 | 0 | 0 |\n",
       "| Facebook | 17 | 4980000 | 1 | 0 | 0 | 0 | 0 | 0 | 0 | ⋯ | 1 | 0 | 0 | 0 | 0 | 0 | 1 | 0 | 0 | 0 |\n",
       "\n"
      ],
      "text/plain": [
       "     company   yearsofexperience totalyearlycompensation gender SE SA SEM TPM S\n",
       "1    Google    5                 400000                  1      1  0  0   0   0\n",
       "2    Microsoft 3                 136000                  1      1  0  0   0   0\n",
       "3    Google    6                 337000                  1      1  0  0   0   0\n",
       "⋮    ⋮         ⋮                 ⋮                       ⋮      ⋮  ⋮  ⋮   ⋮   ⋮\n",
       "7090 Google    20                4500000                 1      0  0  0   0   0\n",
       "7091 Facebook  22                2372000                 1      0  0  1   0   0\n",
       "7092 Facebook  17                4980000                 1      0  0  0   0   0\n",
       "     R ⋯ asian twoormore hispanic white black PhD master bachelor highschool\n",
       "1    0 ⋯ 1     0         0        0     0     1   0      0        0         \n",
       "2    0 ⋯ 0     1         0        0     0     0   0      1        0         \n",
       "3    0 ⋯ 1     0         0        0     0     0   0      1        0         \n",
       "⋮    ⋮ ⋱ ⋮     ⋮         ⋮        ⋮     ⋮     ⋮   ⋮      ⋮        ⋮         \n",
       "7090 0 ⋯ 1     0         0        0     0     0   1      0        0         \n",
       "7091 0 ⋯ 0     0         0        0     1     0   1      0        0         \n",
       "7092 0 ⋯ 1     0         0        0     0     0   1      0        0         \n",
       "     somecollege\n",
       "1    0          \n",
       "2    0          \n",
       "3    0          \n",
       "⋮    ⋮          \n",
       "7090 0          \n",
       "7091 0          \n",
       "7092 0          "
      ]
     },
     "metadata": {},
     "output_type": "display_data"
    }
   ],
   "source": [
    "# To help with the binarification\n",
    "# unique(tidy_salary_data$title)\n",
    "# unique(tidy_salary_data$Race)\n",
    "# unique(tidy_salary_data$Education)\n",
    "\n",
    "ready_salary_data <- tidy_salary_data |>\n",
    "                    # binarification of genders\n",
    "                    mutate(gender=ifelse (gender == \"Male\",1,0)) |> \n",
    "\n",
    "                    # binarification of each role titles, each column will represent their title\n",
    "                    mutate(SE=ifelse(title==\"Software Engineer\",1,0)) |> \n",
    "                    mutate(SA=ifelse(title==\"Solution Architect\",1,0)) |>\n",
    "                    mutate(SEM=ifelse(title==\"Software Engineering Manager\",1,0)) |>\n",
    "                    mutate(TPM=ifelse(title==\"Technical Program Manager\",1,0)) |>\n",
    "                    mutate(S=ifelse(title==\"Sales\",1,0)) |>\n",
    "                    mutate(R=ifelse(title==\"Recruiter\",1,0)) |>\n",
    "                    mutate(PM=ifelse(title==\"Product Manager\",1,0)) |>\n",
    "                    mutate(PD=ifelse(title==\"Product Designer\",1,0)) |>\n",
    "                    mutate(ME=ifelse(title==\"Mechanical Engineer\",1,0)) |>\n",
    "                    mutate(M=ifelse(title==\"Marketing\",1,0)) |>\n",
    "                    mutate(MC=ifelse(title==\"Management Consultant\",1,0)) |>\n",
    "                    mutate(HR=ifelse(title==\"Human Resources\",1,0)) |>\n",
    "                    mutate(HE=ifelse(title==\"Hardware Engineer\",1,0)) |>\n",
    "                    mutate(DS=ifelse(title==\"Data Scientist\",1,0)) |>\n",
    "                    mutate(BA=ifelse(title==\"Business Analyst\",1,0)) |>\n",
    "\n",
    "                    # binarification of Race\n",
    "                    mutate(asian=ifelse(Race==\"Asian\",1,0)) |>\n",
    "                    mutate(twoormore=ifelse(Race==\"Two Or More\",1,0)) |>\n",
    "                    mutate(hispanic=ifelse(Race==\"Hispanic\",1,0)) |>\n",
    "                    mutate(white=ifelse(Race==\"White\",1,0)) |>\n",
    "                    mutate(black=ifelse(Race==\"Black\",1,0)) |>\n",
    "\n",
    "                    #binarification of Education\n",
    "                    mutate(PhD=ifelse(Education==\"PhD\",1,0)) |>\n",
    "                    mutate(master=ifelse(Education==\"Master\\'s Degree\",1,0)) |>\n",
    "                    mutate(bachelor=ifelse(Education==\"Bachelor\\'s Degree\",1,0)) |>\n",
    "                    mutate(highschool=ifelse(Education==\"Highschool\",1,0)) |>\n",
    "                    mutate(somecollege=ifelse(Education==\"Some College\",1,0)) |>\n",
    "\n",
    "                    # removal of the original columns\n",
    "                    select(-title, -Race, -Education) |>\n",
    "\n",
    "                    # as factor\n",
    "                    mutate(company=as.factor(company))\n",
    "\n",
    "ready_salary_data"
   ]
  },
  {
   "cell_type": "markdown",
   "id": "60822155-2c2e-4cd2-8a08-4c5fcbbc6d43",
   "metadata": {},
   "source": [
    "The reason of this way of binarification is because we cannot use number to represents unrelated categorical variables. For instance, mapping Software Engineering to 0, Product Manager to 1, and so on until Sales to 15, is an incorrect way of mapping categorical variables into numerical variables. This is because Product Manager does not neccessarily means it is closer to Software Engineering than to Sales. This can create problems later on our classification model, therefore, we are using this binarification method.\n",
    "\n",
    "Now, after we have done the wrangling, our data is ready for the classification process. We are going to re-split the data with the same seed, so we have the exact same data we used before."
   ]
  },
  {
   "cell_type": "code",
   "execution_count": 17,
   "id": "6d57ab9e-29ae-427b-9ef2-88cc96248826",
   "metadata": {},
   "outputs": [
    {
     "data": {
      "text/html": [
       "<table class=\"dataframe\">\n",
       "<caption>A tibble: 5317 × 29</caption>\n",
       "<thead>\n",
       "\t<tr><th scope=col>company</th><th scope=col>yearsofexperience</th><th scope=col>totalyearlycompensation</th><th scope=col>gender</th><th scope=col>SE</th><th scope=col>SA</th><th scope=col>SEM</th><th scope=col>TPM</th><th scope=col>S</th><th scope=col>R</th><th scope=col>⋯</th><th scope=col>asian</th><th scope=col>twoormore</th><th scope=col>hispanic</th><th scope=col>white</th><th scope=col>black</th><th scope=col>PhD</th><th scope=col>master</th><th scope=col>bachelor</th><th scope=col>highschool</th><th scope=col>somecollege</th></tr>\n",
       "\t<tr><th scope=col>&lt;fct&gt;</th><th scope=col>&lt;dbl&gt;</th><th scope=col>&lt;dbl&gt;</th><th scope=col>&lt;dbl&gt;</th><th scope=col>&lt;dbl&gt;</th><th scope=col>&lt;dbl&gt;</th><th scope=col>&lt;dbl&gt;</th><th scope=col>&lt;dbl&gt;</th><th scope=col>&lt;dbl&gt;</th><th scope=col>&lt;dbl&gt;</th><th scope=col>⋯</th><th scope=col>&lt;dbl&gt;</th><th scope=col>&lt;dbl&gt;</th><th scope=col>&lt;dbl&gt;</th><th scope=col>&lt;dbl&gt;</th><th scope=col>&lt;dbl&gt;</th><th scope=col>&lt;dbl&gt;</th><th scope=col>&lt;dbl&gt;</th><th scope=col>&lt;dbl&gt;</th><th scope=col>&lt;dbl&gt;</th><th scope=col>&lt;dbl&gt;</th></tr>\n",
       "</thead>\n",
       "<tbody>\n",
       "\t<tr><td>Amazon</td><td>15</td><td>310000</td><td>1</td><td>1</td><td>0</td><td>0</td><td>0</td><td>0</td><td>0</td><td>⋯</td><td>1</td><td>0</td><td>0</td><td>0</td><td>0</td><td>0</td><td>0</td><td>1</td><td>0</td><td>0</td></tr>\n",
       "\t<tr><td>Amazon</td><td>19</td><td>620000</td><td>1</td><td>0</td><td>0</td><td>1</td><td>0</td><td>0</td><td>0</td><td>⋯</td><td>1</td><td>0</td><td>0</td><td>0</td><td>0</td><td>0</td><td>0</td><td>1</td><td>0</td><td>0</td></tr>\n",
       "\t<tr><td>Amazon</td><td> 4</td><td>210000</td><td>1</td><td>1</td><td>0</td><td>0</td><td>0</td><td>0</td><td>0</td><td>⋯</td><td>0</td><td>0</td><td>1</td><td>0</td><td>0</td><td>0</td><td>0</td><td>0</td><td>1</td><td>0</td></tr>\n",
       "\t<tr><td>⋮</td><td>⋮</td><td>⋮</td><td>⋮</td><td>⋮</td><td>⋮</td><td>⋮</td><td>⋮</td><td>⋮</td><td>⋮</td><td>⋱</td><td>⋮</td><td>⋮</td><td>⋮</td><td>⋮</td><td>⋮</td><td>⋮</td><td>⋮</td><td>⋮</td><td>⋮</td><td>⋮</td></tr>\n",
       "\t<tr><td>Microsoft</td><td>17</td><td>337000</td><td>1</td><td>1</td><td>0</td><td>0</td><td>0</td><td>0</td><td>0</td><td>⋯</td><td>1</td><td>0</td><td>0</td><td>0</td><td>0</td><td>0</td><td>1</td><td>0</td><td>0</td><td>0</td></tr>\n",
       "\t<tr><td>Microsoft</td><td> 1</td><td>177000</td><td>1</td><td>1</td><td>0</td><td>0</td><td>0</td><td>0</td><td>0</td><td>⋯</td><td>0</td><td>0</td><td>0</td><td>1</td><td>0</td><td>0</td><td>0</td><td>1</td><td>0</td><td>0</td></tr>\n",
       "\t<tr><td>Microsoft</td><td>10</td><td> 87000</td><td>1</td><td>1</td><td>0</td><td>0</td><td>0</td><td>0</td><td>0</td><td>⋯</td><td>0</td><td>0</td><td>0</td><td>1</td><td>0</td><td>0</td><td>1</td><td>0</td><td>0</td><td>0</td></tr>\n",
       "</tbody>\n",
       "</table>\n"
      ],
      "text/latex": [
       "A tibble: 5317 × 29\n",
       "\\begin{tabular}{lllllllllllllllllllll}\n",
       " company & yearsofexperience & totalyearlycompensation & gender & SE & SA & SEM & TPM & S & R & ⋯ & asian & twoormore & hispanic & white & black & PhD & master & bachelor & highschool & somecollege\\\\\n",
       " <fct> & <dbl> & <dbl> & <dbl> & <dbl> & <dbl> & <dbl> & <dbl> & <dbl> & <dbl> & ⋯ & <dbl> & <dbl> & <dbl> & <dbl> & <dbl> & <dbl> & <dbl> & <dbl> & <dbl> & <dbl>\\\\\n",
       "\\hline\n",
       "\t Amazon & 15 & 310000 & 1 & 1 & 0 & 0 & 0 & 0 & 0 & ⋯ & 1 & 0 & 0 & 0 & 0 & 0 & 0 & 1 & 0 & 0\\\\\n",
       "\t Amazon & 19 & 620000 & 1 & 0 & 0 & 1 & 0 & 0 & 0 & ⋯ & 1 & 0 & 0 & 0 & 0 & 0 & 0 & 1 & 0 & 0\\\\\n",
       "\t Amazon &  4 & 210000 & 1 & 1 & 0 & 0 & 0 & 0 & 0 & ⋯ & 0 & 0 & 1 & 0 & 0 & 0 & 0 & 0 & 1 & 0\\\\\n",
       "\t ⋮ & ⋮ & ⋮ & ⋮ & ⋮ & ⋮ & ⋮ & ⋮ & ⋮ & ⋮ & ⋱ & ⋮ & ⋮ & ⋮ & ⋮ & ⋮ & ⋮ & ⋮ & ⋮ & ⋮ & ⋮\\\\\n",
       "\t Microsoft & 17 & 337000 & 1 & 1 & 0 & 0 & 0 & 0 & 0 & ⋯ & 1 & 0 & 0 & 0 & 0 & 0 & 1 & 0 & 0 & 0\\\\\n",
       "\t Microsoft &  1 & 177000 & 1 & 1 & 0 & 0 & 0 & 0 & 0 & ⋯ & 0 & 0 & 0 & 1 & 0 & 0 & 0 & 1 & 0 & 0\\\\\n",
       "\t Microsoft & 10 &  87000 & 1 & 1 & 0 & 0 & 0 & 0 & 0 & ⋯ & 0 & 0 & 0 & 1 & 0 & 0 & 1 & 0 & 0 & 0\\\\\n",
       "\\end{tabular}\n"
      ],
      "text/markdown": [
       "\n",
       "A tibble: 5317 × 29\n",
       "\n",
       "| company &lt;fct&gt; | yearsofexperience &lt;dbl&gt; | totalyearlycompensation &lt;dbl&gt; | gender &lt;dbl&gt; | SE &lt;dbl&gt; | SA &lt;dbl&gt; | SEM &lt;dbl&gt; | TPM &lt;dbl&gt; | S &lt;dbl&gt; | R &lt;dbl&gt; | ⋯ ⋯ | asian &lt;dbl&gt; | twoormore &lt;dbl&gt; | hispanic &lt;dbl&gt; | white &lt;dbl&gt; | black &lt;dbl&gt; | PhD &lt;dbl&gt; | master &lt;dbl&gt; | bachelor &lt;dbl&gt; | highschool &lt;dbl&gt; | somecollege &lt;dbl&gt; |\n",
       "|---|---|---|---|---|---|---|---|---|---|---|---|---|---|---|---|---|---|---|---|---|\n",
       "| Amazon | 15 | 310000 | 1 | 1 | 0 | 0 | 0 | 0 | 0 | ⋯ | 1 | 0 | 0 | 0 | 0 | 0 | 0 | 1 | 0 | 0 |\n",
       "| Amazon | 19 | 620000 | 1 | 0 | 0 | 1 | 0 | 0 | 0 | ⋯ | 1 | 0 | 0 | 0 | 0 | 0 | 0 | 1 | 0 | 0 |\n",
       "| Amazon |  4 | 210000 | 1 | 1 | 0 | 0 | 0 | 0 | 0 | ⋯ | 0 | 0 | 1 | 0 | 0 | 0 | 0 | 0 | 1 | 0 |\n",
       "| ⋮ | ⋮ | ⋮ | ⋮ | ⋮ | ⋮ | ⋮ | ⋮ | ⋮ | ⋮ | ⋱ | ⋮ | ⋮ | ⋮ | ⋮ | ⋮ | ⋮ | ⋮ | ⋮ | ⋮ | ⋮ |\n",
       "| Microsoft | 17 | 337000 | 1 | 1 | 0 | 0 | 0 | 0 | 0 | ⋯ | 1 | 0 | 0 | 0 | 0 | 0 | 1 | 0 | 0 | 0 |\n",
       "| Microsoft |  1 | 177000 | 1 | 1 | 0 | 0 | 0 | 0 | 0 | ⋯ | 0 | 0 | 0 | 1 | 0 | 0 | 0 | 1 | 0 | 0 |\n",
       "| Microsoft | 10 |  87000 | 1 | 1 | 0 | 0 | 0 | 0 | 0 | ⋯ | 0 | 0 | 0 | 1 | 0 | 0 | 1 | 0 | 0 | 0 |\n",
       "\n"
      ],
      "text/plain": [
       "     company   yearsofexperience totalyearlycompensation gender SE SA SEM TPM S\n",
       "1    Amazon    15                310000                  1      1  0  0   0   0\n",
       "2    Amazon    19                620000                  1      0  0  1   0   0\n",
       "3    Amazon     4                210000                  1      1  0  0   0   0\n",
       "⋮    ⋮         ⋮                 ⋮                       ⋮      ⋮  ⋮  ⋮   ⋮   ⋮\n",
       "5315 Microsoft 17                337000                  1      1  0  0   0   0\n",
       "5316 Microsoft  1                177000                  1      1  0  0   0   0\n",
       "5317 Microsoft 10                 87000                  1      1  0  0   0   0\n",
       "     R ⋯ asian twoormore hispanic white black PhD master bachelor highschool\n",
       "1    0 ⋯ 1     0         0        0     0     0   0      1        0         \n",
       "2    0 ⋯ 1     0         0        0     0     0   0      1        0         \n",
       "3    0 ⋯ 0     0         1        0     0     0   0      0        1         \n",
       "⋮    ⋮ ⋱ ⋮     ⋮         ⋮        ⋮     ⋮     ⋮   ⋮      ⋮        ⋮         \n",
       "5315 0 ⋯ 1     0         0        0     0     0   1      0        0         \n",
       "5316 0 ⋯ 0     0         0        1     0     0   0      1        0         \n",
       "5317 0 ⋯ 0     0         0        1     0     0   1      0        0         \n",
       "     somecollege\n",
       "1    0          \n",
       "2    0          \n",
       "3    0          \n",
       "⋮    ⋮          \n",
       "5315 0          \n",
       "5316 0          \n",
       "5317 0          "
      ]
     },
     "metadata": {},
     "output_type": "display_data"
    },
    {
     "data": {
      "text/html": [
       "<table class=\"dataframe\">\n",
       "<caption>A tibble: 1775 × 29</caption>\n",
       "<thead>\n",
       "\t<tr><th scope=col>company</th><th scope=col>yearsofexperience</th><th scope=col>totalyearlycompensation</th><th scope=col>gender</th><th scope=col>SE</th><th scope=col>SA</th><th scope=col>SEM</th><th scope=col>TPM</th><th scope=col>S</th><th scope=col>R</th><th scope=col>⋯</th><th scope=col>asian</th><th scope=col>twoormore</th><th scope=col>hispanic</th><th scope=col>white</th><th scope=col>black</th><th scope=col>PhD</th><th scope=col>master</th><th scope=col>bachelor</th><th scope=col>highschool</th><th scope=col>somecollege</th></tr>\n",
       "\t<tr><th scope=col>&lt;fct&gt;</th><th scope=col>&lt;dbl&gt;</th><th scope=col>&lt;dbl&gt;</th><th scope=col>&lt;dbl&gt;</th><th scope=col>&lt;dbl&gt;</th><th scope=col>&lt;dbl&gt;</th><th scope=col>&lt;dbl&gt;</th><th scope=col>&lt;dbl&gt;</th><th scope=col>&lt;dbl&gt;</th><th scope=col>&lt;dbl&gt;</th><th scope=col>⋯</th><th scope=col>&lt;dbl&gt;</th><th scope=col>&lt;dbl&gt;</th><th scope=col>&lt;dbl&gt;</th><th scope=col>&lt;dbl&gt;</th><th scope=col>&lt;dbl&gt;</th><th scope=col>&lt;dbl&gt;</th><th scope=col>&lt;dbl&gt;</th><th scope=col>&lt;dbl&gt;</th><th scope=col>&lt;dbl&gt;</th><th scope=col>&lt;dbl&gt;</th></tr>\n",
       "</thead>\n",
       "<tbody>\n",
       "\t<tr><td>Google   </td><td>6</td><td>337000</td><td>1</td><td>1</td><td>0</td><td>0</td><td>0</td><td>0</td><td>0</td><td>⋯</td><td>1</td><td>0</td><td>0</td><td>0</td><td>0</td><td>0</td><td>0</td><td>1</td><td>0</td><td>0</td></tr>\n",
       "\t<tr><td>Microsoft</td><td>4</td><td>222000</td><td>1</td><td>1</td><td>0</td><td>0</td><td>0</td><td>0</td><td>0</td><td>⋯</td><td>1</td><td>0</td><td>0</td><td>0</td><td>0</td><td>0</td><td>1</td><td>0</td><td>0</td><td>0</td></tr>\n",
       "\t<tr><td>Apple    </td><td>1</td><td>180000</td><td>1</td><td>1</td><td>0</td><td>0</td><td>0</td><td>0</td><td>0</td><td>⋯</td><td>1</td><td>0</td><td>0</td><td>0</td><td>0</td><td>0</td><td>0</td><td>1</td><td>0</td><td>0</td></tr>\n",
       "\t<tr><td>⋮</td><td>⋮</td><td>⋮</td><td>⋮</td><td>⋮</td><td>⋮</td><td>⋮</td><td>⋮</td><td>⋮</td><td>⋮</td><td>⋱</td><td>⋮</td><td>⋮</td><td>⋮</td><td>⋮</td><td>⋮</td><td>⋮</td><td>⋮</td><td>⋮</td><td>⋮</td><td>⋮</td></tr>\n",
       "\t<tr><td>Microsoft</td><td>13</td><td>187000</td><td>0</td><td>0</td><td>0</td><td>0</td><td>1</td><td>0</td><td>0</td><td>⋯</td><td>1</td><td>0</td><td>0</td><td>0</td><td>0</td><td>0</td><td>0</td><td>1</td><td>0</td><td>0</td></tr>\n",
       "\t<tr><td>Microsoft</td><td>15</td><td>192000</td><td>1</td><td>1</td><td>0</td><td>0</td><td>0</td><td>0</td><td>0</td><td>⋯</td><td>0</td><td>0</td><td>0</td><td>1</td><td>0</td><td>0</td><td>0</td><td>1</td><td>0</td><td>0</td></tr>\n",
       "\t<tr><td>Facebook </td><td> 2</td><td>233000</td><td>1</td><td>0</td><td>0</td><td>0</td><td>0</td><td>0</td><td>0</td><td>⋯</td><td>1</td><td>0</td><td>0</td><td>0</td><td>0</td><td>0</td><td>0</td><td>1</td><td>0</td><td>0</td></tr>\n",
       "</tbody>\n",
       "</table>\n"
      ],
      "text/latex": [
       "A tibble: 1775 × 29\n",
       "\\begin{tabular}{lllllllllllllllllllll}\n",
       " company & yearsofexperience & totalyearlycompensation & gender & SE & SA & SEM & TPM & S & R & ⋯ & asian & twoormore & hispanic & white & black & PhD & master & bachelor & highschool & somecollege\\\\\n",
       " <fct> & <dbl> & <dbl> & <dbl> & <dbl> & <dbl> & <dbl> & <dbl> & <dbl> & <dbl> & ⋯ & <dbl> & <dbl> & <dbl> & <dbl> & <dbl> & <dbl> & <dbl> & <dbl> & <dbl> & <dbl>\\\\\n",
       "\\hline\n",
       "\t Google    & 6 & 337000 & 1 & 1 & 0 & 0 & 0 & 0 & 0 & ⋯ & 1 & 0 & 0 & 0 & 0 & 0 & 0 & 1 & 0 & 0\\\\\n",
       "\t Microsoft & 4 & 222000 & 1 & 1 & 0 & 0 & 0 & 0 & 0 & ⋯ & 1 & 0 & 0 & 0 & 0 & 0 & 1 & 0 & 0 & 0\\\\\n",
       "\t Apple     & 1 & 180000 & 1 & 1 & 0 & 0 & 0 & 0 & 0 & ⋯ & 1 & 0 & 0 & 0 & 0 & 0 & 0 & 1 & 0 & 0\\\\\n",
       "\t ⋮ & ⋮ & ⋮ & ⋮ & ⋮ & ⋮ & ⋮ & ⋮ & ⋮ & ⋮ & ⋱ & ⋮ & ⋮ & ⋮ & ⋮ & ⋮ & ⋮ & ⋮ & ⋮ & ⋮ & ⋮\\\\\n",
       "\t Microsoft & 13 & 187000 & 0 & 0 & 0 & 0 & 1 & 0 & 0 & ⋯ & 1 & 0 & 0 & 0 & 0 & 0 & 0 & 1 & 0 & 0\\\\\n",
       "\t Microsoft & 15 & 192000 & 1 & 1 & 0 & 0 & 0 & 0 & 0 & ⋯ & 0 & 0 & 0 & 1 & 0 & 0 & 0 & 1 & 0 & 0\\\\\n",
       "\t Facebook  &  2 & 233000 & 1 & 0 & 0 & 0 & 0 & 0 & 0 & ⋯ & 1 & 0 & 0 & 0 & 0 & 0 & 0 & 1 & 0 & 0\\\\\n",
       "\\end{tabular}\n"
      ],
      "text/markdown": [
       "\n",
       "A tibble: 1775 × 29\n",
       "\n",
       "| company &lt;fct&gt; | yearsofexperience &lt;dbl&gt; | totalyearlycompensation &lt;dbl&gt; | gender &lt;dbl&gt; | SE &lt;dbl&gt; | SA &lt;dbl&gt; | SEM &lt;dbl&gt; | TPM &lt;dbl&gt; | S &lt;dbl&gt; | R &lt;dbl&gt; | ⋯ ⋯ | asian &lt;dbl&gt; | twoormore &lt;dbl&gt; | hispanic &lt;dbl&gt; | white &lt;dbl&gt; | black &lt;dbl&gt; | PhD &lt;dbl&gt; | master &lt;dbl&gt; | bachelor &lt;dbl&gt; | highschool &lt;dbl&gt; | somecollege &lt;dbl&gt; |\n",
       "|---|---|---|---|---|---|---|---|---|---|---|---|---|---|---|---|---|---|---|---|---|\n",
       "| Google    | 6 | 337000 | 1 | 1 | 0 | 0 | 0 | 0 | 0 | ⋯ | 1 | 0 | 0 | 0 | 0 | 0 | 0 | 1 | 0 | 0 |\n",
       "| Microsoft | 4 | 222000 | 1 | 1 | 0 | 0 | 0 | 0 | 0 | ⋯ | 1 | 0 | 0 | 0 | 0 | 0 | 1 | 0 | 0 | 0 |\n",
       "| Apple     | 1 | 180000 | 1 | 1 | 0 | 0 | 0 | 0 | 0 | ⋯ | 1 | 0 | 0 | 0 | 0 | 0 | 0 | 1 | 0 | 0 |\n",
       "| ⋮ | ⋮ | ⋮ | ⋮ | ⋮ | ⋮ | ⋮ | ⋮ | ⋮ | ⋮ | ⋱ | ⋮ | ⋮ | ⋮ | ⋮ | ⋮ | ⋮ | ⋮ | ⋮ | ⋮ | ⋮ |\n",
       "| Microsoft | 13 | 187000 | 0 | 0 | 0 | 0 | 1 | 0 | 0 | ⋯ | 1 | 0 | 0 | 0 | 0 | 0 | 0 | 1 | 0 | 0 |\n",
       "| Microsoft | 15 | 192000 | 1 | 1 | 0 | 0 | 0 | 0 | 0 | ⋯ | 0 | 0 | 0 | 1 | 0 | 0 | 0 | 1 | 0 | 0 |\n",
       "| Facebook  |  2 | 233000 | 1 | 0 | 0 | 0 | 0 | 0 | 0 | ⋯ | 1 | 0 | 0 | 0 | 0 | 0 | 0 | 1 | 0 | 0 |\n",
       "\n"
      ],
      "text/plain": [
       "     company   yearsofexperience totalyearlycompensation gender SE SA SEM TPM S\n",
       "1    Google    6                 337000                  1      1  0  0   0   0\n",
       "2    Microsoft 4                 222000                  1      1  0  0   0   0\n",
       "3    Apple     1                 180000                  1      1  0  0   0   0\n",
       "⋮    ⋮         ⋮                 ⋮                       ⋮      ⋮  ⋮  ⋮   ⋮   ⋮\n",
       "1773 Microsoft 13                187000                  0      0  0  0   1   0\n",
       "1774 Microsoft 15                192000                  1      1  0  0   0   0\n",
       "1775 Facebook   2                233000                  1      0  0  0   0   0\n",
       "     R ⋯ asian twoormore hispanic white black PhD master bachelor highschool\n",
       "1    0 ⋯ 1     0         0        0     0     0   0      1        0         \n",
       "2    0 ⋯ 1     0         0        0     0     0   1      0        0         \n",
       "3    0 ⋯ 1     0         0        0     0     0   0      1        0         \n",
       "⋮    ⋮ ⋱ ⋮     ⋮         ⋮        ⋮     ⋮     ⋮   ⋮      ⋮        ⋮         \n",
       "1773 0 ⋯ 1     0         0        0     0     0   0      1        0         \n",
       "1774 0 ⋯ 0     0         0        1     0     0   0      1        0         \n",
       "1775 0 ⋯ 1     0         0        0     0     0   0      1        0         \n",
       "     somecollege\n",
       "1    0          \n",
       "2    0          \n",
       "3    0          \n",
       "⋮    ⋮          \n",
       "1773 0          \n",
       "1774 0          \n",
       "1775 0          "
      ]
     },
     "metadata": {},
     "output_type": "display_data"
    }
   ],
   "source": [
    "set.seed(2023)\n",
    "salary_split <- initial_split(ready_salary_data, prop = 0.75, strata = company)  \n",
    "salary_train <- training(salary_split)   \n",
    "salary_test <- testing(salary_split)\n",
    "salary_train\n",
    "salary_test"
   ]
  },
  {
   "cell_type": "markdown",
   "id": "83b4f6b1-c270-4ed6-aaa7-0d5848843f4c",
   "metadata": {},
   "source": [
    "Now, we can start entering our first part of the classification. Our goal so far here is to find an approximate of the accuracy of the classification model for our dataset, assuming all the predictors are relevant and contributes to our prediction class.\n",
    "\n",
    "Since we are using k-nn classification, we are firstly going to find the optimal numbers of neighbors, with the following steps:\n",
    "- We will create a recipe that uses all predictors and a model specification with tuning on the number of neighbours\n",
    "- We then perform a 3-fold cross-validation on the training set\n",
    "- Next, we create a workflow analysis with our recipe and model specification.\n",
    "- Lastly, collect the metrics from the workflow analysis and plot the accuracy of each *k* numbers of neighbors"
   ]
  },
  {
   "cell_type": "code",
   "execution_count": 18,
   "id": "97dcbd5a-2467-4155-b872-43afb199912a",
   "metadata": {},
   "outputs": [
    {
     "data": {
      "text/html": [
       "<table class=\"dataframe\">\n",
       "<caption>A tibble: 5 × 2</caption>\n",
       "<thead>\n",
       "\t<tr><th scope=col>company</th><th scope=col>count</th></tr>\n",
       "\t<tr><th scope=col>&lt;chr&gt;</th><th scope=col>&lt;int&gt;</th></tr>\n",
       "</thead>\n",
       "<tbody>\n",
       "\t<tr><td>Amazon   </td><td>2576</td></tr>\n",
       "\t<tr><td>Microsoft</td><td>1612</td></tr>\n",
       "\t<tr><td>Google   </td><td>1306</td></tr>\n",
       "\t<tr><td>Facebook </td><td> 999</td></tr>\n",
       "\t<tr><td>Apple    </td><td> 599</td></tr>\n",
       "</tbody>\n",
       "</table>\n"
      ],
      "text/latex": [
       "A tibble: 5 × 2\n",
       "\\begin{tabular}{ll}\n",
       " company & count\\\\\n",
       " <chr> & <int>\\\\\n",
       "\\hline\n",
       "\t Amazon    & 2576\\\\\n",
       "\t Microsoft & 1612\\\\\n",
       "\t Google    & 1306\\\\\n",
       "\t Facebook  &  999\\\\\n",
       "\t Apple     &  599\\\\\n",
       "\\end{tabular}\n"
      ],
      "text/markdown": [
       "\n",
       "A tibble: 5 × 2\n",
       "\n",
       "| company &lt;chr&gt; | count &lt;int&gt; |\n",
       "|---|---|\n",
       "| Amazon    | 2576 |\n",
       "| Microsoft | 1612 |\n",
       "| Google    | 1306 |\n",
       "| Facebook  |  999 |\n",
       "| Apple     |  599 |\n",
       "\n"
      ],
      "text/plain": [
       "  company   count\n",
       "1 Amazon    2576 \n",
       "2 Microsoft 1612 \n",
       "3 Google    1306 \n",
       "4 Facebook   999 \n",
       "5 Apple      599 "
      ]
     },
     "metadata": {},
     "output_type": "display_data"
    }
   ],
   "source": [
    "top_5_company_count"
   ]
  },
  {
   "cell_type": "markdown",
   "id": "dabeeef5-2cb3-4537-a59a-79d40ba3d718",
   "metadata": {},
   "source": [
    "- Creating a recipe\n",
    "\n",
    "Since k-nn classification uses euclidean distance to measure the distance of each neighbors, we need to scale the data considering some predictors such as `totalyearlycompensation` is obviously bigger and not in ratio with the binary predictors, `gender`, `asian`, etc. We also need to upsample the class, which is company, since as we see above, `top_5_company_count`, the companies are not balanced, which can lead to some majority classes chosen in favor if the k-nn algorithm. We can use this upsample method from package `themis`, which has been installed in the beginning."
   ]
  },
  {
   "cell_type": "code",
   "execution_count": 19,
   "id": "ae7fcd57-6229-4314-b30d-639f2a8d7aca",
   "metadata": {},
   "outputs": [],
   "source": [
    "salary_recipe <- recipe(company ~., data = salary_train) |>\n",
    "                step_scale(all_predictors()) |>\n",
    "                step_center(all_predictors())\n",
    "salary_recipe_upsampled <- salary_recipe |> \n",
    "                        step_upsample(company, over_ratio = 1)"
   ]
  },
  {
   "cell_type": "markdown",
   "id": "516ffa72-85e6-4991-ae90-8770676aa568",
   "metadata": {},
   "source": [
    "- Performing 3-fold cross-validation\n",
    "\n",
    "We can slowly do this with `vfold_cv()`. Note that here since it is taking so long to perform a 5-fold cross-validation, we will use 3-fold cross-validation instead."
   ]
  },
  {
   "cell_type": "code",
   "execution_count": 20,
   "id": "ce2a0c06-ba33-4da9-bb5e-f53f728e2963",
   "metadata": {},
   "outputs": [],
   "source": [
    "set.seed(2023)\n",
    "salary_vfold <- vfold_cv(salary_train, v = 3, strata = company)"
   ]
  },
  {
   "cell_type": "markdown",
   "id": "0e7a4256-b8e5-4afa-b399-3da8d51ad599",
   "metadata": {},
   "source": [
    "- Creating workflow analysis\n",
    "\n",
    "We are going to make the classification model which accepts tune classifier, then we can put the recipe and model into a workflow, which we can resample using the cross-validation using *k* values 20, 40, 60, ... , 200, as follows. Note that the following cell takes time about 10 minutes to run, hence might cause some error when graded with the default autotester used for the worksheets and tutorials in class."
   ]
  },
  {
   "cell_type": "code",
   "execution_count": 43,
   "id": "c79c3489-8a44-4c07-a45f-a50c8cc3a733",
   "metadata": {},
   "outputs": [],
   "source": [
    "knn_tune <- nearest_neighbor(weight_func = \"rectangular\", \n",
    "                             neighbors = tune()) |>\n",
    "            set_engine(\"kknn\") |>\n",
    "            set_mode(\"classification\")\n",
    "k_values <- tibble(neighbors = seq(20,200,20))\n",
    "knn_workflow <- workflow() |>\n",
    "      add_recipe(salary_recipe_upsampled) |>\n",
    "      add_model(knn_tune) |>\n",
    "      tune_grid(resamples = salary_vfold, grid = k_values)"
   ]
  },
  {
   "cell_type": "markdown",
   "id": "fa9ce105-6a12-4bad-932c-1acc2ff73334",
   "metadata": {},
   "source": [
    "- Now we plot the accuracies of using each `k` neighbors"
   ]
  },
  {
   "cell_type": "code",
   "execution_count": 41,
   "id": "7a640345-c97b-4d49-9a39-3070a2ed5ce9",
   "metadata": {},
   "outputs": [
    {
     "data": {
      "image/png": "[encoded data removed]",
      "text/plain": [
       "plot without title"
      ]
     },
     "metadata": {
      "image/png": {
       "height": 480,
       "width": 900
      }
     },
     "output_type": "display_data"
    }
   ],
   "source": [
    "accuracies <- knn_workflow |> collect_metrics() |> filter(.metric == \"accuracy\")\n",
    "cross_val_plot <- ggplot(accuracies, aes(x = neighbors, y = mean))+\n",
    "      geom_point() +\n",
    "      geom_line() +\n",
    "      labs(title= \"Accuracy for Different k Neighbors\", x = \"Neighbors\", y = \"Accuracy Estimate\") +\n",
    "      scale_x_continuous(breaks = seq(20, 200, by = 20))  # adjusting the x-axis\n",
    "#+       scale_y_continuous(limits = c(0.4, 1.0)) # adjusting the y-axis\n",
    "cross_val_plot"
   ]
  },
  {
   "cell_type": "markdown",
   "id": "19b9211d-df1a-4491-b060-10a057554016",
   "metadata": {},
   "source": [
    "As we can see in the plot above, the *k* number of neighbors which yield the highest possible accuracy out of all cross validation is about 200. Hence, we are going to use 200 as the number of neighbors in our classification model. \n",
    "\n",
    "It is important to note here, that the accuracy estimate for the cross-validation is very low, sitting at maximum 0.364 or 36.4%. This might be because of the very rough distribution of all the predictors making the company prediction quite unreliable. "
   ]
  },
  {
   "cell_type": "markdown",
   "id": "db2f30ca-ce24-4e5f-ac53-d50befe2c443",
   "metadata": {},
   "source": [
    "After getting the optimal number of neighbors yielding the highest accuracy, we can finally go into the second part of the classification, building our model and fitting them to the training data set, `salary_train`, as follows:"
   ]
  },
  {
   "cell_type": "code",
   "execution_count": 44,
   "id": "f71300af-d20d-447b-b0fa-f78f68414ca0",
   "metadata": {},
   "outputs": [],
   "source": [
    "#2 Upsampled salary training data, having the same number of observations for each class\n",
    "balanced_salary_train <- salary_recipe_upsampled |> prep() |> bake(salary_train)\n",
    "balanced_salary_train_companies <- balanced_salary_train |> group_by(company) |> summarize(count=n())\n",
    "\n",
    "#2 New recipe made from just the upsampled salary training data\n",
    "balanced_salary_recipe <- recipe(company ~., data = balanced_salary_train) |>\n",
    "                        step_scale(all_predictors()) |>\n",
    "                        step_center(all_predictors())\n",
    "\n",
    "# Model for calculating k-nn classification algorithm\n",
    "salary_spec <- nearest_neighbor(weight_func = 'rectangular', neighbors = 200) |>\n",
    "      set_engine('kknn') |>\n",
    "      set_mode(\"classification\")\n",
    "\n",
    "#2 Workflow fit made from the balanced recipe and balanced training data\n",
    "balanced_salary_fit <- workflow() |>\n",
    "      add_recipe(balanced_salary_recipe) |>\n",
    "      add_model(salary_spec) |>\n",
    "      fit(data = balanced_salary_train)\n",
    "\n",
    "#1 Usual workflow with training data and imbalanced data\n",
    "salary_fit <- workflow() |>\n",
    "      add_recipe(salary_recipe) |>\n",
    "      add_model(salary_spec) |>\n",
    "      fit(data = salary_train)"
   ]
  },
  {
   "cell_type": "code",
   "execution_count": 40,
   "id": "dbd0563e-4422-4350-8335-1400cf9a54b7",
   "metadata": {},
   "outputs": [
    {
     "data": {
      "text/html": [
       "<table class=\"dataframe\">\n",
       "<caption>A tibble: 2 × 3</caption>\n",
       "<thead>\n",
       "\t<tr><th scope=col>.metric</th><th scope=col>.estimator</th><th scope=col>.estimate</th></tr>\n",
       "\t<tr><th scope=col>&lt;chr&gt;</th><th scope=col>&lt;chr&gt;</th><th scope=col>&lt;dbl&gt;</th></tr>\n",
       "</thead>\n",
       "<tbody>\n",
       "\t<tr><td>accuracy</td><td>multiclass</td><td>0.4033803</td></tr>\n",
       "\t<tr><td>kap     </td><td>multiclass</td><td>0.0987947</td></tr>\n",
       "</tbody>\n",
       "</table>\n"
      ],
      "text/latex": [
       "A tibble: 2 × 3\n",
       "\\begin{tabular}{lll}\n",
       " .metric & .estimator & .estimate\\\\\n",
       " <chr> & <chr> & <dbl>\\\\\n",
       "\\hline\n",
       "\t accuracy & multiclass & 0.4033803\\\\\n",
       "\t kap      & multiclass & 0.0987947\\\\\n",
       "\\end{tabular}\n"
      ],
      "text/markdown": [
       "\n",
       "A tibble: 2 × 3\n",
       "\n",
       "| .metric &lt;chr&gt; | .estimator &lt;chr&gt; | .estimate &lt;dbl&gt; |\n",
       "|---|---|---|\n",
       "| accuracy | multiclass | 0.4033803 |\n",
       "| kap      | multiclass | 0.0987947 |\n",
       "\n"
      ],
      "text/plain": [
       "  .metric  .estimator .estimate\n",
       "1 accuracy multiclass 0.4033803\n",
       "2 kap      multiclass 0.0987947"
      ]
     },
     "metadata": {},
     "output_type": "display_data"
    },
    {
     "data": {
      "text/plain": [
       "           Truth\n",
       "Prediction  Amazon Apple Facebook Google Microsoft\n",
       "  Amazon       605    96      197    276       335\n",
       "  Apple          5    31        4      2        10\n",
       "  Facebook       6     5       18     13         4\n",
       "  Google        21    10       20     29        17\n",
       "  Microsoft     16     6        3     13        33"
      ]
     },
     "metadata": {},
     "output_type": "display_data"
    },
    {
     "data": {
      "text/html": [
       "<table class=\"dataframe\">\n",
       "<caption>A tibble: 2 × 3</caption>\n",
       "<thead>\n",
       "\t<tr><th scope=col>.metric</th><th scope=col>.estimator</th><th scope=col>.estimate</th></tr>\n",
       "\t<tr><th scope=col>&lt;chr&gt;</th><th scope=col>&lt;chr&gt;</th><th scope=col>&lt;dbl&gt;</th></tr>\n",
       "</thead>\n",
       "<tbody>\n",
       "\t<tr><td>accuracy</td><td>multiclass</td><td>0.136338</td></tr>\n",
       "\t<tr><td>kap     </td><td>multiclass</td><td>0.000000</td></tr>\n",
       "</tbody>\n",
       "</table>\n"
      ],
      "text/latex": [
       "A tibble: 2 × 3\n",
       "\\begin{tabular}{lll}\n",
       " .metric & .estimator & .estimate\\\\\n",
       " <chr> & <chr> & <dbl>\\\\\n",
       "\\hline\n",
       "\t accuracy & multiclass & 0.136338\\\\\n",
       "\t kap      & multiclass & 0.000000\\\\\n",
       "\\end{tabular}\n"
      ],
      "text/markdown": [
       "\n",
       "A tibble: 2 × 3\n",
       "\n",
       "| .metric &lt;chr&gt; | .estimator &lt;chr&gt; | .estimate &lt;dbl&gt; |\n",
       "|---|---|---|\n",
       "| accuracy | multiclass | 0.136338 |\n",
       "| kap      | multiclass | 0.000000 |\n",
       "\n"
      ],
      "text/plain": [
       "  .metric  .estimator .estimate\n",
       "1 accuracy multiclass 0.136338 \n",
       "2 kap      multiclass 0.000000 "
      ]
     },
     "metadata": {},
     "output_type": "display_data"
    },
    {
     "data": {
      "text/plain": [
       "           Truth\n",
       "Prediction  Amazon Apple Facebook Google Microsoft\n",
       "  Amazon         0     0        0      0         0\n",
       "  Apple          0     0        0      0         0\n",
       "  Facebook     653   148      242    333       399\n",
       "  Google         0     0        0      0         0\n",
       "  Microsoft      0     0        0      0         0"
      ]
     },
     "metadata": {},
     "output_type": "display_data"
    }
   ],
   "source": [
    "#1 prediction using the usual fit without balancing\n",
    "salary_predictions <- predict(salary_fit, salary_test) |> bind_cols(salary_test)\n",
    "salary_metrics <- salary_predictions |>\n",
    "                 metrics(truth = company, estimate = .pred_class)\n",
    "salary_conf_mat <- salary_predictions |> \n",
    "      conf_mat(truth = company, estimate = .pred_class)\n",
    "salary_metrics\n",
    "salary_conf_mat\n",
    "\n",
    "#2 prediction using the upsampled fit\n",
    "balanced_salary_predictions <- predict(balanced_salary_fit, salary_test) |> bind_cols(salary_test)\n",
    "balanced_salary_metrics <- balanced_salary_predictions |>\n",
    "                 metrics(truth = company, estimate = .pred_class)\n",
    "balanced_salary_conf_mat <- balanced_salary_predictions |> \n",
    "      conf_mat(truth = company, estimate = .pred_class)\n",
    "balanced_salary_metrics\n",
    "balanced_salary_conf_mat"
   ]
  },
  {
   "cell_type": "markdown",
   "id": "939375d7-1583-4d69-96fd-b4dd7d2892dd",
   "metadata": {},
   "source": [
    "As we see from above, we used two different methods for the predictions:\n",
    "- Firstly, as marked by #1, we make the prediction using the workflow fit made from the recipe without balancing or upsampling the data. The accuracy we get from this prediction is about 40.3%, which is quite small, because we only use the same imbalanced data to predict the class.\n",
    "- The next prediction method, as marked by #2, we get using workflow fit made from the recipe with balancing loaded with the upsampled, balanced data. Strangely, no matter what number of neighbors *k* we put inside our spec model, it kept on predicting the same class over and over. \n",
    "Hence, a question emerges, does this mean we cannot use upsample in predicting the classes?\n",
    "\n",
    "Considering how we got here so far, considering how we see the visualizations of the variable distribution per class above, we do not intend to answer this question, since it is likely that the model will not predict correctly most of the time because the variables are very weakly related to the prediction class itself. \n",
    "\n",
    "Hence, from here, should we just take the accuracy of the model we have just made, using 5-fold cross-validations' recommended k-value for dealing with balanced data to determine the most optimal k-value in our model which have the imbalanced training data fitted in?\n",
    "\n",
    "It does not sound right. We are going to find out in case that we can pull some conclusions through here. This time, we are using 5-fold cross-validations' recommended k-value for dealing with imbalanced data instead, and we will compare the accuracy of this new model to the previous one. Again, the following cell run for about 10 minutes."
   ]
  },
  {
   "cell_type": "code",
   "execution_count": 36,
   "id": "888bfe53-4bc6-4aac-9179-f5964554c82f",
   "metadata": {},
   "outputs": [],
   "source": [
    "k_values_2 <- tibble(neighbors = seq(5,90,5))\n",
    "knn_workflow_2 <- workflow() |>\n",
    "      add_recipe(salary_recipe) |>\n",
    "      add_model(knn_tune) |>\n",
    "      tune_grid(resamples = salary_vfold, grid = k_values_2)"
   ]
  },
  {
   "cell_type": "markdown",
   "id": "a63ccf5f-3525-41e6-a2de-4889d4990e0f",
   "metadata": {},
   "source": [
    "It is important to note, after further testing, we don't need more than 90 neighbors to see the peak, which is the optimized k value."
   ]
  },
  {
   "cell_type": "code",
   "execution_count": 37,
   "id": "8b8cb82b-6185-4183-9cff-6056ee564afa",
   "metadata": {},
   "outputs": [
    {
     "data": {
      "image/png": "[encoded data removed]",
      "text/plain": [
       "plot without title"
      ]
     },
     "metadata": {
      "image/png": {
       "height": 480,
       "width": 900
      }
     },
     "output_type": "display_data"
    }
   ],
   "source": [
    "accuracies_2 <- knn_workflow_2 |> collect_metrics() |> filter(.metric == \"accuracy\")\n",
    "cross_val_plot_2 <- ggplot(accuracies_2, aes(x = neighbors, y = mean))+\n",
    "      geom_point() +\n",
    "      geom_line() +\n",
    "      labs(title= \"Accuracy for Different k Neighbors\", x = \"Neighbors\", y = \"Accuracy Estimate\") +\n",
    "      scale_x_continuous(breaks = seq(5, 90, by = 5))\n",
    "cross_val_plot_2"
   ]
  },
  {
   "cell_type": "code",
   "execution_count": 26,
   "id": "f7fbc15b-f627-49f7-b121-954810382576",
   "metadata": {},
   "outputs": [
    {
     "data": {
      "text/html": [
       "<table class=\"dataframe\">\n",
       "<caption>A tibble: 2 × 3</caption>\n",
       "<thead>\n",
       "\t<tr><th scope=col>.metric</th><th scope=col>.estimator</th><th scope=col>.estimate</th></tr>\n",
       "\t<tr><th scope=col>&lt;chr&gt;</th><th scope=col>&lt;chr&gt;</th><th scope=col>&lt;dbl&gt;</th></tr>\n",
       "</thead>\n",
       "<tbody>\n",
       "\t<tr><td>accuracy</td><td>multiclass</td><td>0.4338028</td></tr>\n",
       "\t<tr><td>kap     </td><td>multiclass</td><td>0.2021583</td></tr>\n",
       "</tbody>\n",
       "</table>\n"
      ],
      "text/latex": [
       "A tibble: 2 × 3\n",
       "\\begin{tabular}{lll}\n",
       " .metric & .estimator & .estimate\\\\\n",
       " <chr> & <chr> & <dbl>\\\\\n",
       "\\hline\n",
       "\t accuracy & multiclass & 0.4338028\\\\\n",
       "\t kap      & multiclass & 0.2021583\\\\\n",
       "\\end{tabular}\n"
      ],
      "text/markdown": [
       "\n",
       "A tibble: 2 × 3\n",
       "\n",
       "| .metric &lt;chr&gt; | .estimator &lt;chr&gt; | .estimate &lt;dbl&gt; |\n",
       "|---|---|---|\n",
       "| accuracy | multiclass | 0.4338028 |\n",
       "| kap      | multiclass | 0.2021583 |\n",
       "\n"
      ],
      "text/plain": [
       "  .metric  .estimator .estimate\n",
       "1 accuracy multiclass 0.4338028\n",
       "2 kap      multiclass 0.2021583"
      ]
     },
     "metadata": {},
     "output_type": "display_data"
    },
    {
     "data": {
      "text/plain": [
       "           Truth\n",
       "Prediction  Amazon Apple Facebook Google Microsoft\n",
       "  Amazon       470    59      105    173       221\n",
       "  Apple          9    38        6      9        13\n",
       "  Facebook      20    12       57     27        13\n",
       "  Google        67    22       45     77        24\n",
       "  Microsoft     87    17       29     47       128"
      ]
     },
     "metadata": {},
     "output_type": "display_data"
    }
   ],
   "source": [
    "salary_spec_2 <- nearest_neighbor(weight_func = 'rectangular', neighbors = 35) |>\n",
    "      set_engine('kknn') |>\n",
    "      set_mode(\"classification\")\n",
    "salary_fit_2 <- workflow() |>\n",
    "      add_recipe(salary_recipe) |>\n",
    "      add_model(salary_spec_2) |>\n",
    "      fit(data = salary_train)\n",
    "salary_predictions_2 <- predict(salary_fit_2, salary_test) |> bind_cols(salary_test)\n",
    "salary_metrics_2 <- salary_predictions_2 |>\n",
    "                 metrics(truth = company, estimate = .pred_class)\n",
    "salary_conf_mat_2 <- salary_predictions_2 |> \n",
    "      conf_mat(truth = company, estimate = .pred_class)\n",
    "salary_metrics_2\n",
    "salary_conf_mat_2"
   ]
  },
  {
   "cell_type": "markdown",
   "id": "a9c93a43-e308-4f89-bb55-2d79771fe34f",
   "metadata": {},
   "source": [
    "From here, if we just use the usual data without any balancing, we improve to about 43.3% instead of 40.3% accuracy. This is because of how we eventually fitted the model on an imbalanced data, it is better to use the recommended neighbors from cross-validation of the imbalanced data instead of the one from cross-validation of the balanced data.\n",
    "\n",
    "Nevertheless, 43.3% accuracy is still low because the majority classifier, Amazon, is in the lead for about 36.3% as shown below."
   ]
  },
  {
   "cell_type": "code",
   "execution_count": 27,
   "id": "f76ec608-37ef-4ac3-90b0-750a0407e449",
   "metadata": {},
   "outputs": [
    {
     "data": {
      "text/html": [
       "0.363226170332769"
      ],
      "text/latex": [
       "0.363226170332769"
      ],
      "text/markdown": [
       "0.363226170332769"
      ],
      "text/plain": [
       "[1] 0.3632262"
      ]
     },
     "metadata": {},
     "output_type": "display_data"
    }
   ],
   "source": [
    "amazon_count <- slice(top_5_company_count, 1) |> pull(count)\n",
    "total_sum <- top_5_company_count |> summarize(total=sum(count))\n",
    "ratio <- amazon_count / pull(total_sum)\n",
    "ratio"
   ]
  },
  {
   "cell_type": "markdown",
   "id": "d26a4135-c17b-444f-bb4f-9538748189f1",
   "metadata": {},
   "source": [
    "This is very sad because in the end, we only managed get 7% accuracy above the majority classifier, which is really bad for a classification model, not enough to be considered \"working\". There might be many reason for this:\n",
    "- The data is imbalanced, hence some classes are predicted more often than another, causing a lot of \"misses\" in the prediction\n",
    "- The predictors are very weakly affecting the prediction, hence there is no actual relationship between the predictors and the class, company. This could happen if the distribution of each predictors for each class is very similar, causing the model to incorrectly predict the test cases. This will make the predictors become no longer relevant in predicting the class.\n",
    "\n",
    "Notice that these factors are the weaknesses of the *k*-nn classification, since the classes are imbalanced and there might be a lot of irrelevant predictors in predicting the company, weakening the accuracy of classification of this algorithm.\n",
    "\n",
    "After this model failure of predicting the company correctly, we are going to assume that there are some irrelevant predictors we do not need in our dataset.\n",
    "With that being said, we will be trying to address the second problem above, by doing forward selection to answer our original question."
   ]
  },
  {
   "cell_type": "markdown",
   "id": "55efff97-0397-4c95-ac6c-cc2ae60b592c",
   "metadata": {},
   "source": [
    "Here is how the forward selection works in order to determine which predictors, if any, works with the highest accuracy among all of the predictors:\n",
    "- For every size from 1 to some number of predictors, the model will perform all steps we have done so far in calculating the accuracy. This includes making recipe, performing cross-validation which test the model's accuracy for neighbor of what we picked above, which is 35 neighbors. Note that usually in forward selection we tune the neighbors, for each of the k value, which will be really time consuming (as experimented for 6 hours of trial and error), hence we are trying to simplify to make this program run. Then, it will pick the most optimal accuracy from all of them, and then store it in one row of a table we made. This is repeated for the first predictor, and then the first and second predictor, and then the first and second and the third predictor, all the way to the last predictor we have, which is the last iterator will run the step we have just made above. \n",
    "However, in addition to these steps, we will only run some predictors at a time. So in the following, these are the set of predictors we are going to run:\n",
    "    - `totalyearlycompensation`, `gender`, `highschool`, `PhD`\n",
    "    - `SE`,`SA`,`SEM`,`master`, `white`\n",
    "    - `bachelor`, `hispanic`, `TPM`, `S`, and `R`\n",
    "    - `PM`, `PD`, `ME`, `black`, `M`\n",
    "    - `MC`, `HR`, `HE`, `twoormore`, `yearsofexperience`\n",
    "    - `DS`, `BA`, `asian`,`somecollege`\n",
    "- In each of the tables, we will see which combinations of predictors have the most accuracy of all by visualizing a line graph and identifying the elbow of the line graph for each number of predictors.\n",
    "\n",
    "Note that for simplification purpose, we will not rename the variables name, so make sure to run these 6 blocks of code sequentially in order."
   ]
  },
  {
   "cell_type": "code",
   "execution_count": 28,
   "id": "eb4f7252-d88e-4eb8-a4e4-4a53e686b0f3",
   "metadata": {},
   "outputs": [
    {
     "data": {
      "text/html": [
       "<table class=\"dataframe\">\n",
       "<caption>A tibble: 4 × 3</caption>\n",
       "<thead>\n",
       "\t<tr><th scope=col>size</th><th scope=col>model_string</th><th scope=col>accuracy</th></tr>\n",
       "\t<tr><th scope=col>&lt;int&gt;</th><th scope=col>&lt;chr&gt;</th><th scope=col>&lt;dbl&gt;</th></tr>\n",
       "</thead>\n",
       "<tbody>\n",
       "\t<tr><td>1</td><td>company ~ totalyearlycompensation                      </td><td>0.3738973</td></tr>\n",
       "\t<tr><td>2</td><td>company ~ totalyearlycompensation+PhD                  </td><td>0.3831136</td></tr>\n",
       "\t<tr><td>3</td><td>company ~ totalyearlycompensation+PhD+highschool       </td><td>0.3814187</td></tr>\n",
       "\t<tr><td>4</td><td>company ~ totalyearlycompensation+PhD+highschool+gender</td><td>0.3831121</td></tr>\n",
       "</tbody>\n",
       "</table>\n"
      ],
      "text/latex": [
       "A tibble: 4 × 3\n",
       "\\begin{tabular}{lll}\n",
       " size & model\\_string & accuracy\\\\\n",
       " <int> & <chr> & <dbl>\\\\\n",
       "\\hline\n",
       "\t 1 & company \\textasciitilde{} totalyearlycompensation                       & 0.3738973\\\\\n",
       "\t 2 & company \\textasciitilde{} totalyearlycompensation+PhD                   & 0.3831136\\\\\n",
       "\t 3 & company \\textasciitilde{} totalyearlycompensation+PhD+highschool        & 0.3814187\\\\\n",
       "\t 4 & company \\textasciitilde{} totalyearlycompensation+PhD+highschool+gender & 0.3831121\\\\\n",
       "\\end{tabular}\n"
      ],
      "text/markdown": [
       "\n",
       "A tibble: 4 × 3\n",
       "\n",
       "| size &lt;int&gt; | model_string &lt;chr&gt; | accuracy &lt;dbl&gt; |\n",
       "|---|---|---|\n",
       "| 1 | company ~ totalyearlycompensation                       | 0.3738973 |\n",
       "| 2 | company ~ totalyearlycompensation+PhD                   | 0.3831136 |\n",
       "| 3 | company ~ totalyearlycompensation+PhD+highschool        | 0.3814187 |\n",
       "| 4 | company ~ totalyearlycompensation+PhD+highschool+gender | 0.3831121 |\n",
       "\n"
      ],
      "text/plain": [
       "  size model_string                                            accuracy \n",
       "1 1    company ~ totalyearlycompensation                       0.3738973\n",
       "2 2    company ~ totalyearlycompensation+PhD                   0.3831136\n",
       "3 3    company ~ totalyearlycompensation+PhD+highschool        0.3814187\n",
       "4 4    company ~ totalyearlycompensation+PhD+highschool+gender 0.3831121"
      ]
     },
     "metadata": {},
     "output_type": "display_data"
    }
   ],
   "source": [
    "salary_train_simple <- salary_train |> select(company, totalyearlycompensation, gender, highschool, PhD)\n",
    "\n",
    "# create an empty tibble to store the results\n",
    "accuracies <- tibble(size = integer(), \n",
    "                     model_string = character(), \n",
    "                     accuracy = numeric())\n",
    "\n",
    "# extracting column name from all but classes\n",
    "names <- colnames(salary_train_simple |> select(-company))\n",
    "\n",
    "# create a model specification\n",
    "# we have created salary_spec for this above\n",
    "\n",
    "# create a 5-fold cross-validation object\n",
    "# we have created salary_vfold\n",
    "simple_vfold <- vfold_cv(salary_train_simple, v = 3, strata = company)\n",
    "\n",
    "# store the total number of predictors\n",
    "n_total <- length(names)\n",
    "\n",
    "# stores selected predictors\n",
    "selected <- c()\n",
    "\n",
    "# for every size from 1 to the total number of predictors\n",
    "for (i in 1:n_total) {\n",
    "    # for every predictor still not added yet\n",
    "    accs <- list()\n",
    "    models <- list()\n",
    "    for (j in 1:length(names)) {\n",
    "        # create a model string for this combination of predictors\n",
    "        preds_new <- c(selected, names[[j]])\n",
    "        model_string <- paste(\"company\", \"~\", paste(preds_new, collapse=\"+\"))\n",
    "\n",
    "        # create a recipe from the model string\n",
    "        salary_running_recipe <- recipe(as.formula(model_string), \n",
    "                                data = salary_train_simple) |>\n",
    "                          step_scale(all_predictors()) |>\n",
    "                          step_center(all_predictors())\n",
    "\n",
    "        # tune the KNN classifier with these predictors, \n",
    "        # and collect the accuracy for the best K\n",
    "        acc <- workflow() |>\n",
    "          add_recipe(salary_running_recipe) |>\n",
    "          add_model(knn_tune) |>\n",
    "          tune_grid(resamples = simple_vfold, grid = tibble(neighbors = c(35))) |>\n",
    "          collect_metrics() |>\n",
    "          filter(.metric == \"accuracy\") |>\n",
    "          summarize(mx = max(mean))\n",
    "        acc <- acc$mx |> unlist()\n",
    "\n",
    "        # add this result to the dataframe\n",
    "        accs[[j]] <- acc\n",
    "        models[[j]] <- model_string\n",
    "    }\n",
    "    jstar <- which.max(unlist(accs))\n",
    "    accuracies <- accuracies |> \n",
    "      add_row(size = i, \n",
    "              model_string = models[[jstar]], \n",
    "              accuracy = accs[[jstar]])\n",
    "    selected <- c(selected, names[[jstar]])\n",
    "    names <- names[-jstar]\n",
    "}\n",
    "accuracies"
   ]
  },
  {
   "cell_type": "markdown",
   "id": "db5365d5-a62b-462f-8214-672ad06c1697",
   "metadata": {},
   "source": [
    "As we can see, the most optimal predictor combination here which lead to increase are totalyearlycompensation and PhD education"
   ]
  },
  {
   "cell_type": "code",
   "execution_count": null,
   "id": "435936f5-2633-4fda-b403-663dc51a1555",
   "metadata": {},
   "outputs": [
    {
     "data": {
      "text/html": [
       "<table class=\"dataframe\">\n",
       "<caption>A tibble: 5 × 3</caption>\n",
       "<thead>\n",
       "\t<tr><th scope=col>size</th><th scope=col>model_string</th><th scope=col>accuracy</th></tr>\n",
       "\t<tr><th scope=col>&lt;int&gt;</th><th scope=col>&lt;chr&gt;</th><th scope=col>&lt;dbl&gt;</th></tr>\n",
       "</thead>\n",
       "<tbody>\n",
       "\t<tr><td>1</td><td>company ~ SA                    </td><td>0.3616694</td></tr>\n",
       "\t<tr><td>2</td><td>company ~ SA+SE                 </td><td>0.3616694</td></tr>\n",
       "\t<tr><td>3</td><td>company ~ SA+SE+SEM             </td><td>0.3616694</td></tr>\n",
       "\t<tr><td>4</td><td>company ~ SA+SE+SEM+master      </td><td>0.3616694</td></tr>\n",
       "\t<tr><td>5</td><td>company ~ SA+SE+SEM+master+white</td><td>0.3616694</td></tr>\n",
       "</tbody>\n",
       "</table>\n"
      ],
      "text/latex": [
       "A tibble: 5 × 3\n",
       "\\begin{tabular}{lll}\n",
       " size & model\\_string & accuracy\\\\\n",
       " <int> & <chr> & <dbl>\\\\\n",
       "\\hline\n",
       "\t 1 & company \\textasciitilde{} SA                     & 0.3616694\\\\\n",
       "\t 2 & company \\textasciitilde{} SA+SE                  & 0.3616694\\\\\n",
       "\t 3 & company \\textasciitilde{} SA+SE+SEM              & 0.3616694\\\\\n",
       "\t 4 & company \\textasciitilde{} SA+SE+SEM+master       & 0.3616694\\\\\n",
       "\t 5 & company \\textasciitilde{} SA+SE+SEM+master+white & 0.3616694\\\\\n",
       "\\end{tabular}\n"
      ],
      "text/markdown": [
       "\n",
       "A tibble: 5 × 3\n",
       "\n",
       "| size &lt;int&gt; | model_string &lt;chr&gt; | accuracy &lt;dbl&gt; |\n",
       "|---|---|---|\n",
       "| 1 | company ~ SA                     | 0.3616694 |\n",
       "| 2 | company ~ SA+SE                  | 0.3616694 |\n",
       "| 3 | company ~ SA+SE+SEM              | 0.3616694 |\n",
       "| 4 | company ~ SA+SE+SEM+master       | 0.3616694 |\n",
       "| 5 | company ~ SA+SE+SEM+master+white | 0.3616694 |\n",
       "\n"
      ],
      "text/plain": [
       "  size model_string                     accuracy \n",
       "1 1    company ~ SA                     0.3616694\n",
       "2 2    company ~ SA+SE                  0.3616694\n",
       "3 3    company ~ SA+SE+SEM              0.3616694\n",
       "4 4    company ~ SA+SE+SEM+master       0.3616694\n",
       "5 5    company ~ SA+SE+SEM+master+white 0.3616694"
      ]
     },
     "metadata": {},
     "output_type": "display_data"
    }
   ],
   "source": [
    "salary_train_simple <- salary_train |> select(company, SA, SE, SEM, master, white)\n",
    "\n",
    "# create an empty tibble to store the results\n",
    "accuracies <- tibble(size = integer(), \n",
    "                     model_string = character(), \n",
    "                     accuracy = numeric())\n",
    "\n",
    "# extracting column name from all but classes\n",
    "names <- colnames(salary_train_simple |> select(-company))\n",
    "\n",
    "# create a model specification\n",
    "# we have created salary_spec for this above\n",
    "\n",
    "# create a 5-fold cross-validation object\n",
    "# we have created salary_vfold\n",
    "simple_vfold <- vfold_cv(salary_train_simple, v = 3, strata = company)\n",
    "\n",
    "# store the total number of predictors\n",
    "n_total <- length(names)\n",
    "\n",
    "# stores selected predictors\n",
    "selected <- c()\n",
    "\n",
    "# for every size from 1 to the total number of predictors\n",
    "for (i in 1:n_total) {\n",
    "    # for every predictor still not added yet\n",
    "    accs <- list()\n",
    "    models <- list()\n",
    "    for (j in 1:length(names)) {\n",
    "        # create a model string for this combination of predictors\n",
    "        preds_new <- c(selected, names[[j]])\n",
    "        model_string <- paste(\"company\", \"~\", paste(preds_new, collapse=\"+\"))\n",
    "\n",
    "        # create a recipe from the model string\n",
    "        salary_running_recipe <- recipe(as.formula(model_string), \n",
    "                                data = salary_train_simple) |>\n",
    "                          step_scale(all_predictors()) |>\n",
    "                          step_center(all_predictors())\n",
    "\n",
    "        # tune the KNN classifier with these predictors, \n",
    "        # and collect the accuracy for the best K\n",
    "        acc <- workflow() |>\n",
    "          add_recipe(salary_running_recipe) |>\n",
    "          add_model(knn_tune) |>\n",
    "          tune_grid(resamples = simple_vfold, grid = tibble(neighbors = c(35))) |>\n",
    "          collect_metrics() |>\n",
    "          filter(.metric == \"accuracy\") |>\n",
    "          summarize(mx = max(mean))\n",
    "        acc <- acc$mx |> unlist()\n",
    "\n",
    "        # add this result to the dataframe\n",
    "        accs[[j]] <- acc\n",
    "        models[[j]] <- model_string\n",
    "    }\n",
    "    jstar <- which.max(unlist(accs))\n",
    "    accuracies <- accuracies |> \n",
    "      add_row(size = i, \n",
    "              model_string = models[[jstar]], \n",
    "              accuracy = accs[[jstar]])\n",
    "    selected <- c(selected, names[[jstar]])\n",
    "    names <- names[-jstar]\n",
    "}\n",
    "accuracies"
   ]
  },
  {
   "cell_type": "markdown",
   "id": "854f6702-c5f7-4943-b1c0-1689e93ec308",
   "metadata": {},
   "source": [
    "As we can see, none of this predictors actually increase prediction result since the accuracy are all the same accross predictors."
   ]
  },
  {
   "cell_type": "code",
   "execution_count": 30,
   "id": "17a36715-0a5c-4e22-bfb3-09497f1f3c64",
   "metadata": {},
   "outputs": [
    {
     "data": {
      "text/html": [
       "<table class=\"dataframe\">\n",
       "<caption>A tibble: 5 × 3</caption>\n",
       "<thead>\n",
       "\t<tr><th scope=col>size</th><th scope=col>model_string</th><th scope=col>accuracy</th></tr>\n",
       "\t<tr><th scope=col>&lt;int&gt;</th><th scope=col>&lt;chr&gt;</th><th scope=col>&lt;dbl&gt;</th></tr>\n",
       "</thead>\n",
       "<tbody>\n",
       "\t<tr><td>1</td><td>company ~ S                        </td><td>0.3646794</td></tr>\n",
       "\t<tr><td>2</td><td>company ~ S+bachelor               </td><td>0.3648674</td></tr>\n",
       "\t<tr><td>3</td><td>company ~ S+bachelor+TPM           </td><td>0.3648674</td></tr>\n",
       "\t<tr><td>4</td><td>company ~ S+bachelor+TPM+R         </td><td>0.3648674</td></tr>\n",
       "\t<tr><td>5</td><td>company ~ S+bachelor+TPM+R+hispanic</td><td>0.3641153</td></tr>\n",
       "</tbody>\n",
       "</table>\n"
      ],
      "text/latex": [
       "A tibble: 5 × 3\n",
       "\\begin{tabular}{lll}\n",
       " size & model\\_string & accuracy\\\\\n",
       " <int> & <chr> & <dbl>\\\\\n",
       "\\hline\n",
       "\t 1 & company \\textasciitilde{} S                         & 0.3646794\\\\\n",
       "\t 2 & company \\textasciitilde{} S+bachelor                & 0.3648674\\\\\n",
       "\t 3 & company \\textasciitilde{} S+bachelor+TPM            & 0.3648674\\\\\n",
       "\t 4 & company \\textasciitilde{} S+bachelor+TPM+R          & 0.3648674\\\\\n",
       "\t 5 & company \\textasciitilde{} S+bachelor+TPM+R+hispanic & 0.3641153\\\\\n",
       "\\end{tabular}\n"
      ],
      "text/markdown": [
       "\n",
       "A tibble: 5 × 3\n",
       "\n",
       "| size &lt;int&gt; | model_string &lt;chr&gt; | accuracy &lt;dbl&gt; |\n",
       "|---|---|---|\n",
       "| 1 | company ~ S                         | 0.3646794 |\n",
       "| 2 | company ~ S+bachelor                | 0.3648674 |\n",
       "| 3 | company ~ S+bachelor+TPM            | 0.3648674 |\n",
       "| 4 | company ~ S+bachelor+TPM+R          | 0.3648674 |\n",
       "| 5 | company ~ S+bachelor+TPM+R+hispanic | 0.3641153 |\n",
       "\n"
      ],
      "text/plain": [
       "  size model_string                        accuracy \n",
       "1 1    company ~ S                         0.3646794\n",
       "2 2    company ~ S+bachelor                0.3648674\n",
       "3 3    company ~ S+bachelor+TPM            0.3648674\n",
       "4 4    company ~ S+bachelor+TPM+R          0.3648674\n",
       "5 5    company ~ S+bachelor+TPM+R+hispanic 0.3641153"
      ]
     },
     "metadata": {},
     "output_type": "display_data"
    }
   ],
   "source": [
    "salary_train_simple <- salary_train |> select(company, bachelor, hispanic, TPM, S, R)\n",
    "\n",
    "# create an empty tibble to store the results\n",
    "accuracies <- tibble(size = integer(), \n",
    "                     model_string = character(), \n",
    "                     accuracy = numeric())\n",
    "\n",
    "# extracting column name from all but classes\n",
    "names <- colnames(salary_train_simple |> select(-company))\n",
    "\n",
    "# create a model specification\n",
    "# we have created salary_spec for this above\n",
    "\n",
    "# create a 5-fold cross-validation object\n",
    "# we have created salary_vfold\n",
    "simple_vfold <- vfold_cv(salary_train_simple, v = 3, strata = company)\n",
    "\n",
    "# store the total number of predictors\n",
    "n_total <- length(names)\n",
    "\n",
    "# stores selected predictors\n",
    "selected <- c()\n",
    "\n",
    "# for every size from 1 to the total number of predictors\n",
    "for (i in 1:n_total) {\n",
    "    # for every predictor still not added yet\n",
    "    accs <- list()\n",
    "    models <- list()\n",
    "    for (j in 1:length(names)) {\n",
    "        # create a model string for this combination of predictors\n",
    "        preds_new <- c(selected, names[[j]])\n",
    "        model_string <- paste(\"company\", \"~\", paste(preds_new, collapse=\"+\"))\n",
    "\n",
    "        # create a recipe from the model string\n",
    "        salary_running_recipe <- recipe(as.formula(model_string), \n",
    "                                data = salary_train_simple) |>\n",
    "                          step_scale(all_predictors()) |>\n",
    "                          step_center(all_predictors())\n",
    "\n",
    "        # tune the KNN classifier with these predictors, \n",
    "        # and collect the accuracy for the best K\n",
    "        acc <- workflow() |>\n",
    "          add_recipe(salary_running_recipe) |>\n",
    "          add_model(knn_tune) |>\n",
    "          tune_grid(resamples = simple_vfold, grid = tibble(neighbors = c(35))) |>\n",
    "          collect_metrics() |>\n",
    "          filter(.metric == \"accuracy\") |>\n",
    "          summarize(mx = max(mean))\n",
    "        acc <- acc$mx |> unlist()\n",
    "\n",
    "        # add this result to the dataframe\n",
    "        accs[[j]] <- acc\n",
    "        models[[j]] <- model_string\n",
    "    }\n",
    "    jstar <- which.max(unlist(accs))\n",
    "    accuracies <- accuracies |> \n",
    "      add_row(size = i, \n",
    "              model_string = models[[jstar]], \n",
    "              accuracy = accs[[jstar]])\n",
    "    selected <- c(selected, names[[jstar]])\n",
    "    names <- names[-jstar]\n",
    "}\n",
    "accuracies"
   ]
  },
  {
   "cell_type": "markdown",
   "id": "111acf0d-75cc-4060-973c-bc6a29794659",
   "metadata": {},
   "source": [
    "As we can see, none of this predictors actually increase prediction result since the accuracy are all the same or decreasing (for 5 particularly) accross predictors."
   ]
  },
  {
   "cell_type": "code",
   "execution_count": 31,
   "id": "aa9560b1-d4d0-4432-8332-7959d5d3c9c2",
   "metadata": {},
   "outputs": [
    {
     "data": {
      "text/html": [
       "<table class=\"dataframe\">\n",
       "<caption>A tibble: 5 × 3</caption>\n",
       "<thead>\n",
       "\t<tr><th scope=col>size</th><th scope=col>model_string</th><th scope=col>accuracy</th></tr>\n",
       "\t<tr><th scope=col>&lt;int&gt;</th><th scope=col>&lt;chr&gt;</th><th scope=col>&lt;dbl&gt;</th></tr>\n",
       "</thead>\n",
       "<tbody>\n",
       "\t<tr><td>1</td><td>company ~ ME              </td><td>0.3650561</td></tr>\n",
       "\t<tr><td>2</td><td>company ~ ME+PM           </td><td>0.3650561</td></tr>\n",
       "\t<tr><td>3</td><td>company ~ ME+PM+PD        </td><td>0.3650561</td></tr>\n",
       "\t<tr><td>4</td><td>company ~ ME+PM+PD+black  </td><td>0.3650561</td></tr>\n",
       "\t<tr><td>5</td><td>company ~ ME+PM+PD+black+M</td><td>0.3650561</td></tr>\n",
       "</tbody>\n",
       "</table>\n"
      ],
      "text/latex": [
       "A tibble: 5 × 3\n",
       "\\begin{tabular}{lll}\n",
       " size & model\\_string & accuracy\\\\\n",
       " <int> & <chr> & <dbl>\\\\\n",
       "\\hline\n",
       "\t 1 & company \\textasciitilde{} ME               & 0.3650561\\\\\n",
       "\t 2 & company \\textasciitilde{} ME+PM            & 0.3650561\\\\\n",
       "\t 3 & company \\textasciitilde{} ME+PM+PD         & 0.3650561\\\\\n",
       "\t 4 & company \\textasciitilde{} ME+PM+PD+black   & 0.3650561\\\\\n",
       "\t 5 & company \\textasciitilde{} ME+PM+PD+black+M & 0.3650561\\\\\n",
       "\\end{tabular}\n"
      ],
      "text/markdown": [
       "\n",
       "A tibble: 5 × 3\n",
       "\n",
       "| size &lt;int&gt; | model_string &lt;chr&gt; | accuracy &lt;dbl&gt; |\n",
       "|---|---|---|\n",
       "| 1 | company ~ ME               | 0.3650561 |\n",
       "| 2 | company ~ ME+PM            | 0.3650561 |\n",
       "| 3 | company ~ ME+PM+PD         | 0.3650561 |\n",
       "| 4 | company ~ ME+PM+PD+black   | 0.3650561 |\n",
       "| 5 | company ~ ME+PM+PD+black+M | 0.3650561 |\n",
       "\n"
      ],
      "text/plain": [
       "  size model_string               accuracy \n",
       "1 1    company ~ ME               0.3650561\n",
       "2 2    company ~ ME+PM            0.3650561\n",
       "3 3    company ~ ME+PM+PD         0.3650561\n",
       "4 4    company ~ ME+PM+PD+black   0.3650561\n",
       "5 5    company ~ ME+PM+PD+black+M 0.3650561"
      ]
     },
     "metadata": {},
     "output_type": "display_data"
    }
   ],
   "source": [
    "salary_train_simple <- salary_train |> select(company, PM, PD, ME, black, M)\n",
    "\n",
    "# create an empty tibble to store the results\n",
    "accuracies <- tibble(size = integer(), \n",
    "                     model_string = character(), \n",
    "                     accuracy = numeric())\n",
    "\n",
    "# extracting column name from all but classes\n",
    "names <- colnames(salary_train_simple |> select(-company))\n",
    "\n",
    "# create a model specification\n",
    "# we have created salary_spec for this above\n",
    "\n",
    "# create a 5-fold cross-validation object\n",
    "# we have created salary_vfold\n",
    "simple_vfold <- vfold_cv(salary_train_simple, v = 3, strata = company)\n",
    "\n",
    "# store the total number of predictors\n",
    "n_total <- length(names)\n",
    "\n",
    "# stores selected predictors\n",
    "selected <- c()\n",
    "\n",
    "# for every size from 1 to the total number of predictors\n",
    "for (i in 1:n_total) {\n",
    "    # for every predictor still not added yet\n",
    "    accs <- list()\n",
    "    models <- list()\n",
    "    for (j in 1:length(names)) {\n",
    "        # create a model string for this combination of predictors\n",
    "        preds_new <- c(selected, names[[j]])\n",
    "        model_string <- paste(\"company\", \"~\", paste(preds_new, collapse=\"+\"))\n",
    "\n",
    "        # create a recipe from the model string\n",
    "        salary_running_recipe <- recipe(as.formula(model_string), \n",
    "                                data = salary_train_simple) |>\n",
    "                          step_scale(all_predictors()) |>\n",
    "                          step_center(all_predictors())\n",
    "\n",
    "        # tune the KNN classifier with these predictors, \n",
    "        # and collect the accuracy for the best K\n",
    "        acc <- workflow() |>\n",
    "          add_recipe(salary_running_recipe) |>\n",
    "          add_model(knn_tune) |>\n",
    "          tune_grid(resamples = simple_vfold, grid = tibble(neighbors = c(35))) |>\n",
    "          collect_metrics() |>\n",
    "          filter(.metric == \"accuracy\") |>\n",
    "          summarize(mx = max(mean))\n",
    "        acc <- acc$mx |> unlist()\n",
    "\n",
    "        # add this result to the dataframe\n",
    "        accs[[j]] <- acc\n",
    "        models[[j]] <- model_string\n",
    "    }\n",
    "    jstar <- which.max(unlist(accs))\n",
    "    accuracies <- accuracies |> \n",
    "      add_row(size = i, \n",
    "              model_string = models[[jstar]], \n",
    "              accuracy = accs[[jstar]])\n",
    "    selected <- c(selected, names[[jstar]])\n",
    "    names <- names[-jstar]\n",
    "}\n",
    "accuracies"
   ]
  },
  {
   "cell_type": "markdown",
   "id": "a40767d4-aa02-446d-9009-564f586f49c7",
   "metadata": {},
   "source": [
    "As we can see, none of this predictors actually increase prediction result since the accuracy are all the same accross predictors."
   ]
  },
  {
   "cell_type": "code",
   "execution_count": 32,
   "id": "57ce24df-895b-4353-96a1-3e11f9c85c93",
   "metadata": {},
   "outputs": [
    {
     "data": {
      "text/html": [
       "<table class=\"dataframe\">\n",
       "<caption>A tibble: 5 × 3</caption>\n",
       "<thead>\n",
       "\t<tr><th scope=col>size</th><th scope=col>model_string</th><th scope=col>accuracy</th></tr>\n",
       "\t<tr><th scope=col>&lt;int&gt;</th><th scope=col>&lt;chr&gt;</th><th scope=col>&lt;dbl&gt;</th></tr>\n",
       "</thead>\n",
       "<tbody>\n",
       "\t<tr><td>1</td><td>company ~ HE                                  </td><td>0.3718236</td></tr>\n",
       "\t<tr><td>2</td><td>company ~ HE+yearsofexperience                </td><td>0.3787843</td></tr>\n",
       "\t<tr><td>3</td><td>company ~ HE+yearsofexperience+HR             </td><td>0.3795362</td></tr>\n",
       "\t<tr><td>4</td><td>company ~ HE+yearsofexperience+HR+MC          </td><td>0.3801002</td></tr>\n",
       "\t<tr><td>5</td><td>company ~ HE+yearsofexperience+HR+MC+twoormore</td><td>0.3797243</td></tr>\n",
       "</tbody>\n",
       "</table>\n"
      ],
      "text/latex": [
       "A tibble: 5 × 3\n",
       "\\begin{tabular}{lll}\n",
       " size & model\\_string & accuracy\\\\\n",
       " <int> & <chr> & <dbl>\\\\\n",
       "\\hline\n",
       "\t 1 & company \\textasciitilde{} HE                                   & 0.3718236\\\\\n",
       "\t 2 & company \\textasciitilde{} HE+yearsofexperience                 & 0.3787843\\\\\n",
       "\t 3 & company \\textasciitilde{} HE+yearsofexperience+HR              & 0.3795362\\\\\n",
       "\t 4 & company \\textasciitilde{} HE+yearsofexperience+HR+MC           & 0.3801002\\\\\n",
       "\t 5 & company \\textasciitilde{} HE+yearsofexperience+HR+MC+twoormore & 0.3797243\\\\\n",
       "\\end{tabular}\n"
      ],
      "text/markdown": [
       "\n",
       "A tibble: 5 × 3\n",
       "\n",
       "| size &lt;int&gt; | model_string &lt;chr&gt; | accuracy &lt;dbl&gt; |\n",
       "|---|---|---|\n",
       "| 1 | company ~ HE                                   | 0.3718236 |\n",
       "| 2 | company ~ HE+yearsofexperience                 | 0.3787843 |\n",
       "| 3 | company ~ HE+yearsofexperience+HR              | 0.3795362 |\n",
       "| 4 | company ~ HE+yearsofexperience+HR+MC           | 0.3801002 |\n",
       "| 5 | company ~ HE+yearsofexperience+HR+MC+twoormore | 0.3797243 |\n",
       "\n"
      ],
      "text/plain": [
       "  size model_string                                   accuracy \n",
       "1 1    company ~ HE                                   0.3718236\n",
       "2 2    company ~ HE+yearsofexperience                 0.3787843\n",
       "3 3    company ~ HE+yearsofexperience+HR              0.3795362\n",
       "4 4    company ~ HE+yearsofexperience+HR+MC           0.3801002\n",
       "5 5    company ~ HE+yearsofexperience+HR+MC+twoormore 0.3797243"
      ]
     },
     "metadata": {},
     "output_type": "display_data"
    }
   ],
   "source": [
    "salary_train_simple <- salary_train |> select(company, MC, HR, HE, twoormore, yearsofexperience)\n",
    "\n",
    "# create an empty tibble to store the results\n",
    "accuracies <- tibble(size = integer(), \n",
    "                     model_string = character(), \n",
    "                     accuracy = numeric())\n",
    "\n",
    "# extracting column name from all but classes\n",
    "names <- colnames(salary_train_simple |> select(-company))\n",
    "\n",
    "# create a model specification\n",
    "# we have created salary_spec for this above\n",
    "\n",
    "# create a 5-fold cross-validation object\n",
    "# we have created salary_vfold\n",
    "simple_vfold <- vfold_cv(salary_train_simple, v =3, strata = company)\n",
    "\n",
    "# store the total number of predictors\n",
    "n_total <- length(names)\n",
    "\n",
    "# stores selected predictors\n",
    "selected <- c()\n",
    "\n",
    "# for every size from 1 to the total number of predictors\n",
    "for (i in 1:n_total) {\n",
    "    # for every predictor still not added yet\n",
    "    accs <- list()\n",
    "    models <- list()\n",
    "    for (j in 1:length(names)) {\n",
    "        # create a model string for this combination of predictors\n",
    "        preds_new <- c(selected, names[[j]])\n",
    "        model_string <- paste(\"company\", \"~\", paste(preds_new, collapse=\"+\"))\n",
    "\n",
    "        # create a recipe from the model string\n",
    "        salary_running_recipe <- recipe(as.formula(model_string), \n",
    "                                data = salary_train_simple) |>\n",
    "                          step_scale(all_predictors()) |>\n",
    "                          step_center(all_predictors())\n",
    "\n",
    "        # tune the KNN classifier with these predictors, \n",
    "        # and collect the accuracy for the best K\n",
    "        acc <- workflow() |>\n",
    "          add_recipe(salary_running_recipe) |>\n",
    "          add_model(knn_tune) |>\n",
    "          tune_grid(resamples = simple_vfold, grid = tibble(neighbors = c(35))) |>\n",
    "          collect_metrics() |>\n",
    "          filter(.metric == \"accuracy\") |>\n",
    "          summarize(mx = max(mean))\n",
    "        acc <- acc$mx |> unlist()\n",
    "\n",
    "        # add this result to the dataframe\n",
    "        accs[[j]] <- acc\n",
    "        models[[j]] <- model_string\n",
    "    }\n",
    "    jstar <- which.max(unlist(accs))\n",
    "    accuracies <- accuracies |> \n",
    "      add_row(size = i, \n",
    "              model_string = models[[jstar]], \n",
    "              accuracy = accs[[jstar]])\n",
    "    selected <- c(selected, names[[jstar]])\n",
    "    names <- names[-jstar]\n",
    "}\n",
    "accuracies"
   ]
  },
  {
   "cell_type": "markdown",
   "id": "2d0c1a5f-c9f8-40da-8443-a88210cee8b8",
   "metadata": {},
   "source": [
    "As we can see, the most optimal predictor combination here which lead to increase are the role HE, HR, MC, and years of experience."
   ]
  },
  {
   "cell_type": "code",
   "execution_count": 33,
   "id": "572c00f1-095a-4d09-9e91-bb1d4f2879dc",
   "metadata": {},
   "outputs": [
    {
     "data": {
      "text/html": [
       "<table class=\"dataframe\">\n",
       "<caption>A tibble: 4 × 3</caption>\n",
       "<thead>\n",
       "\t<tr><th scope=col>size</th><th scope=col>model_string</th><th scope=col>accuracy</th></tr>\n",
       "\t<tr><th scope=col>&lt;int&gt;</th><th scope=col>&lt;chr&gt;</th><th scope=col>&lt;dbl&gt;</th></tr>\n",
       "</thead>\n",
       "<tbody>\n",
       "\t<tr><td>1</td><td>company ~ DS                     </td><td>0.3616702</td></tr>\n",
       "\t<tr><td>2</td><td>company ~ DS+BA                  </td><td>0.3616702</td></tr>\n",
       "\t<tr><td>3</td><td>company ~ DS+BA+somecollege      </td><td>0.3616702</td></tr>\n",
       "\t<tr><td>4</td><td>company ~ DS+BA+somecollege+asian</td><td>0.3597896</td></tr>\n",
       "</tbody>\n",
       "</table>\n"
      ],
      "text/latex": [
       "A tibble: 4 × 3\n",
       "\\begin{tabular}{lll}\n",
       " size & model\\_string & accuracy\\\\\n",
       " <int> & <chr> & <dbl>\\\\\n",
       "\\hline\n",
       "\t 1 & company \\textasciitilde{} DS                      & 0.3616702\\\\\n",
       "\t 2 & company \\textasciitilde{} DS+BA                   & 0.3616702\\\\\n",
       "\t 3 & company \\textasciitilde{} DS+BA+somecollege       & 0.3616702\\\\\n",
       "\t 4 & company \\textasciitilde{} DS+BA+somecollege+asian & 0.3597896\\\\\n",
       "\\end{tabular}\n"
      ],
      "text/markdown": [
       "\n",
       "A tibble: 4 × 3\n",
       "\n",
       "| size &lt;int&gt; | model_string &lt;chr&gt; | accuracy &lt;dbl&gt; |\n",
       "|---|---|---|\n",
       "| 1 | company ~ DS                      | 0.3616702 |\n",
       "| 2 | company ~ DS+BA                   | 0.3616702 |\n",
       "| 3 | company ~ DS+BA+somecollege       | 0.3616702 |\n",
       "| 4 | company ~ DS+BA+somecollege+asian | 0.3597896 |\n",
       "\n"
      ],
      "text/plain": [
       "  size model_string                      accuracy \n",
       "1 1    company ~ DS                      0.3616702\n",
       "2 2    company ~ DS+BA                   0.3616702\n",
       "3 3    company ~ DS+BA+somecollege       0.3616702\n",
       "4 4    company ~ DS+BA+somecollege+asian 0.3597896"
      ]
     },
     "metadata": {},
     "output_type": "display_data"
    }
   ],
   "source": [
    "salary_train_simple <- salary_train |> select(company, DS, BA, asian, somecollege)\n",
    "\n",
    "# create an empty tibble to store the results\n",
    "accuracies <- tibble(size = integer(), \n",
    "                     model_string = character(), \n",
    "                     accuracy = numeric())\n",
    "\n",
    "# extracting column name from all but classes\n",
    "names <- colnames(salary_train_simple |> select(-company))\n",
    "\n",
    "# create a model specification\n",
    "# we have created salary_spec for this above\n",
    "\n",
    "# create a 5-fold cross-validation object\n",
    "# we have created salary_vfold\n",
    "simple_vfold <- vfold_cv(salary_train_simple, v = 3, strata = company)\n",
    "\n",
    "# store the total number of predictors\n",
    "n_total <- length(names)\n",
    "\n",
    "# stores selected predictors\n",
    "selected <- c()\n",
    "\n",
    "# for every size from 1 to the total number of predictors\n",
    "for (i in 1:n_total) {\n",
    "    # for every predictor still not added yet\n",
    "    accs <- list()\n",
    "    models <- list()\n",
    "    for (j in 1:length(names)) {\n",
    "        # create a model string for this combination of predictors\n",
    "        preds_new <- c(selected, names[[j]])\n",
    "        model_string <- paste(\"company\", \"~\", paste(preds_new, collapse=\"+\"))\n",
    "\n",
    "        # create a recipe from the model string\n",
    "        salary_running_recipe <- recipe(as.formula(model_string), \n",
    "                                data = salary_train_simple) |>\n",
    "                          step_scale(all_predictors()) |>\n",
    "                          step_center(all_predictors())\n",
    "\n",
    "        # tune the KNN classifier with these predictors, \n",
    "        # and collect the accuracy for the best K\n",
    "        acc <- workflow() |>\n",
    "          add_recipe(salary_running_recipe) |>\n",
    "          add_model(knn_tune) |>\n",
    "          tune_grid(resamples = simple_vfold, grid = tibble(neighbors = c(35))) |>\n",
    "          collect_metrics() |>\n",
    "          filter(.metric == \"accuracy\") |>\n",
    "          summarize(mx = max(mean))\n",
    "        acc <- acc$mx |> unlist()\n",
    "\n",
    "        # add this result to the dataframe\n",
    "        accs[[j]] <- acc\n",
    "        models[[j]] <- model_string\n",
    "    }\n",
    "    jstar <- which.max(unlist(accs))\n",
    "    accuracies <- accuracies |> \n",
    "      add_row(size = i, \n",
    "              model_string = models[[jstar]], \n",
    "              accuracy = accs[[jstar]])\n",
    "    selected <- c(selected, names[[jstar]])\n",
    "    names <- names[-jstar]\n",
    "}\n",
    "accuracies"
   ]
  },
  {
   "cell_type": "markdown",
   "id": "3952b1e2-4b97-4111-8d4d-5f7e14d21558",
   "metadata": {},
   "source": [
    "As we can see, none of this predictors actually increase prediction result since the accuracy are all the same accross predictors."
   ]
  },
  {
   "cell_type": "markdown",
   "id": "d827538c-2db0-4dd1-9ec2-2df26ea6b4e5",
   "metadata": {},
   "source": [
    "Hence, combining this with everything, predictors with highest accuracy are HE, HR, MC, yearsofexperience, totalyearlycompensation, and PhD. \n",
    "\n",
    "Answering our initial question, the only relevant predictors are some title such as Hardware Engineer, Human Resources, and Management Consultant. Years of experience that a worker has also relevant to the company preference, with some company prefer workers with more experience than others. Companies also have significant difference in total yearly compensation or annual net salary for their workers. However, Race and Gender does not contribute much to the accuracy of the predictors. "
   ]
  },
  {
   "cell_type": "markdown",
   "id": "5d32b522-ce89-499c-bad8-26938908e8f3",
   "metadata": {},
   "source": [
    "## Discussion"
   ]
  },
  {
   "cell_type": "code",
   "execution_count": null,
   "id": "71709446-2024-4dbe-9640-fdb3dd7c44e9",
   "metadata": {},
   "outputs": [],
   "source": []
  },
  {
   "cell_type": "code",
   "execution_count": null,
   "id": "1a32838d-411c-40c0-a70d-592daa62a6ce",
   "metadata": {},
   "outputs": [],
   "source": []
  },
  {
   "cell_type": "code",
   "execution_count": null,
   "id": "abb4a5fd-0a5d-4b07-b80b-117033093c5c",
   "metadata": {},
   "outputs": [],
   "source": []
  },
  {
   "cell_type": "code",
   "execution_count": null,
   "id": "961cd6d0-952f-4658-939f-b4b179459612",
   "metadata": {},
   "outputs": [],
   "source": []
  },
  {
   "cell_type": "markdown",
   "id": "579779f0-ed52-4391-a74c-5ae25f51f825",
   "metadata": {},
   "source": [
    "### Discussion\n",
    "\n",
    "In this project, we expect to find the most relevant predictors that can affect the company you join because they can vary based on years of experience, gender, and expected salary. The result we found —— the combination of A and B has the highest accuracy rate for prediction is in line with our expectations at the beginning. The impact is impactful to the job market and the trajectory of the career path for the people who are currently searching for jobs and people who are interested in learning more about their career development. Those predictors can be something to consider when they are researching opportunities. However, as our dataset is not fully complete - some columns are hard-to-interpret and variables have a high percentage of N/A, it will be helpful to refresh the survey in the near future to get more information. This can provide us with a clear understanding and strengthen the correlation of the variables. Hence, future questions for us might be on how other factors (location, job title, and university they graduated from) can affect the company workers should choose to work."
   ]
  },
  {
   "cell_type": "markdown",
   "id": "d9988fed-363f-4521-8ff2-2f337a44a1d5",
   "metadata": {},
   "source": [
    "### Reference"
   ]
  },
  {
   "cell_type": "markdown",
   "id": "e31484f2-b2fe-4061-9dd1-0f714255e9e8",
   "metadata": {},
   "source": [
    "[1] Ogozaly, Jack. “Data Science and STEM Salaries.” Kaggle, 10 Oct. 2021, https://www.kaggle.com/datasets/jackogozaly/data-science-and-stem-salaries. "
   ]
  },
  {
   "cell_type": "code",
   "execution_count": null,
   "id": "821650c5-c3b5-48cf-85df-01ee41881dc5",
   "metadata": {},
   "outputs": [],
   "source": []
  }
 ],
 "metadata": {
  "kernelspec": {
   "display_name": "R",
   "language": "R",
   "name": "ir"
  },
  "language_info": {
   "codemirror_mode": "r",
   "file_extension": ".r",
   "mimetype": "text/x-r-source",
   "name": "R",
   "pygments_lexer": "r",
   "version": "4.1.3"
  }
 },
 "nbformat": 4,
 "nbformat_minor": 5
}
