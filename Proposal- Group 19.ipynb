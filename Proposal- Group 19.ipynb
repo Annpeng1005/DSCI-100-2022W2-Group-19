{
 "cells": [
  {
   "cell_type": "markdown",
   "id": "72c36fee-bfb9-4b8e-af20-da3e4ecbdb61",
   "metadata": {},
   "source": [
    "# Proposal\n",
    "\n",
    "## Title: \n",
    "\n",
    "### Introduction\n",
    "\n",
    "Data science and STEM careers are growing in popularity as more businesses leverage technological advances to solve challenges and streamline operations. Among them, students who are waiting for employment or employees who want to change careers are very curious about what can be the mean factors that impact the tracjectory of salaries and bonuses among the top 5 companies counts from our data. The purpose of the experiment was to determine the most relevant predictors from the data set to relate to the potential impact on a person's career in STEM and data science. This is to suggest that the job seekers can be more insightful and intentional with their development and career path. The dataset we will be working with is the \"Data Science and STEM Salary\" dataset from Kaggle, which contains information on numerous job titles and other criteria, and has 62,000 salary records from the leading organizations for this project. "
   ]
  },
  {
   "cell_type": "markdown",
   "id": "702a4eba-cad2-450d-bac1-42fe357308ad",
   "metadata": {},
   "source": [
    "### Preliminary exploratory data analysis"
   ]
  },
  {
   "cell_type": "code",
   "execution_count": 3,
   "id": "9cc72d89-c1eb-4894-81db-646005f05edd",
   "metadata": {},
   "outputs": [],
   "source": [
    "library(repr)\n",
    "library(tidyverse)\n",
    "library(tidymodels)\n",
    "options(repr.matrix.max.rows = 6)"
   ]
  },
  {
   "cell_type": "code",
   "execution_count": 4,
   "id": "164ca27f-1153-4d61-8d1c-a4bf7cc0bce4",
   "metadata": {},
   "outputs": [
    {
     "name": "stderr",
     "output_type": "stream",
     "text": [
      "\u001b[1mRows: \u001b[22m\u001b[34m62642\u001b[39m \u001b[1mColumns: \u001b[22m\u001b[34m29\u001b[39m\n",
      "\u001b[36m──\u001b[39m \u001b[1mColumn specification\u001b[22m \u001b[36m────────────────────────────────────────────────────────\u001b[39m\n",
      "\u001b[1mDelimiter:\u001b[22m \",\"\n",
      "\u001b[31mchr\u001b[39m (10): timestamp, company, level, title, location, tag, gender, otherdeta...\n",
      "\u001b[32mdbl\u001b[39m (19): totalyearlycompensation, yearsofexperience, yearsatcompany, basesa...\n",
      "\n",
      "\u001b[36mℹ\u001b[39m Use `spec()` to retrieve the full column specification for this data.\n",
      "\u001b[36mℹ\u001b[39m Specify the column types or set `show_col_types = FALSE` to quiet this message.\n"
     ]
    }
   ],
   "source": [
    "salary_data <- read_csv(\"data/Levels_Fyi_Salary_Data.csv\")"
   ]
  },
  {
   "cell_type": "code",
   "execution_count": 5,
   "id": "08d13146-5ff9-4d7c-9d24-231b15456b2a",
   "metadata": {},
   "outputs": [
    {
     "data": {
      "text/html": [
       "<table class=\"dataframe\">\n",
       "<caption>A tibble: 5 × 2</caption>\n",
       "<thead>\n",
       "\t<tr><th scope=col>company</th><th scope=col>count</th></tr>\n",
       "\t<tr><th scope=col>&lt;chr&gt;</th><th scope=col>&lt;int&gt;</th></tr>\n",
       "</thead>\n",
       "<tbody>\n",
       "\t<tr><td>Amazon   </td><td>8126</td></tr>\n",
       "\t<tr><td>Microsoft</td><td>5216</td></tr>\n",
       "\t<tr><td>Google   </td><td>4330</td></tr>\n",
       "\t<tr><td>Facebook </td><td>2990</td></tr>\n",
       "\t<tr><td>Apple    </td><td>2028</td></tr>\n",
       "</tbody>\n",
       "</table>\n"
      ],
      "text/latex": [
       "A tibble: 5 × 2\n",
       "\\begin{tabular}{ll}\n",
       " company & count\\\\\n",
       " <chr> & <int>\\\\\n",
       "\\hline\n",
       "\t Amazon    & 8126\\\\\n",
       "\t Microsoft & 5216\\\\\n",
       "\t Google    & 4330\\\\\n",
       "\t Facebook  & 2990\\\\\n",
       "\t Apple     & 2028\\\\\n",
       "\\end{tabular}\n"
      ],
      "text/markdown": [
       "\n",
       "A tibble: 5 × 2\n",
       "\n",
       "| company &lt;chr&gt; | count &lt;int&gt; |\n",
       "|---|---|\n",
       "| Amazon    | 8126 |\n",
       "| Microsoft | 5216 |\n",
       "| Google    | 4330 |\n",
       "| Facebook  | 2990 |\n",
       "| Apple     | 2028 |\n",
       "\n"
      ],
      "text/plain": [
       "  company   count\n",
       "1 Amazon    8126 \n",
       "2 Microsoft 5216 \n",
       "3 Google    4330 \n",
       "4 Facebook  2990 \n",
       "5 Apple     2028 "
      ]
     },
     "metadata": {},
     "output_type": "display_data"
    }
   ],
   "source": [
    "top_5_company_count <- salary_data |> group_by(company) |> summarize(count=n()) |> arrange(desc(count)) |> head(5)\n",
    "top_5_company_count"
   ]
  },
  {
   "cell_type": "code",
   "execution_count": 6,
   "id": "7b58147c-4b7c-43ef-9ed5-04a84a5e5a66",
   "metadata": {},
   "outputs": [
    {
     "data": {
      "text/html": [
       "<table class=\"dataframe\">\n",
       "<caption>A tibble: 15 × 2</caption>\n",
       "<thead>\n",
       "\t<tr><th scope=col>title</th><th scope=col>count</th></tr>\n",
       "\t<tr><th scope=col>&lt;chr&gt;</th><th scope=col>&lt;int&gt;</th></tr>\n",
       "</thead>\n",
       "<tbody>\n",
       "\t<tr><td>Business Analyst </td><td> 885</td></tr>\n",
       "\t<tr><td>Data Scientist   </td><td>2578</td></tr>\n",
       "\t<tr><td>Hardware Engineer</td><td>2200</td></tr>\n",
       "\t<tr><td>⋮</td><td>⋮</td></tr>\n",
       "\t<tr><td>Software Engineering Manager</td><td>3569</td></tr>\n",
       "\t<tr><td>Solution Architect          </td><td>1157</td></tr>\n",
       "\t<tr><td>Technical Program Manager   </td><td>1381</td></tr>\n",
       "</tbody>\n",
       "</table>\n"
      ],
      "text/latex": [
       "A tibble: 15 × 2\n",
       "\\begin{tabular}{ll}\n",
       " title & count\\\\\n",
       " <chr> & <int>\\\\\n",
       "\\hline\n",
       "\t Business Analyst  &  885\\\\\n",
       "\t Data Scientist    & 2578\\\\\n",
       "\t Hardware Engineer & 2200\\\\\n",
       "\t ⋮ & ⋮\\\\\n",
       "\t Software Engineering Manager & 3569\\\\\n",
       "\t Solution Architect           & 1157\\\\\n",
       "\t Technical Program Manager    & 1381\\\\\n",
       "\\end{tabular}\n"
      ],
      "text/markdown": [
       "\n",
       "A tibble: 15 × 2\n",
       "\n",
       "| title &lt;chr&gt; | count &lt;int&gt; |\n",
       "|---|---|\n",
       "| Business Analyst  |  885 |\n",
       "| Data Scientist    | 2578 |\n",
       "| Hardware Engineer | 2200 |\n",
       "| ⋮ | ⋮ |\n",
       "| Software Engineering Manager | 3569 |\n",
       "| Solution Architect           | 1157 |\n",
       "| Technical Program Manager    | 1381 |\n",
       "\n"
      ],
      "text/plain": [
       "   title                        count\n",
       "1  Business Analyst              885 \n",
       "2  Data Scientist               2578 \n",
       "3  Hardware Engineer            2200 \n",
       "⋮  ⋮                            ⋮    \n",
       "13 Software Engineering Manager 3569 \n",
       "14 Solution Architect           1157 \n",
       "15 Technical Program Manager    1381 "
      ]
     },
     "metadata": {},
     "output_type": "display_data"
    }
   ],
   "source": [
    "all_role_title <- salary_data |> group_by(title) |> summarize(count=n())\n",
    "all_role_title"
   ]
  },
  {
   "cell_type": "code",
   "execution_count": 7,
   "id": "09c8ea00-6636-4439-ac09-30ebc33620d3",
   "metadata": {},
   "outputs": [
    {
     "data": {
      "text/html": [
       "<table class=\"dataframe\">\n",
       "<caption>A tibble: 1050 × 2</caption>\n",
       "<thead>\n",
       "\t<tr><th scope=col>location</th><th scope=col>count</th></tr>\n",
       "\t<tr><th scope=col>&lt;chr&gt;</th><th scope=col>&lt;int&gt;</th></tr>\n",
       "</thead>\n",
       "<tbody>\n",
       "\t<tr><td>Aachen, NW, Germany        </td><td>3</td></tr>\n",
       "\t<tr><td>Aarhus, AR, Denmark        </td><td>5</td></tr>\n",
       "\t<tr><td>Aberdeen Proving Ground, MD</td><td>1</td></tr>\n",
       "\t<tr><td>⋮</td><td>⋮</td></tr>\n",
       "\t<tr><td>Zaragoza, AR, Spain    </td><td>  3</td></tr>\n",
       "\t<tr><td>Zug, ZG, Switzerland   </td><td>  1</td></tr>\n",
       "\t<tr><td>Zurich, ZH, Switzerland</td><td>172</td></tr>\n",
       "</tbody>\n",
       "</table>\n"
      ],
      "text/latex": [
       "A tibble: 1050 × 2\n",
       "\\begin{tabular}{ll}\n",
       " location & count\\\\\n",
       " <chr> & <int>\\\\\n",
       "\\hline\n",
       "\t Aachen, NW, Germany         & 3\\\\\n",
       "\t Aarhus, AR, Denmark         & 5\\\\\n",
       "\t Aberdeen Proving Ground, MD & 1\\\\\n",
       "\t ⋮ & ⋮\\\\\n",
       "\t Zaragoza, AR, Spain     &   3\\\\\n",
       "\t Zug, ZG, Switzerland    &   1\\\\\n",
       "\t Zurich, ZH, Switzerland & 172\\\\\n",
       "\\end{tabular}\n"
      ],
      "text/markdown": [
       "\n",
       "A tibble: 1050 × 2\n",
       "\n",
       "| location &lt;chr&gt; | count &lt;int&gt; |\n",
       "|---|---|\n",
       "| Aachen, NW, Germany         | 3 |\n",
       "| Aarhus, AR, Denmark         | 5 |\n",
       "| Aberdeen Proving Ground, MD | 1 |\n",
       "| ⋮ | ⋮ |\n",
       "| Zaragoza, AR, Spain     |   3 |\n",
       "| Zug, ZG, Switzerland    |   1 |\n",
       "| Zurich, ZH, Switzerland | 172 |\n",
       "\n"
      ],
      "text/plain": [
       "     location                    count\n",
       "1    Aachen, NW, Germany         3    \n",
       "2    Aarhus, AR, Denmark         5    \n",
       "3    Aberdeen Proving Ground, MD 1    \n",
       "⋮    ⋮                           ⋮    \n",
       "1048 Zaragoza, AR, Spain           3  \n",
       "1049 Zug, ZG, Switzerland          1  \n",
       "1050 Zurich, ZH, Switzerland     172  "
      ]
     },
     "metadata": {},
     "output_type": "display_data"
    }
   ],
   "source": [
    "all_location <- salary_data |> group_by(location) |> summarize(count=n())\n",
    "all_location"
   ]
  },
  {
   "cell_type": "code",
   "execution_count": 8,
   "id": "0104ccf1-367c-4a5f-b1cd-0cf64686c74a",
   "metadata": {},
   "outputs": [
    {
     "data": {
      "text/html": [
       "<table class=\"dataframe\">\n",
       "<caption>A tibble: 3062 × 2</caption>\n",
       "<thead>\n",
       "\t<tr><th scope=col>tag</th><th scope=col>count</th></tr>\n",
       "\t<tr><th scope=col>&lt;chr&gt;</th><th scope=col>&lt;int&gt;</th></tr>\n",
       "</thead>\n",
       "<tbody>\n",
       "\t<tr><td>--  </td><td>5</td></tr>\n",
       "\t<tr><td>??  </td><td>2</td></tr>\n",
       "\t<tr><td>.NET</td><td>1</td></tr>\n",
       "\t<tr><td>⋮</td><td>⋮</td></tr>\n",
       "\t<tr><td>YouTube  </td><td>  1</td></tr>\n",
       "\t<tr><td>Z Systems</td><td>  1</td></tr>\n",
       "\t<tr><td>NA       </td><td>808</td></tr>\n",
       "</tbody>\n",
       "</table>\n"
      ],
      "text/latex": [
       "A tibble: 3062 × 2\n",
       "\\begin{tabular}{ll}\n",
       " tag & count\\\\\n",
       " <chr> & <int>\\\\\n",
       "\\hline\n",
       "\t --   & 5\\\\\n",
       "\t ??   & 2\\\\\n",
       "\t .NET & 1\\\\\n",
       "\t ⋮ & ⋮\\\\\n",
       "\t YouTube   &   1\\\\\n",
       "\t Z Systems &   1\\\\\n",
       "\t NA        & 808\\\\\n",
       "\\end{tabular}\n"
      ],
      "text/markdown": [
       "\n",
       "A tibble: 3062 × 2\n",
       "\n",
       "| tag &lt;chr&gt; | count &lt;int&gt; |\n",
       "|---|---|\n",
       "| --   | 5 |\n",
       "| ??   | 2 |\n",
       "| .NET | 1 |\n",
       "| ⋮ | ⋮ |\n",
       "| YouTube   |   1 |\n",
       "| Z Systems |   1 |\n",
       "| NA        | 808 |\n",
       "\n"
      ],
      "text/plain": [
       "     tag       count\n",
       "1    --        5    \n",
       "2    ??        2    \n",
       "3    .NET      1    \n",
       "⋮    ⋮         ⋮    \n",
       "3060 YouTube     1  \n",
       "3061 Z Systems   1  \n",
       "3062 NA        808  "
      ]
     },
     "metadata": {},
     "output_type": "display_data"
    }
   ],
   "source": [
    "all_tags <- salary_data |> group_by(tag) |> summarize(count=n())\n",
    "all_tags"
   ]
  },
  {
   "cell_type": "markdown",
   "id": "2e2b719e-852e-4b26-8bd8-0ceab8231479",
   "metadata": {},
   "source": [
    "### Method\n",
    "\n",
    "Work experience, Gender, Base Salary, and Bonus are the quantitative variables that we will use to predict the categorical variable Company. Initially, we'll use a filter to remove all rows containing NA and zeros, then we'll select the necessary four predictors and a predictor column. The data is then divided into training and testing sets. The training set is used to create recipes and fit models, while the test set is used to predict outcomes and determine accuracy and workflow analysis. At the same time, we will visualize the prediction results and the accuracy vs k of each predictor variable combination to better compare the prediction effect and accuracy.\n",
    "\n"
   ]
  },
  {
   "cell_type": "markdown",
   "id": "579779f0-ed52-4391-a74c-5ae25f51f825",
   "metadata": {},
   "source": [
    "### Expected outcomes and significance\n",
    "- What do you expect to find?\n",
    "In this project, we are expecting to find the most relavent perdictors that can impact the trajectory of compensation. \n",
    "This can vary from the years of experience to the role titles.\n",
    "- What impact could such findings have?\n",
    "The impact is impactful to the job market and the trajectory of the career path for the people who are currently searching for jobs and people who are interested in learning more about their career development. Those perdictors can be something to consider, when they are researching for opportunities. \n",
    "- What future questions could this lead to?\n",
    "As our dataset is not fully complete - some variables have high percentage of N/A, it will be helpful to refresh the survey in the near future to get more information. This can provide us with a clear understanding and stengthen the correlation of the variables. "
   ]
  },
  {
   "cell_type": "markdown",
   "id": "71b4ea25-9b50-424e-bad2-a77f351b6df0",
   "metadata": {},
   "source": [
    "Can you predict role title based on one's experience?\n",
    "For example: A person have 5 years of work exp. So this person is an engineer?\n",
    "\n",
    "What if we predict compensation based on:\n",
    "- yearsofexperience\n",
    "- location\n",
    "- role title\n",
    "- yearsatcompany\n",
    "- basesalary\n",
    "- \n",
    "\n",
    "The point is, the only code we have to put is the code for cleaning and wrangling\n",
    "\n",
    "RQ: Which predictor is the most impactful to predict the yearly compensation?\n",
    "1. Filter out the column with no data or no way to quantify, example: gender, observation class, etc.\n",
    "- Comment by a pessimistic: why do we not just filter out the NA instead of exclude the column?\n",
    "2. Use all the remaining predictors to do a forward selection (as in 6.8.3)\n",
    "3. Finally, make and tune a model to classify yearly compensation (?)\n",
    "- At this point, since we know which predictors are relevant and which is not, we can just predict role title, and the question at the beginning will be nullified"
   ]
  }
 ],
 "metadata": {
  "kernelspec": {
   "display_name": "R",
   "language": "R",
   "name": "ir"
  },
  "language_info": {
   "codemirror_mode": "r",
   "file_extension": ".r",
   "mimetype": "text/x-r-source",
   "name": "R",
   "pygments_lexer": "r",
   "version": "4.1.3"
  }
 },
 "nbformat": 4,
 "nbformat_minor": 5
}
