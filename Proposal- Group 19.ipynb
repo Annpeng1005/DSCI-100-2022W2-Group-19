{
 "cells": [
  {
   "cell_type": "code",
   "execution_count": null,
   "id": "9cc72d89-c1eb-4894-81db-646005f05edd",
   "metadata": {},
   "outputs": [],
   "source": []
  }
 ],
 "metadata": {
  "kernelspec": {
   "display_name": "R",
   "language": "R",
   "name": "ir"
  },
  "language_info": {
   "codemirror_mode": "r",
   "file_extension": ".r",
   "mimetype": "text/x-r-source",
   "name": "R",
   "pygments_lexer": "r",
   "version": "4.1.3"
  }
 },
 "nbformat": 4,
 "nbformat_minor": 5
}
