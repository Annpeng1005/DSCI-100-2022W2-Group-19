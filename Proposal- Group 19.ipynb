{
 "cells": [
  {
   "cell_type": "markdown",
   "id": "72c36fee-bfb9-4b8e-af20-da3e4ecbdb61",
   "metadata": {},
   "source": [
    "# Proposal\n",
    "\n",
    "## Title: \n",
    "\n",
    "### Introduction\n",
    "\n",
    "Data science and STEM careers are growing in popularity as more businesses leverage technological advances to solve challenges and streamline operations. Among them, students who are waiting for employment or employees who want to change careers are very curious about what can be the mean factors that impact the tracjectory of salaries and bonuses among the top 5 companies counts from our data. The purpose of the experiment was to determine the most relevant predictors from the data set to relate to the potential impact on a person's career in STEM and data science. This is to suggest that the job seekers can be more insightful and intentional with their development and career path. The dataset we will be working with is the \"Data Science and STEM Salary\" dataset from Kaggle, which contains information on numerous job titles and other criteria, and has 62,000 salary records from the leading organizations for this project. "
   ]
  },
  {
   "cell_type": "markdown",
   "id": "702a4eba-cad2-450d-bac1-42fe357308ad",
   "metadata": {},
   "source": [
    "### Preliminary exploratory data analysis"
   ]
  },
  {
   "cell_type": "markdown",
   "id": "3b2b9674-8e16-4a24-9490-82aedeb28a9c",
   "metadata": {},
   "source": [
    "First step of the preliminary exploratory data analysis is to clean and wrangle the data into tidy format. Therefore, before we start to write code for the process, we are going to load the library required for the data analysis."
   ]
  },
  {
   "cell_type": "code",
   "execution_count": 2,
   "id": "9cc72d89-c1eb-4894-81db-646005f05edd",
   "metadata": {},
   "outputs": [
    {
     "name": "stderr",
     "output_type": "stream",
     "text": [
      "── \u001b[1mAttaching packages\u001b[22m ─────────────────────────────────────── tidyverse 1.3.1 ──\n",
      "\n",
      "\u001b[32m✔\u001b[39m \u001b[34mggplot2\u001b[39m 3.3.6     \u001b[32m✔\u001b[39m \u001b[34mpurrr  \u001b[39m 0.3.4\n",
      "\u001b[32m✔\u001b[39m \u001b[34mtibble \u001b[39m 3.1.7     \u001b[32m✔\u001b[39m \u001b[34mdplyr  \u001b[39m 1.0.9\n",
      "\u001b[32m✔\u001b[39m \u001b[34mtidyr  \u001b[39m 1.2.0     \u001b[32m✔\u001b[39m \u001b[34mstringr\u001b[39m 1.4.0\n",
      "\u001b[32m✔\u001b[39m \u001b[34mreadr  \u001b[39m 2.1.2     \u001b[32m✔\u001b[39m \u001b[34mforcats\u001b[39m 0.5.1\n",
      "\n",
      "── \u001b[1mConflicts\u001b[22m ────────────────────────────────────────── tidyverse_conflicts() ──\n",
      "\u001b[31m✖\u001b[39m \u001b[34mdplyr\u001b[39m::\u001b[32mfilter()\u001b[39m masks \u001b[34mstats\u001b[39m::filter()\n",
      "\u001b[31m✖\u001b[39m \u001b[34mdplyr\u001b[39m::\u001b[32mlag()\u001b[39m    masks \u001b[34mstats\u001b[39m::lag()\n",
      "\n",
      "── \u001b[1mAttaching packages\u001b[22m ────────────────────────────────────── tidymodels 1.0.0 ──\n",
      "\n",
      "\u001b[32m✔\u001b[39m \u001b[34mbroom       \u001b[39m 1.0.0     \u001b[32m✔\u001b[39m \u001b[34mrsample     \u001b[39m 1.0.0\n",
      "\u001b[32m✔\u001b[39m \u001b[34mdials       \u001b[39m 1.0.0     \u001b[32m✔\u001b[39m \u001b[34mtune        \u001b[39m 1.0.0\n",
      "\u001b[32m✔\u001b[39m \u001b[34minfer       \u001b[39m 1.0.2     \u001b[32m✔\u001b[39m \u001b[34mworkflows   \u001b[39m 1.0.0\n",
      "\u001b[32m✔\u001b[39m \u001b[34mmodeldata   \u001b[39m 1.0.0     \u001b[32m✔\u001b[39m \u001b[34mworkflowsets\u001b[39m 1.0.0\n",
      "\u001b[32m✔\u001b[39m \u001b[34mparsnip     \u001b[39m 1.0.0     \u001b[32m✔\u001b[39m \u001b[34myardstick   \u001b[39m 1.0.0\n",
      "\u001b[32m✔\u001b[39m \u001b[34mrecipes     \u001b[39m 1.0.1     \n",
      "\n",
      "── \u001b[1mConflicts\u001b[22m ───────────────────────────────────────── tidymodels_conflicts() ──\n",
      "\u001b[31m✖\u001b[39m \u001b[34mscales\u001b[39m::\u001b[32mdiscard()\u001b[39m masks \u001b[34mpurrr\u001b[39m::discard()\n",
      "\u001b[31m✖\u001b[39m \u001b[34mdplyr\u001b[39m::\u001b[32mfilter()\u001b[39m   masks \u001b[34mstats\u001b[39m::filter()\n",
      "\u001b[31m✖\u001b[39m \u001b[34mrecipes\u001b[39m::\u001b[32mfixed()\u001b[39m  masks \u001b[34mstringr\u001b[39m::fixed()\n",
      "\u001b[31m✖\u001b[39m \u001b[34mdplyr\u001b[39m::\u001b[32mlag()\u001b[39m      masks \u001b[34mstats\u001b[39m::lag()\n",
      "\u001b[31m✖\u001b[39m \u001b[34myardstick\u001b[39m::\u001b[32mspec()\u001b[39m masks \u001b[34mreadr\u001b[39m::spec()\n",
      "\u001b[31m✖\u001b[39m \u001b[34mrecipes\u001b[39m::\u001b[32mstep()\u001b[39m   masks \u001b[34mstats\u001b[39m::step()\n",
      "\u001b[34m•\u001b[39m Use suppressPackageStartupMessages() to eliminate package startup messages\n",
      "\n"
     ]
    }
   ],
   "source": [
    "library(repr)\n",
    "library(tidyverse)\n",
    "library(tidymodels)\n",
    "options(repr.matrix.max.rows = 6)"
   ]
  },
  {
   "cell_type": "markdown",
   "id": "b04f3a01-4170-4739-8bc3-0f8344964b66",
   "metadata": {},
   "source": [
    "The data we are going to use for this project is about **Data Science and STEM Salaries** taken from **Kaggle**, with the link https://www.kaggle.com/datasets/jackogozaly/data-science-and-stem-salaries\n",
    "- Firstly, we download the data 'Levels_Fyi_Salary_Data.csv' from the link above. We can see the columns available for wrangling, the detail and brief explanation for each columns. These explanation will be important for dropping trivial columns for our analysis later on.\n",
    "- Next, we upload our data to the Jupyter Notebook in the 'data' folder.\n",
    "- After that, we opened the 'Levels_Fyi_Salary_Data.csv' to check that the data inside is in a comma-separated file format, with no header or additional information that might hinder the reading process.\n",
    "- Finally, we read the data using 'read_csv' and assign it to a variable named salary_data, as follows."
   ]
  },
  {
   "cell_type": "code",
   "execution_count": 4,
   "id": "164ca27f-1153-4d61-8d1c-a4bf7cc0bce4",
   "metadata": {},
   "outputs": [
    {
     "name": "stderr",
     "output_type": "stream",
     "text": [
      "\u001b[1mRows: \u001b[22m\u001b[34m62642\u001b[39m \u001b[1mColumns: \u001b[22m\u001b[34m29\u001b[39m\n",
      "\u001b[36m──\u001b[39m \u001b[1mColumn specification\u001b[22m \u001b[36m────────────────────────────────────────────────────────\u001b[39m\n",
      "\u001b[1mDelimiter:\u001b[22m \",\"\n",
      "\u001b[31mchr\u001b[39m (10): timestamp, company, level, title, location, tag, gender, otherdeta...\n",
      "\u001b[32mdbl\u001b[39m (19): totalyearlycompensation, yearsofexperience, yearsatcompany, basesa...\n",
      "\n",
      "\u001b[36mℹ\u001b[39m Use `spec()` to retrieve the full column specification for this data.\n",
      "\u001b[36mℹ\u001b[39m Specify the column types or set `show_col_types = FALSE` to quiet this message.\n"
     ]
    },
    {
     "data": {
      "text/html": [
       "<table class=\"dataframe\">\n",
       "<caption>A spec_tbl_df: 62642 × 29</caption>\n",
       "<thead>\n",
       "\t<tr><th scope=col>timestamp</th><th scope=col>company</th><th scope=col>level</th><th scope=col>title</th><th scope=col>totalyearlycompensation</th><th scope=col>location</th><th scope=col>yearsofexperience</th><th scope=col>yearsatcompany</th><th scope=col>tag</th><th scope=col>basesalary</th><th scope=col>⋯</th><th scope=col>Doctorate_Degree</th><th scope=col>Highschool</th><th scope=col>Some_College</th><th scope=col>Race_Asian</th><th scope=col>Race_White</th><th scope=col>Race_Two_Or_More</th><th scope=col>Race_Black</th><th scope=col>Race_Hispanic</th><th scope=col>Race</th><th scope=col>Education</th></tr>\n",
       "\t<tr><th scope=col>&lt;chr&gt;</th><th scope=col>&lt;chr&gt;</th><th scope=col>&lt;chr&gt;</th><th scope=col>&lt;chr&gt;</th><th scope=col>&lt;dbl&gt;</th><th scope=col>&lt;chr&gt;</th><th scope=col>&lt;dbl&gt;</th><th scope=col>&lt;dbl&gt;</th><th scope=col>&lt;chr&gt;</th><th scope=col>&lt;dbl&gt;</th><th scope=col>⋯</th><th scope=col>&lt;dbl&gt;</th><th scope=col>&lt;dbl&gt;</th><th scope=col>&lt;dbl&gt;</th><th scope=col>&lt;dbl&gt;</th><th scope=col>&lt;dbl&gt;</th><th scope=col>&lt;dbl&gt;</th><th scope=col>&lt;dbl&gt;</th><th scope=col>&lt;dbl&gt;</th><th scope=col>&lt;chr&gt;</th><th scope=col>&lt;chr&gt;</th></tr>\n",
       "</thead>\n",
       "<tbody>\n",
       "\t<tr><td>6/7/2017 11:33:27 </td><td>Oracle</td><td>L3  </td><td>Product Manager  </td><td>127000</td><td>Redwood City, CA </td><td>1.5</td><td>1.5</td><td>NA</td><td>107000</td><td>⋯</td><td>0</td><td>0</td><td>0</td><td>0</td><td>0</td><td>0</td><td>0</td><td>0</td><td>NA</td><td>NA</td></tr>\n",
       "\t<tr><td>6/10/2017 17:11:29</td><td>eBay  </td><td>SE 2</td><td>Software Engineer</td><td>100000</td><td>San Francisco, CA</td><td>5.0</td><td>3.0</td><td>NA</td><td>     0</td><td>⋯</td><td>0</td><td>0</td><td>0</td><td>0</td><td>0</td><td>0</td><td>0</td><td>0</td><td>NA</td><td>NA</td></tr>\n",
       "\t<tr><td>6/11/2017 14:53:57</td><td>Amazon</td><td>L7  </td><td>Product Manager  </td><td>310000</td><td>Seattle, WA      </td><td>8.0</td><td>0.0</td><td>NA</td><td>155000</td><td>⋯</td><td>0</td><td>0</td><td>0</td><td>0</td><td>0</td><td>0</td><td>0</td><td>0</td><td>NA</td><td>NA</td></tr>\n",
       "\t<tr><td>⋮</td><td>⋮</td><td>⋮</td><td>⋮</td><td>⋮</td><td>⋮</td><td>⋮</td><td>⋮</td><td>⋮</td><td>⋮</td><td>⋱</td><td>⋮</td><td>⋮</td><td>⋮</td><td>⋮</td><td>⋮</td><td>⋮</td><td>⋮</td><td>⋮</td><td>⋮</td><td>⋮</td></tr>\n",
       "\t<tr><td>9/13/2018 14:35:59</td><td>MSFT      </td><td>63      </td><td>Software Engineer</td><td>220000</td><td>Seattle, WA      </td><td>14</td><td>12</td><td>Full Stack</td><td>157000</td><td>⋯</td><td>0</td><td>0</td><td>0</td><td>0</td><td>0</td><td>0</td><td>0</td><td>0</td><td>NA</td><td>NA</td></tr>\n",
       "\t<tr><td>9/16/2018 16:10:35</td><td>Salesforce</td><td>Lead MTS</td><td>Software Engineer</td><td>280000</td><td>San Francisco, CA</td><td> 8</td><td> 4</td><td>iOS       </td><td>194688</td><td>⋯</td><td>0</td><td>0</td><td>0</td><td>0</td><td>0</td><td>0</td><td>0</td><td>0</td><td>NA</td><td>NA</td></tr>\n",
       "\t<tr><td>1/29/2019 5:12:59 </td><td>apple     </td><td>ict3    </td><td>Software Engineer</td><td>200000</td><td>Sunnyvale, CA    </td><td> 0</td><td> 0</td><td>ML / AI   </td><td>155000</td><td>⋯</td><td>0</td><td>0</td><td>0</td><td>0</td><td>0</td><td>0</td><td>0</td><td>0</td><td>NA</td><td>NA</td></tr>\n",
       "</tbody>\n",
       "</table>\n"
      ],
      "text/latex": [
       "A spec\\_tbl\\_df: 62642 × 29\n",
       "\\begin{tabular}{lllllllllllllllllllll}\n",
       " timestamp & company & level & title & totalyearlycompensation & location & yearsofexperience & yearsatcompany & tag & basesalary & ⋯ & Doctorate\\_Degree & Highschool & Some\\_College & Race\\_Asian & Race\\_White & Race\\_Two\\_Or\\_More & Race\\_Black & Race\\_Hispanic & Race & Education\\\\\n",
       " <chr> & <chr> & <chr> & <chr> & <dbl> & <chr> & <dbl> & <dbl> & <chr> & <dbl> & ⋯ & <dbl> & <dbl> & <dbl> & <dbl> & <dbl> & <dbl> & <dbl> & <dbl> & <chr> & <chr>\\\\\n",
       "\\hline\n",
       "\t 6/7/2017 11:33:27  & Oracle & L3   & Product Manager   & 127000 & Redwood City, CA  & 1.5 & 1.5 & NA & 107000 & ⋯ & 0 & 0 & 0 & 0 & 0 & 0 & 0 & 0 & NA & NA\\\\\n",
       "\t 6/10/2017 17:11:29 & eBay   & SE 2 & Software Engineer & 100000 & San Francisco, CA & 5.0 & 3.0 & NA &      0 & ⋯ & 0 & 0 & 0 & 0 & 0 & 0 & 0 & 0 & NA & NA\\\\\n",
       "\t 6/11/2017 14:53:57 & Amazon & L7   & Product Manager   & 310000 & Seattle, WA       & 8.0 & 0.0 & NA & 155000 & ⋯ & 0 & 0 & 0 & 0 & 0 & 0 & 0 & 0 & NA & NA\\\\\n",
       "\t ⋮ & ⋮ & ⋮ & ⋮ & ⋮ & ⋮ & ⋮ & ⋮ & ⋮ & ⋮ & ⋱ & ⋮ & ⋮ & ⋮ & ⋮ & ⋮ & ⋮ & ⋮ & ⋮ & ⋮ & ⋮\\\\\n",
       "\t 9/13/2018 14:35:59 & MSFT       & 63       & Software Engineer & 220000 & Seattle, WA       & 14 & 12 & Full Stack & 157000 & ⋯ & 0 & 0 & 0 & 0 & 0 & 0 & 0 & 0 & NA & NA\\\\\n",
       "\t 9/16/2018 16:10:35 & Salesforce & Lead MTS & Software Engineer & 280000 & San Francisco, CA &  8 &  4 & iOS        & 194688 & ⋯ & 0 & 0 & 0 & 0 & 0 & 0 & 0 & 0 & NA & NA\\\\\n",
       "\t 1/29/2019 5:12:59  & apple      & ict3     & Software Engineer & 200000 & Sunnyvale, CA     &  0 &  0 & ML / AI    & 155000 & ⋯ & 0 & 0 & 0 & 0 & 0 & 0 & 0 & 0 & NA & NA\\\\\n",
       "\\end{tabular}\n"
      ],
      "text/markdown": [
       "\n",
       "A spec_tbl_df: 62642 × 29\n",
       "\n",
       "| timestamp &lt;chr&gt; | company &lt;chr&gt; | level &lt;chr&gt; | title &lt;chr&gt; | totalyearlycompensation &lt;dbl&gt; | location &lt;chr&gt; | yearsofexperience &lt;dbl&gt; | yearsatcompany &lt;dbl&gt; | tag &lt;chr&gt; | basesalary &lt;dbl&gt; | ⋯ ⋯ | Doctorate_Degree &lt;dbl&gt; | Highschool &lt;dbl&gt; | Some_College &lt;dbl&gt; | Race_Asian &lt;dbl&gt; | Race_White &lt;dbl&gt; | Race_Two_Or_More &lt;dbl&gt; | Race_Black &lt;dbl&gt; | Race_Hispanic &lt;dbl&gt; | Race &lt;chr&gt; | Education &lt;chr&gt; |\n",
       "|---|---|---|---|---|---|---|---|---|---|---|---|---|---|---|---|---|---|---|---|---|\n",
       "| 6/7/2017 11:33:27  | Oracle | L3   | Product Manager   | 127000 | Redwood City, CA  | 1.5 | 1.5 | NA | 107000 | ⋯ | 0 | 0 | 0 | 0 | 0 | 0 | 0 | 0 | NA | NA |\n",
       "| 6/10/2017 17:11:29 | eBay   | SE 2 | Software Engineer | 100000 | San Francisco, CA | 5.0 | 3.0 | NA |      0 | ⋯ | 0 | 0 | 0 | 0 | 0 | 0 | 0 | 0 | NA | NA |\n",
       "| 6/11/2017 14:53:57 | Amazon | L7   | Product Manager   | 310000 | Seattle, WA       | 8.0 | 0.0 | NA | 155000 | ⋯ | 0 | 0 | 0 | 0 | 0 | 0 | 0 | 0 | NA | NA |\n",
       "| ⋮ | ⋮ | ⋮ | ⋮ | ⋮ | ⋮ | ⋮ | ⋮ | ⋮ | ⋮ | ⋱ | ⋮ | ⋮ | ⋮ | ⋮ | ⋮ | ⋮ | ⋮ | ⋮ | ⋮ | ⋮ |\n",
       "| 9/13/2018 14:35:59 | MSFT       | 63       | Software Engineer | 220000 | Seattle, WA       | 14 | 12 | Full Stack | 157000 | ⋯ | 0 | 0 | 0 | 0 | 0 | 0 | 0 | 0 | NA | NA |\n",
       "| 9/16/2018 16:10:35 | Salesforce | Lead MTS | Software Engineer | 280000 | San Francisco, CA |  8 |  4 | iOS        | 194688 | ⋯ | 0 | 0 | 0 | 0 | 0 | 0 | 0 | 0 | NA | NA |\n",
       "| 1/29/2019 5:12:59  | apple      | ict3     | Software Engineer | 200000 | Sunnyvale, CA     |  0 |  0 | ML / AI    | 155000 | ⋯ | 0 | 0 | 0 | 0 | 0 | 0 | 0 | 0 | NA | NA |\n",
       "\n"
      ],
      "text/plain": [
       "      timestamp          company    level    title            \n",
       "1     6/7/2017 11:33:27  Oracle     L3       Product Manager  \n",
       "2     6/10/2017 17:11:29 eBay       SE 2     Software Engineer\n",
       "3     6/11/2017 14:53:57 Amazon     L7       Product Manager  \n",
       "⋮     ⋮                  ⋮          ⋮        ⋮                \n",
       "62640 9/13/2018 14:35:59 MSFT       63       Software Engineer\n",
       "62641 9/16/2018 16:10:35 Salesforce Lead MTS Software Engineer\n",
       "62642 1/29/2019 5:12:59  apple      ict3     Software Engineer\n",
       "      totalyearlycompensation location          yearsofexperience\n",
       "1     127000                  Redwood City, CA  1.5              \n",
       "2     100000                  San Francisco, CA 5.0              \n",
       "3     310000                  Seattle, WA       8.0              \n",
       "⋮     ⋮                       ⋮                 ⋮                \n",
       "62640 220000                  Seattle, WA       14               \n",
       "62641 280000                  San Francisco, CA  8               \n",
       "62642 200000                  Sunnyvale, CA      0               \n",
       "      yearsatcompany tag        basesalary ⋯ Doctorate_Degree Highschool\n",
       "1     1.5            NA         107000     ⋯ 0                0         \n",
       "2     3.0            NA              0     ⋯ 0                0         \n",
       "3     0.0            NA         155000     ⋯ 0                0         \n",
       "⋮     ⋮              ⋮          ⋮          ⋱ ⋮                ⋮         \n",
       "62640 12             Full Stack 157000     ⋯ 0                0         \n",
       "62641  4             iOS        194688     ⋯ 0                0         \n",
       "62642  0             ML / AI    155000     ⋯ 0                0         \n",
       "      Some_College Race_Asian Race_White Race_Two_Or_More Race_Black\n",
       "1     0            0          0          0                0         \n",
       "2     0            0          0          0                0         \n",
       "3     0            0          0          0                0         \n",
       "⋮     ⋮            ⋮          ⋮          ⋮                ⋮         \n",
       "62640 0            0          0          0                0         \n",
       "62641 0            0          0          0                0         \n",
       "62642 0            0          0          0                0         \n",
       "      Race_Hispanic Race Education\n",
       "1     0             NA   NA       \n",
       "2     0             NA   NA       \n",
       "3     0             NA   NA       \n",
       "⋮     ⋮             ⋮    ⋮        \n",
       "62640 0             NA   NA       \n",
       "62641 0             NA   NA       \n",
       "62642 0             NA   NA       "
      ]
     },
     "metadata": {},
     "output_type": "display_data"
    }
   ],
   "source": [
    "salary_data <- read_csv(\"data/Levels_Fyi_Salary_Data.csv\")\n",
    "salary_data"
   ]
  },
  {
   "cell_type": "markdown",
   "id": "8930f285-2ba9-4010-98f8-0e4f1d3e8e48",
   "metadata": {},
   "source": [
    "Now, we look at the data, and we immediately notice that it is not yet in tidy format.\n",
    "Here are several things we need to "
   ]
  },
  {
   "cell_type": "code",
   "execution_count": 5,
   "id": "08d13146-5ff9-4d7c-9d24-231b15456b2a",
   "metadata": {},
   "outputs": [
    {
     "data": {
      "text/html": [
       "<table class=\"dataframe\">\n",
       "<caption>A tibble: 5 × 2</caption>\n",
       "<thead>\n",
       "\t<tr><th scope=col>company</th><th scope=col>count</th></tr>\n",
       "\t<tr><th scope=col>&lt;chr&gt;</th><th scope=col>&lt;int&gt;</th></tr>\n",
       "</thead>\n",
       "<tbody>\n",
       "\t<tr><td>Amazon   </td><td>8126</td></tr>\n",
       "\t<tr><td>Microsoft</td><td>5216</td></tr>\n",
       "\t<tr><td>Google   </td><td>4330</td></tr>\n",
       "\t<tr><td>Facebook </td><td>2990</td></tr>\n",
       "\t<tr><td>Apple    </td><td>2028</td></tr>\n",
       "</tbody>\n",
       "</table>\n"
      ],
      "text/latex": [
       "A tibble: 5 × 2\n",
       "\\begin{tabular}{ll}\n",
       " company & count\\\\\n",
       " <chr> & <int>\\\\\n",
       "\\hline\n",
       "\t Amazon    & 8126\\\\\n",
       "\t Microsoft & 5216\\\\\n",
       "\t Google    & 4330\\\\\n",
       "\t Facebook  & 2990\\\\\n",
       "\t Apple     & 2028\\\\\n",
       "\\end{tabular}\n"
      ],
      "text/markdown": [
       "\n",
       "A tibble: 5 × 2\n",
       "\n",
       "| company &lt;chr&gt; | count &lt;int&gt; |\n",
       "|---|---|\n",
       "| Amazon    | 8126 |\n",
       "| Microsoft | 5216 |\n",
       "| Google    | 4330 |\n",
       "| Facebook  | 2990 |\n",
       "| Apple     | 2028 |\n",
       "\n"
      ],
      "text/plain": [
       "  company   count\n",
       "1 Amazon    8126 \n",
       "2 Microsoft 5216 \n",
       "3 Google    4330 \n",
       "4 Facebook  2990 \n",
       "5 Apple     2028 "
      ]
     },
     "metadata": {},
     "output_type": "display_data"
    }
   ],
   "source": [
    "top_5_company_count <- salary_data |> group_by(company) |> summarize(count=n()) |> arrange(desc(count)) |> head(5)\n",
    "top_5_company_count"
   ]
  },
  {
   "cell_type": "code",
   "execution_count": 6,
   "id": "7b58147c-4b7c-43ef-9ed5-04a84a5e5a66",
   "metadata": {},
   "outputs": [
    {
     "data": {
      "text/html": [
       "<table class=\"dataframe\">\n",
       "<caption>A tibble: 15 × 2</caption>\n",
       "<thead>\n",
       "\t<tr><th scope=col>title</th><th scope=col>count</th></tr>\n",
       "\t<tr><th scope=col>&lt;chr&gt;</th><th scope=col>&lt;int&gt;</th></tr>\n",
       "</thead>\n",
       "<tbody>\n",
       "\t<tr><td>Business Analyst </td><td> 885</td></tr>\n",
       "\t<tr><td>Data Scientist   </td><td>2578</td></tr>\n",
       "\t<tr><td>Hardware Engineer</td><td>2200</td></tr>\n",
       "\t<tr><td>⋮</td><td>⋮</td></tr>\n",
       "\t<tr><td>Software Engineering Manager</td><td>3569</td></tr>\n",
       "\t<tr><td>Solution Architect          </td><td>1157</td></tr>\n",
       "\t<tr><td>Technical Program Manager   </td><td>1381</td></tr>\n",
       "</tbody>\n",
       "</table>\n"
      ],
      "text/latex": [
       "A tibble: 15 × 2\n",
       "\\begin{tabular}{ll}\n",
       " title & count\\\\\n",
       " <chr> & <int>\\\\\n",
       "\\hline\n",
       "\t Business Analyst  &  885\\\\\n",
       "\t Data Scientist    & 2578\\\\\n",
       "\t Hardware Engineer & 2200\\\\\n",
       "\t ⋮ & ⋮\\\\\n",
       "\t Software Engineering Manager & 3569\\\\\n",
       "\t Solution Architect           & 1157\\\\\n",
       "\t Technical Program Manager    & 1381\\\\\n",
       "\\end{tabular}\n"
      ],
      "text/markdown": [
       "\n",
       "A tibble: 15 × 2\n",
       "\n",
       "| title &lt;chr&gt; | count &lt;int&gt; |\n",
       "|---|---|\n",
       "| Business Analyst  |  885 |\n",
       "| Data Scientist    | 2578 |\n",
       "| Hardware Engineer | 2200 |\n",
       "| ⋮ | ⋮ |\n",
       "| Software Engineering Manager | 3569 |\n",
       "| Solution Architect           | 1157 |\n",
       "| Technical Program Manager    | 1381 |\n",
       "\n"
      ],
      "text/plain": [
       "   title                        count\n",
       "1  Business Analyst              885 \n",
       "2  Data Scientist               2578 \n",
       "3  Hardware Engineer            2200 \n",
       "⋮  ⋮                            ⋮    \n",
       "13 Software Engineering Manager 3569 \n",
       "14 Solution Architect           1157 \n",
       "15 Technical Program Manager    1381 "
      ]
     },
     "metadata": {},
     "output_type": "display_data"
    }
   ],
   "source": [
    "all_role_title <- salary_data |> group_by(title) |> summarize(count=n())\n",
    "all_role_title"
   ]
  },
  {
   "cell_type": "code",
   "execution_count": 7,
   "id": "09c8ea00-6636-4439-ac09-30ebc33620d3",
   "metadata": {},
   "outputs": [
    {
     "data": {
      "text/html": [
       "<table class=\"dataframe\">\n",
       "<caption>A tibble: 1050 × 2</caption>\n",
       "<thead>\n",
       "\t<tr><th scope=col>location</th><th scope=col>count</th></tr>\n",
       "\t<tr><th scope=col>&lt;chr&gt;</th><th scope=col>&lt;int&gt;</th></tr>\n",
       "</thead>\n",
       "<tbody>\n",
       "\t<tr><td>Aachen, NW, Germany        </td><td>3</td></tr>\n",
       "\t<tr><td>Aarhus, AR, Denmark        </td><td>5</td></tr>\n",
       "\t<tr><td>Aberdeen Proving Ground, MD</td><td>1</td></tr>\n",
       "\t<tr><td>⋮</td><td>⋮</td></tr>\n",
       "\t<tr><td>Zaragoza, AR, Spain    </td><td>  3</td></tr>\n",
       "\t<tr><td>Zug, ZG, Switzerland   </td><td>  1</td></tr>\n",
       "\t<tr><td>Zurich, ZH, Switzerland</td><td>172</td></tr>\n",
       "</tbody>\n",
       "</table>\n"
      ],
      "text/latex": [
       "A tibble: 1050 × 2\n",
       "\\begin{tabular}{ll}\n",
       " location & count\\\\\n",
       " <chr> & <int>\\\\\n",
       "\\hline\n",
       "\t Aachen, NW, Germany         & 3\\\\\n",
       "\t Aarhus, AR, Denmark         & 5\\\\\n",
       "\t Aberdeen Proving Ground, MD & 1\\\\\n",
       "\t ⋮ & ⋮\\\\\n",
       "\t Zaragoza, AR, Spain     &   3\\\\\n",
       "\t Zug, ZG, Switzerland    &   1\\\\\n",
       "\t Zurich, ZH, Switzerland & 172\\\\\n",
       "\\end{tabular}\n"
      ],
      "text/markdown": [
       "\n",
       "A tibble: 1050 × 2\n",
       "\n",
       "| location &lt;chr&gt; | count &lt;int&gt; |\n",
       "|---|---|\n",
       "| Aachen, NW, Germany         | 3 |\n",
       "| Aarhus, AR, Denmark         | 5 |\n",
       "| Aberdeen Proving Ground, MD | 1 |\n",
       "| ⋮ | ⋮ |\n",
       "| Zaragoza, AR, Spain     |   3 |\n",
       "| Zug, ZG, Switzerland    |   1 |\n",
       "| Zurich, ZH, Switzerland | 172 |\n",
       "\n"
      ],
      "text/plain": [
       "     location                    count\n",
       "1    Aachen, NW, Germany         3    \n",
       "2    Aarhus, AR, Denmark         5    \n",
       "3    Aberdeen Proving Ground, MD 1    \n",
       "⋮    ⋮                           ⋮    \n",
       "1048 Zaragoza, AR, Spain           3  \n",
       "1049 Zug, ZG, Switzerland          1  \n",
       "1050 Zurich, ZH, Switzerland     172  "
      ]
     },
     "metadata": {},
     "output_type": "display_data"
    }
   ],
   "source": [
    "all_location <- salary_data |> group_by(location) |> summarize(count=n())\n",
    "all_location"
   ]
  },
  {
   "cell_type": "code",
   "execution_count": 8,
   "id": "0104ccf1-367c-4a5f-b1cd-0cf64686c74a",
   "metadata": {},
   "outputs": [
    {
     "data": {
      "text/html": [
       "<table class=\"dataframe\">\n",
       "<caption>A tibble: 3062 × 2</caption>\n",
       "<thead>\n",
       "\t<tr><th scope=col>tag</th><th scope=col>count</th></tr>\n",
       "\t<tr><th scope=col>&lt;chr&gt;</th><th scope=col>&lt;int&gt;</th></tr>\n",
       "</thead>\n",
       "<tbody>\n",
       "\t<tr><td>--  </td><td>5</td></tr>\n",
       "\t<tr><td>??  </td><td>2</td></tr>\n",
       "\t<tr><td>.NET</td><td>1</td></tr>\n",
       "\t<tr><td>⋮</td><td>⋮</td></tr>\n",
       "\t<tr><td>YouTube  </td><td>  1</td></tr>\n",
       "\t<tr><td>Z Systems</td><td>  1</td></tr>\n",
       "\t<tr><td>NA       </td><td>808</td></tr>\n",
       "</tbody>\n",
       "</table>\n"
      ],
      "text/latex": [
       "A tibble: 3062 × 2\n",
       "\\begin{tabular}{ll}\n",
       " tag & count\\\\\n",
       " <chr> & <int>\\\\\n",
       "\\hline\n",
       "\t --   & 5\\\\\n",
       "\t ??   & 2\\\\\n",
       "\t .NET & 1\\\\\n",
       "\t ⋮ & ⋮\\\\\n",
       "\t YouTube   &   1\\\\\n",
       "\t Z Systems &   1\\\\\n",
       "\t NA        & 808\\\\\n",
       "\\end{tabular}\n"
      ],
      "text/markdown": [
       "\n",
       "A tibble: 3062 × 2\n",
       "\n",
       "| tag &lt;chr&gt; | count &lt;int&gt; |\n",
       "|---|---|\n",
       "| --   | 5 |\n",
       "| ??   | 2 |\n",
       "| .NET | 1 |\n",
       "| ⋮ | ⋮ |\n",
       "| YouTube   |   1 |\n",
       "| Z Systems |   1 |\n",
       "| NA        | 808 |\n",
       "\n"
      ],
      "text/plain": [
       "     tag       count\n",
       "1    --        5    \n",
       "2    ??        2    \n",
       "3    .NET      1    \n",
       "⋮    ⋮         ⋮    \n",
       "3060 YouTube     1  \n",
       "3061 Z Systems   1  \n",
       "3062 NA        808  "
      ]
     },
     "metadata": {},
     "output_type": "display_data"
    }
   ],
   "source": [
    "all_tags <- salary_data |> group_by(tag) |> summarize(count=n())\n",
    "all_tags"
   ]
  },
  {
   "cell_type": "markdown",
   "id": "2e2b719e-852e-4b26-8bd8-0ceab8231479",
   "metadata": {},
   "source": [
    "### Method\n",
    "\n",
    "Work experience, Gender, Base Salary, and Bonus are the quantitative variables that we will use to predict the categorical variable Company. Initially, we'll use a filter to remove all rows containing NA and zeros, then we'll select the necessary four predictors and a predictor column. The data is then divided into training and testing sets. The training set is used to create recipes and fit models, while the test set is used to predict outcomes and determine accuracy and workflow analysis. At the same time, we will visualize the prediction results and the accuracy vs k of each predictor variable combination to better compare the prediction effect and accuracy.\n",
    "\n"
   ]
  },
  {
   "cell_type": "markdown",
   "id": "579779f0-ed52-4391-a74c-5ae25f51f825",
   "metadata": {},
   "source": [
    "### Expected outcomes and significance\n",
    "- What do you expect to find?\n",
    "In this project, we are expecting to find the most relavent perdictors that can impact the trajectory of compensation. \n",
    "This can vary from the years of experience to the role titles.\n",
    "- What impact could such findings have?\n",
    "The impact is impactful to the job market and the trajectory of the career path for the people who are currently searching for jobs and people who are interested in learning more about their career development. Those perdictors can be something to consider, when they are researching for opportunities. \n",
    "- What future questions could this lead to?\n",
    "As our dataset is not fully complete - some variables have high percentage of N/A, it will be helpful to refresh the survey in the near future to get more information. This can provide us with a clear understanding and stengthen the correlation of the variables. "
   ]
  },
  {
   "cell_type": "markdown",
   "id": "71b4ea25-9b50-424e-bad2-a77f351b6df0",
   "metadata": {},
   "source": [
    "Can you predict role title based on one's experience?\n",
    "For example: A person have 5 years of work exp. So this person is an engineer?\n",
    "\n",
    "What if we predict compensation based on:\n",
    "- yearsofexperience\n",
    "- location\n",
    "- role title\n",
    "- yearsatcompany\n",
    "- basesalary\n",
    "- \n",
    "\n",
    "The point is, the only code we have to put is the code for cleaning and wrangling\n",
    "\n",
    "RQ: Which predictor is the most impactful to predict the yearly compensation?\n",
    "1. Filter out the column with no data or no way to quantify, example: gender, observation class, etc.\n",
    "- Comment by a pessimistic: why do we not just filter out the NA instead of exclude the column?\n",
    "2. Use all the remaining predictors to do a forward selection (as in 6.8.3)\n",
    "3. Finally, make and tune a model to classify yearly compensation (?)\n",
    "- At this point, since we know which predictors are relevant and which is not, we can just predict role title, and the question at the beginning will be nullified"
   ]
  }
 ],
 "metadata": {
  "kernelspec": {
   "display_name": "R",
   "language": "R",
   "name": "ir"
  },
  "language_info": {
   "codemirror_mode": "r",
   "file_extension": ".r",
   "mimetype": "text/x-r-source",
   "name": "R",
   "pygments_lexer": "r",
   "version": "4.1.3"
  }
 },
 "nbformat": 4,
 "nbformat_minor": 5
}
