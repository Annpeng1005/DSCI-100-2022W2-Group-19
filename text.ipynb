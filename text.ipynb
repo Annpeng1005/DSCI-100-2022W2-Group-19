{
 "cells": [
  {
   "cell_type": "markdown",
   "id": "78e60764-1270-44b1-9686-f889b10c4ea2",
   "metadata": {},
   "source": [
    "# Proposal\n",
    "\n",
    "## Title: \n",
    "\n",
    "### Introduction\n",
    "\n",
    "Data science and STEM careers are growing in popularity as more businesses leverage technological advances to solve challenges and streamline operations. Among them, students who are waiting for employment or employees who want to change careers are very curious about whether different companies have different requirements for gender and work experience, and whether salaries and bonuses vary from company to company. The purpose of the experiment was to determine which combination of three predictors out of four predictors \"years at work,\" \"gender,\" \"base salary,\" and \"bonus\" most accurately predicted a person's career in STEM and data science In order to provide application suggestions for job seekers with different work experience and salary expectations. The dataset we will be working with is the \"Data Science and STEM Salary\" dataset, which contains information on numerous job titles and other criteria, and has 62,000 salary records from the leading organizations for this project.\n",
    "\n",
    "### Preliminary exploratory data analysis\n",
    "\n",
    "### Method\n",
    "\n",
    "Work experience, Gender, Base Salary, and Bonus are the quantitative variables that we will use to predict the categorical variable Company. Initially, we'll use a filter to remove all rows containing NA and zeros, then we'll select the necessary four predictors and a predictor column. The data is then divided into training and testing sets. The training set is used to create recipes and fit models, while the test set is used to predict outcomes and determine accuracy and workflow analysis. At the same time, we will visualize the prediction results and the accuracy vs k of each predictor variable combination to better compare the prediction effect and accuracy.\n",
    "\n",
    "### Expected outcomes and significance"
   ]
  },
  {
   "cell_type": "code",
   "execution_count": null,
   "id": "3e93cd71-7c62-4e8f-845b-89819c7653ba",
   "metadata": {},
   "outputs": [],
   "source": []
  }
 ],
 "metadata": {
  "kernelspec": {
   "display_name": "",
   "name": ""
  },
  "language_info": {
   "name": ""
  }
 },
 "nbformat": 4,
 "nbformat_minor": 5
}
